{
 "cells": [
  {
   "cell_type": "code",
   "execution_count": 122,
   "metadata": {},
   "outputs": [],
   "source": [
    "import pandas as pd\n",
    "import numpy as np"
   ]
  },
  {
   "cell_type": "code",
   "execution_count": 123,
   "metadata": {},
   "outputs": [
    {
     "data": {
      "text/html": [
       "<div>\n",
       "<style scoped>\n",
       "    .dataframe tbody tr th:only-of-type {\n",
       "        vertical-align: middle;\n",
       "    }\n",
       "\n",
       "    .dataframe tbody tr th {\n",
       "        vertical-align: top;\n",
       "    }\n",
       "\n",
       "    .dataframe thead th {\n",
       "        text-align: right;\n",
       "    }\n",
       "</style>\n",
       "<table border=\"1\" class=\"dataframe\">\n",
       "  <thead>\n",
       "    <tr style=\"text-align: right;\">\n",
       "      <th></th>\n",
       "      <th>RACE</th>\n",
       "      <th>ETHNICITY</th>\n",
       "      <th>GENDER</th>\n",
       "      <th>Body Weight</th>\n",
       "      <th>Heart rate</th>\n",
       "      <th>Oxygen saturation in Arterial blood</th>\n",
       "      <th>Respiratory rate</th>\n",
       "      <th>CONDITIONS</th>\n",
       "      <th>AGE</th>\n",
       "      <th>DEATH_EVENT</th>\n",
       "      <th>MAP</th>\n",
       "      <th>MEDICATIONS</th>\n",
       "      <th>PROCEDURES</th>\n",
       "    </tr>\n",
       "  </thead>\n",
       "  <tbody>\n",
       "    <tr>\n",
       "      <th>0</th>\n",
       "      <td>white</td>\n",
       "      <td>nonhispanic</td>\n",
       "      <td>F</td>\n",
       "      <td>8.3</td>\n",
       "      <td>136.5</td>\n",
       "      <td>78.6</td>\n",
       "      <td>14.0</td>\n",
       "      <td>Pneumonia (disorder),Hypoxemia (disorder),Resp...</td>\n",
       "      <td>0</td>\n",
       "      <td>False</td>\n",
       "      <td>93.333333</td>\n",
       "      <td>0.4 ML Enoxaparin sodium 100 MG/ML Prefilled S...</td>\n",
       "      <td>Plain chest X-ray (procedure),Oxygen administr...</td>\n",
       "    </tr>\n",
       "    <tr>\n",
       "      <th>1</th>\n",
       "      <td>white</td>\n",
       "      <td>nonhispanic</td>\n",
       "      <td>F</td>\n",
       "      <td>74.6</td>\n",
       "      <td>89.8</td>\n",
       "      <td>88.9</td>\n",
       "      <td>21.3</td>\n",
       "      <td>Pneumonia (disorder),Hypoxemia (disorder),Resp...</td>\n",
       "      <td>36</td>\n",
       "      <td>False</td>\n",
       "      <td>94.000000</td>\n",
       "      <td>0.4 ML Enoxaparin sodium 100 MG/ML Prefilled S...</td>\n",
       "      <td>Plain chest X-ray (procedure),Oxygen administr...</td>\n",
       "    </tr>\n",
       "    <tr>\n",
       "      <th>2</th>\n",
       "      <td>white</td>\n",
       "      <td>nonhispanic</td>\n",
       "      <td>F</td>\n",
       "      <td>76.5</td>\n",
       "      <td>130.8</td>\n",
       "      <td>76.9</td>\n",
       "      <td>37.1</td>\n",
       "      <td>Pneumonia (disorder),Hypoxemia (disorder),Resp...</td>\n",
       "      <td>60</td>\n",
       "      <td>False</td>\n",
       "      <td>92.666667</td>\n",
       "      <td>0.4 ML Enoxaparin sodium 100 MG/ML Prefilled S...</td>\n",
       "      <td>Plain chest X-ray (procedure),Oxygen administr...</td>\n",
       "    </tr>\n",
       "    <tr>\n",
       "      <th>3</th>\n",
       "      <td>white</td>\n",
       "      <td>nonhispanic</td>\n",
       "      <td>F</td>\n",
       "      <td>85.9</td>\n",
       "      <td>136.5</td>\n",
       "      <td>78.9</td>\n",
       "      <td>14.9</td>\n",
       "      <td>Pneumonia (disorder),Hypoxemia (disorder),Resp...</td>\n",
       "      <td>61</td>\n",
       "      <td>False</td>\n",
       "      <td>86.666667</td>\n",
       "      <td>0.4 ML Enoxaparin sodium 100 MG/ML Prefilled S...</td>\n",
       "      <td>Plain chest X-ray (procedure),Oxygen administr...</td>\n",
       "    </tr>\n",
       "    <tr>\n",
       "      <th>4</th>\n",
       "      <td>white</td>\n",
       "      <td>hispanic</td>\n",
       "      <td>M</td>\n",
       "      <td>87.7</td>\n",
       "      <td>194.2</td>\n",
       "      <td>86.9</td>\n",
       "      <td>24.2</td>\n",
       "      <td>Pneumonia (disorder),Hypoxemia (disorder),Resp...</td>\n",
       "      <td>32</td>\n",
       "      <td>False</td>\n",
       "      <td>88.333333</td>\n",
       "      <td>0.4 ML Enoxaparin sodium 100 MG/ML Prefilled S...</td>\n",
       "      <td>Plain chest X-ray (procedure),Oxygen administr...</td>\n",
       "    </tr>\n",
       "  </tbody>\n",
       "</table>\n",
       "</div>"
      ],
      "text/plain": [
       "    RACE    ETHNICITY GENDER  Body Weight  Heart rate  \\\n",
       "0  white  nonhispanic      F          8.3       136.5   \n",
       "1  white  nonhispanic      F         74.6        89.8   \n",
       "2  white  nonhispanic      F         76.5       130.8   \n",
       "3  white  nonhispanic      F         85.9       136.5   \n",
       "4  white     hispanic      M         87.7       194.2   \n",
       "\n",
       "   Oxygen saturation in Arterial blood  Respiratory rate  \\\n",
       "0                                 78.6              14.0   \n",
       "1                                 88.9              21.3   \n",
       "2                                 76.9              37.1   \n",
       "3                                 78.9              14.9   \n",
       "4                                 86.9              24.2   \n",
       "\n",
       "                                          CONDITIONS  AGE  DEATH_EVENT  \\\n",
       "0  Pneumonia (disorder),Hypoxemia (disorder),Resp...    0        False   \n",
       "1  Pneumonia (disorder),Hypoxemia (disorder),Resp...   36        False   \n",
       "2  Pneumonia (disorder),Hypoxemia (disorder),Resp...   60        False   \n",
       "3  Pneumonia (disorder),Hypoxemia (disorder),Resp...   61        False   \n",
       "4  Pneumonia (disorder),Hypoxemia (disorder),Resp...   32        False   \n",
       "\n",
       "         MAP                                        MEDICATIONS  \\\n",
       "0  93.333333  0.4 ML Enoxaparin sodium 100 MG/ML Prefilled S...   \n",
       "1  94.000000  0.4 ML Enoxaparin sodium 100 MG/ML Prefilled S...   \n",
       "2  92.666667  0.4 ML Enoxaparin sodium 100 MG/ML Prefilled S...   \n",
       "3  86.666667  0.4 ML Enoxaparin sodium 100 MG/ML Prefilled S...   \n",
       "4  88.333333  0.4 ML Enoxaparin sodium 100 MG/ML Prefilled S...   \n",
       "\n",
       "                                          PROCEDURES  \n",
       "0  Plain chest X-ray (procedure),Oxygen administr...  \n",
       "1  Plain chest X-ray (procedure),Oxygen administr...  \n",
       "2  Plain chest X-ray (procedure),Oxygen administr...  \n",
       "3  Plain chest X-ray (procedure),Oxygen administr...  \n",
       "4  Plain chest X-ray (procedure),Oxygen administr...  "
      ]
     },
     "execution_count": 123,
     "metadata": {},
     "output_type": "execute_result"
    }
   ],
   "source": [
    "final_df = pd.read_csv('final_df.csv')\n",
    "\n",
    "final_df.head()"
   ]
  },
  {
   "cell_type": "markdown",
   "metadata": {},
   "source": [
    "# Feature Engineering\n",
    "Converting numerical features to categorical features suitable for processing by LLM. "
   ]
  },
  {
   "cell_type": "code",
   "execution_count": 124,
   "metadata": {},
   "outputs": [
    {
     "data": {
      "text/plain": [
       "GENDER\n",
       "female    1183\n",
       "male      1061\n",
       "Name: count, dtype: int64"
      ]
     },
     "execution_count": 124,
     "metadata": {},
     "output_type": "execute_result"
    }
   ],
   "source": [
    "# Change values of M and F to female and male \n",
    "final_df['GENDER'] = final_df['GENDER'].replace({'M': 'male', 'F': 'female'})\n",
    "\n",
    "# Value counts for GENDER\n",
    "final_df['GENDER'].value_counts()\n",
    "\n"
   ]
  },
  {
   "cell_type": "code",
   "execution_count": 125,
   "metadata": {},
   "outputs": [
    {
     "data": {
      "text/plain": [
       "AGE\n",
       "adult      1304\n",
       "elderly     671\n",
       "youth       169\n",
       "child        66\n",
       "infant       34\n",
       "Name: count, dtype: int64"
      ]
     },
     "execution_count": 125,
     "metadata": {},
     "output_type": "execute_result"
    }
   ],
   "source": [
    "# Change the numerical values of age to age categories according to the WHO guidelines\n",
    "final_df['AGE'] = pd.cut(final_df['AGE'], bins=[-1, 5, 15, 25, 65, 120], labels=['infant', 'child', 'youth', 'adult', 'elderly'])\n",
    "\n",
    "# Value counts for AGE\n",
    "final_df['AGE'].value_counts()\n",
    "\n"
   ]
  },
  {
   "cell_type": "code",
   "execution_count": 126,
   "metadata": {},
   "outputs": [
    {
     "data": {
      "text/plain": [
       "MAP\n",
       "elevated                1385\n",
       "hypertension stage 1     643\n",
       "normal                    96\n",
       "hypertensive crisis       70\n",
       "hypertension stage 2      50\n",
       "Name: count, dtype: int64"
      ]
     },
     "execution_count": 126,
     "metadata": {},
     "output_type": "execute_result"
    }
   ],
   "source": [
    "# Change the numerical values of MAP to categories according to the WHO guidelines\n",
    "final_df['MAP'] = pd.cut(final_df['MAP'], bins=[0, 85, 95, 110, 125, 145], labels=['normal', 'elevated', 'hypertension stage 1', 'hypertension stage 2', 'hypertensive crisis'])\n",
    "\n",
    "# Value counts for MAP\n",
    "final_df['MAP'].value_counts()"
   ]
  },
  {
   "cell_type": "code",
   "execution_count": 127,
   "metadata": {},
   "outputs": [
    {
     "data": {
      "text/plain": [
       "Body Weight\n",
       "overweight       1359\n",
       "obese             537\n",
       "normal weight     297\n",
       "underweight         9\n",
       "Name: count, dtype: int64"
      ]
     },
     "execution_count": 127,
     "metadata": {},
     "output_type": "execute_result"
    }
   ],
   "source": [
    "# Change the numerical values of body weight to categories based on their age group\n",
    "final_df['Body Weight'] = np.where(final_df['AGE'] == 'infant', pd.cut(final_df['Body Weight'], bins=[-1, 4, 10, 20, 30], labels=['underweight', 'normal weight', 'overweight', 'obese']),\n",
    "                    np.where(final_df['AGE'] == 'child', pd.cut(final_df['Body Weight'], bins=[-1, 10, 20, 40, 60], labels=['underweight', 'normal weight', 'overweight', 'obese']),\n",
    "                    np.where(final_df['AGE'] == 'youth', pd.cut(final_df['Body Weight'], bins=[-1, 50, 70, 90, 110], labels=['underweight', 'normal weight', 'overweight', 'obese']),\n",
    "                    np.where(final_df['AGE'] == 'adult', pd.cut(final_df['Body Weight'], bins=[-1, 50, 70, 90, 110], labels=['underweight', 'normal weight', 'overweight', 'obese']),\n",
    "                    np.where(final_df['AGE'] == 'elderly', pd.cut(final_df['Body Weight'], bins=[-1, 50, 70, 90, 110], labels=['underweight', 'normal weight', 'overweight', 'obese']), None)))))\n",
    "\n",
    "# Value counts for Body Weight\n",
    "final_df['Body Weight'].value_counts()\n",
    "\n"
   ]
  },
  {
   "cell_type": "code",
   "execution_count": 128,
   "metadata": {},
   "outputs": [
    {
     "data": {
      "text/plain": [
       "Heart rate\n",
       "severe tachycardia    1215\n",
       "normal                 593\n",
       "mild tachycardia       273\n",
       "bradycardia            150\n",
       "severe bradycardia      13\n",
       "Name: count, dtype: int64"
      ]
     },
     "execution_count": 128,
     "metadata": {},
     "output_type": "execute_result"
    }
   ],
   "source": [
    "# Change the numerical values of heart rate to categories based on their age group\n",
    "final_df['Heart rate'] = np.where(final_df['AGE'] == 'infant', pd.cut(final_df['Heart rate'], bins=[-1, 80, 100, 160, 180, 200], labels=['severe bradycardia', 'bradycardia', 'normal', 'mild tachycardia', 'severe tachycardia']),\n",
    "                    np.where(final_df['AGE'] == 'child', pd.cut(final_df['Heart rate'], bins=[-1, 60, 70, 120, 140, 200], labels=['severe bradycardia', 'bradycardia', 'normal', 'mild tachycardia', 'severe tachycardia']),\n",
    "                    np.where(final_df['AGE'] == 'youth', pd.cut(final_df['Heart rate'], bins=[-1, 50, 60, 100, 120, 200], labels=['severe bradycardia', 'bradycardia', 'normal', 'mild tachycardia', 'severe tachycardia']),\n",
    "                    np.where(final_df['AGE'] == 'adult', pd.cut(final_df['Heart rate'], bins=[-1, 50, 60, 100, 120, 200], labels=['severe bradycardia', 'bradycardia', 'normal', 'mild tachycardia', 'severe tachycardia']),\n",
    "                    np.where(final_df['AGE'] == 'elderly', pd.cut(final_df['Heart rate'], bins=[-1, 50, 60, 100, 120, 200], labels=['severe bradycardia', 'bradycardia', 'normal', 'mild tachycardia', 'severe tachycardia']), None)))))\n",
    "\n",
    "# Value counts for Heart rate\n",
    "final_df['Heart rate'].value_counts()"
   ]
  },
  {
   "cell_type": "code",
   "execution_count": 129,
   "metadata": {},
   "outputs": [
    {
     "data": {
      "text/plain": [
       "Oxygen saturation in Arterial blood\n",
       "severe hypoxemia      1580\n",
       "moderate hypoxemia     664\n",
       "normal                   0\n",
       "hyperoxemia              0\n",
       "Name: count, dtype: int64"
      ]
     },
     "execution_count": 129,
     "metadata": {},
     "output_type": "execute_result"
    }
   ],
   "source": [
    "# Change the numerical values of oxygen saturation to categories according to the WHO guidelines with more detailed hypoxemia grades\n",
    "final_df['Oxygen saturation in Arterial blood'] = pd.cut(final_df['Oxygen saturation in Arterial blood'], \n",
    "                                                        bins=[-1, 85, 90, 95, 100], \n",
    "                                                        labels=['severe hypoxemia', 'moderate hypoxemia', 'normal', 'hyperoxemia'])\n",
    "\n",
    "# Value counts for Oxygen saturation in Arterial blood\n",
    "final_df['Oxygen saturation in Arterial blood'].value_counts()\n"
   ]
  },
  {
   "cell_type": "code",
   "execution_count": 130,
   "metadata": {},
   "outputs": [
    {
     "data": {
      "text/plain": [
       "Respiratory rate\n",
       "tachypnea    1587\n",
       "normal        611\n",
       "bradypnea      46\n",
       "Name: count, dtype: int64"
      ]
     },
     "execution_count": 130,
     "metadata": {},
     "output_type": "execute_result"
    }
   ],
   "source": [
    "# Change the numerical values of respiratory rate to categories based on their age group\n",
    "final_df['Respiratory rate'] = np.where(final_df['AGE'] == 'infant', pd.cut(final_df['Respiratory rate'], bins=[-1, 30, 40, 60], labels=['bradypnea', 'normal', 'tachypnea']),\n",
    "                    np.where(final_df['AGE'] == 'child', pd.cut(final_df['Respiratory rate'], bins=[-1, 20, 30, 40], labels=['bradypnea', 'normal', 'tachypnea']),\n",
    "                    np.where(final_df['AGE'] == 'youth', pd.cut(final_df['Respiratory rate'], bins=[-1, 12, 20, 40], labels=['bradypnea', 'normal', 'tachypnea']),\n",
    "                    np.where(final_df['AGE'] == 'adult', pd.cut(final_df['Respiratory rate'], bins=[-1, 12, 20, 40], labels=['bradypnea', 'normal', 'tachypnea']),\n",
    "                    np.where(final_df['AGE'] == 'elderly', pd.cut(final_df['Respiratory rate'], bins=[-1, 12, 20, 40], labels=['bradypnea', 'normal', 'tachypnea']), None)))))\n",
    "\n",
    "# Value counts for Respiratory rate\n",
    "final_df['Respiratory rate'].value_counts()"
   ]
  },
  {
   "cell_type": "code",
   "execution_count": 131,
   "metadata": {},
   "outputs": [],
   "source": [
    "# Ensure all features here are type string \n",
    "final_df = final_df.astype(str)"
   ]
  },
  {
   "cell_type": "code",
   "execution_count": 132,
   "metadata": {},
   "outputs": [
    {
     "data": {
      "text/plain": [
       "'Patient is a infant white nonhispanic female. They have a blood pressure that is elevated. Their body weight is normal weight. Their heart rate is normal and their oxygen saturation is severe hypoxemia. Their respiratory rate is bradypnea. The list of conditions they have are: Pneumonia (disorder),Hypoxemia (disorder),Respiratory distress (finding),Acute pulmonary embolism (disorder). The list of medications they are on are: 0.4 ML Enoxaparin sodium 100 MG/ML Prefilled Syringe,NDA020503 200 ACTUAT Albuterol 0.09 MG/ACTUAT Metered Dose Inhaler,Acetaminophen 500 MG Oral Tablet,1 ML Enoxaparin sodium 150 MG/ML Prefilled Syringe. The list of procedures they have had are: Plain chest X-ray (procedure),Oxygen administration by mask (procedure),Placing subject in prone position (procedure)'"
      ]
     },
     "execution_count": 132,
     "metadata": {},
     "output_type": "execute_result"
    }
   ],
   "source": [
    "# Concatenate all the features into a single string for each row \n",
    "final_df['COMBINED'] = 'Patient is a ' + final_df['AGE'] + ' ' + final_df['RACE'] + ' ' + final_df['ETHNICITY'] + ' ' + final_df['GENDER']\n",
    "final_df['COMBINED'] = final_df['COMBINED'] + '. They have a blood pressure that is ' + final_df['MAP'] + '. Their body weight is ' + final_df['Body Weight']\n",
    "final_df['COMBINED'] = final_df['COMBINED'] + '. Their heart rate is ' + final_df['Heart rate'] + ' and their oxygen saturation is ' + final_df['Oxygen saturation in Arterial blood']\n",
    "final_df['COMBINED'] = final_df['COMBINED'] + '. Their respiratory rate is ' + final_df['Respiratory rate']\n",
    "final_df['COMBINED'] = final_df['COMBINED'] + '. The list of conditions they have are: ' + final_df['CONDITIONS']\n",
    "final_df['COMBINED'] = final_df['COMBINED'] + '. The list of medications they are on are: ' + final_df['MEDICATIONS']\n",
    "final_df['COMBINED'] = final_df['COMBINED'] + '. The list of procedures they have had are: ' + final_df['PROCEDURES']\n",
    "\n",
    "# print an example of the combined features\n",
    "final_df['COMBINED'].iloc[0]"
   ]
  },
  {
   "cell_type": "code",
   "execution_count": 133,
   "metadata": {},
   "outputs": [
    {
     "data": {
      "text/html": [
       "<div>\n",
       "<style scoped>\n",
       "    .dataframe tbody tr th:only-of-type {\n",
       "        vertical-align: middle;\n",
       "    }\n",
       "\n",
       "    .dataframe tbody tr th {\n",
       "        vertical-align: top;\n",
       "    }\n",
       "\n",
       "    .dataframe thead th {\n",
       "        text-align: right;\n",
       "    }\n",
       "</style>\n",
       "<table border=\"1\" class=\"dataframe\">\n",
       "  <thead>\n",
       "    <tr style=\"text-align: right;\">\n",
       "      <th></th>\n",
       "      <th>COMBINED</th>\n",
       "      <th>DEATH_EVENT</th>\n",
       "    </tr>\n",
       "  </thead>\n",
       "  <tbody>\n",
       "    <tr>\n",
       "      <th>0</th>\n",
       "      <td>Patient is a infant white nonhispanic female. ...</td>\n",
       "      <td>False</td>\n",
       "    </tr>\n",
       "    <tr>\n",
       "      <th>1</th>\n",
       "      <td>Patient is a adult white nonhispanic female. T...</td>\n",
       "      <td>False</td>\n",
       "    </tr>\n",
       "    <tr>\n",
       "      <th>2</th>\n",
       "      <td>Patient is a adult white nonhispanic female. T...</td>\n",
       "      <td>False</td>\n",
       "    </tr>\n",
       "    <tr>\n",
       "      <th>3</th>\n",
       "      <td>Patient is a adult white nonhispanic female. T...</td>\n",
       "      <td>False</td>\n",
       "    </tr>\n",
       "    <tr>\n",
       "      <th>4</th>\n",
       "      <td>Patient is a adult white hispanic male. They h...</td>\n",
       "      <td>False</td>\n",
       "    </tr>\n",
       "  </tbody>\n",
       "</table>\n",
       "</div>"
      ],
      "text/plain": [
       "                                            COMBINED DEATH_EVENT\n",
       "0  Patient is a infant white nonhispanic female. ...       False\n",
       "1  Patient is a adult white nonhispanic female. T...       False\n",
       "2  Patient is a adult white nonhispanic female. T...       False\n",
       "3  Patient is a adult white nonhispanic female. T...       False\n",
       "4  Patient is a adult white hispanic male. They h...       False"
      ]
     },
     "execution_count": 133,
     "metadata": {},
     "output_type": "execute_result"
    }
   ],
   "source": [
    "# Create new dataframe with only the combined features\n",
    "combined_df = final_df[['COMBINED', 'DEATH_EVENT']]\n",
    "\n",
    "combined_df.head()"
   ]
  },
  {
   "cell_type": "code",
   "execution_count": 134,
   "metadata": {},
   "outputs": [
    {
     "name": "stderr",
     "output_type": "stream",
     "text": [
      "C:\\Users\\alejm\\AppData\\Local\\Temp\\ipykernel_18544\\1605916456.py:2: FutureWarning: Downcasting behavior in `replace` is deprecated and will be removed in a future version. To retain the old behavior, explicitly call `result.infer_objects(copy=False)`. To opt-in to the future behavior, set `pd.set_option('future.no_silent_downcasting', True)`\n",
      "  combined_df['DEATH_EVENT'] = combined_df['DEATH_EVENT'].replace({'False': 0, 'True': 1})\n",
      "C:\\Users\\alejm\\AppData\\Local\\Temp\\ipykernel_18544\\1605916456.py:2: SettingWithCopyWarning: \n",
      "A value is trying to be set on a copy of a slice from a DataFrame.\n",
      "Try using .loc[row_indexer,col_indexer] = value instead\n",
      "\n",
      "See the caveats in the documentation: https://pandas.pydata.org/pandas-docs/stable/user_guide/indexing.html#returning-a-view-versus-a-copy\n",
      "  combined_df['DEATH_EVENT'] = combined_df['DEATH_EVENT'].replace({'False': 0, 'True': 1})\n"
     ]
    },
    {
     "data": {
      "text/html": [
       "<div>\n",
       "<style scoped>\n",
       "    .dataframe tbody tr th:only-of-type {\n",
       "        vertical-align: middle;\n",
       "    }\n",
       "\n",
       "    .dataframe tbody tr th {\n",
       "        vertical-align: top;\n",
       "    }\n",
       "\n",
       "    .dataframe thead th {\n",
       "        text-align: right;\n",
       "    }\n",
       "</style>\n",
       "<table border=\"1\" class=\"dataframe\">\n",
       "  <thead>\n",
       "    <tr style=\"text-align: right;\">\n",
       "      <th></th>\n",
       "      <th>COMBINED</th>\n",
       "      <th>DEATH_EVENT</th>\n",
       "    </tr>\n",
       "  </thead>\n",
       "  <tbody>\n",
       "    <tr>\n",
       "      <th>0</th>\n",
       "      <td>Patient is a infant white nonhispanic female. ...</td>\n",
       "      <td>0</td>\n",
       "    </tr>\n",
       "    <tr>\n",
       "      <th>1</th>\n",
       "      <td>Patient is a adult white nonhispanic female. T...</td>\n",
       "      <td>0</td>\n",
       "    </tr>\n",
       "    <tr>\n",
       "      <th>2</th>\n",
       "      <td>Patient is a adult white nonhispanic female. T...</td>\n",
       "      <td>0</td>\n",
       "    </tr>\n",
       "    <tr>\n",
       "      <th>3</th>\n",
       "      <td>Patient is a adult white nonhispanic female. T...</td>\n",
       "      <td>0</td>\n",
       "    </tr>\n",
       "    <tr>\n",
       "      <th>4</th>\n",
       "      <td>Patient is a adult white hispanic male. They h...</td>\n",
       "      <td>0</td>\n",
       "    </tr>\n",
       "  </tbody>\n",
       "</table>\n",
       "</div>"
      ],
      "text/plain": [
       "                                            COMBINED  DEATH_EVENT\n",
       "0  Patient is a infant white nonhispanic female. ...            0\n",
       "1  Patient is a adult white nonhispanic female. T...            0\n",
       "2  Patient is a adult white nonhispanic female. T...            0\n",
       "3  Patient is a adult white nonhispanic female. T...            0\n",
       "4  Patient is a adult white hispanic male. They h...            0"
      ]
     },
     "execution_count": 134,
     "metadata": {},
     "output_type": "execute_result"
    }
   ],
   "source": [
    "# Change the Death Event values to binary \n",
    "combined_df['DEATH_EVENT'] = combined_df['DEATH_EVENT'].replace({'False': 0, 'True': 1})\n",
    "\n",
    "combined_df.head()\n"
   ]
  },
  {
   "cell_type": "code",
   "execution_count": 135,
   "metadata": {},
   "outputs": [
    {
     "data": {
      "text/plain": [
       "DEATH_EVENT\n",
       "0    1678\n",
       "1     566\n",
       "Name: count, dtype: int64"
      ]
     },
     "execution_count": 135,
     "metadata": {},
     "output_type": "execute_result"
    }
   ],
   "source": [
    "# Let's see the distribution of the death event\n",
    "combined_df['DEATH_EVENT'].value_counts()"
   ]
  },
  {
   "cell_type": "code",
   "execution_count": 136,
   "metadata": {},
   "outputs": [
    {
     "name": "stdout",
     "output_type": "stream",
     "text": [
      "cuda\n"
     ]
    }
   ],
   "source": [
    "# Check if GPU is available\n",
    "import torch\n",
    "device = torch.device(\"cuda\" if torch.cuda.is_available() else \"cpu\")\n",
    "print(device)"
   ]
  },
  {
   "cell_type": "code",
   "execution_count": 137,
   "metadata": {},
   "outputs": [],
   "source": [
    "# Progress bar\n",
    "from tqdm import tqdm\n",
    "\n",
    "from transformers import AutoModel\n",
    "model = AutoModel.from_pretrained(\"bionlp/bluebert_pubmed_mimic_uncased_L-12_H-768_A-12\").to(device)\n"
   ]
  },
  {
   "cell_type": "code",
   "execution_count": 138,
   "metadata": {},
   "outputs": [],
   "source": [
    "# Load the tokenizer\n",
    "from transformers import AutoTokenizer\n",
    "tokenizer = AutoTokenizer.from_pretrained(\"bionlp/bluebert_pubmed_mimic_uncased_L-12_H-768_A-12\")"
   ]
  },
  {
   "cell_type": "code",
   "execution_count": 139,
   "metadata": {},
   "outputs": [],
   "source": [
    "# Tokenize the text\n",
    "inputs = tokenizer(combined_df['COMBINED'].tolist(), padding=True, truncation=True, max_length=512, return_tensors=\"pt\").to(device)\n"
   ]
  },
  {
   "cell_type": "code",
   "execution_count": 140,
   "metadata": {},
   "outputs": [
    {
     "name": "stdout",
     "output_type": "stream",
     "text": [
      "['[CLS]', 'patient', 'is', 'a', 'infant', 'white', 'non', '##his', '##pani', '##c', 'female', '.', 'they', 'have', 'a', 'blood', 'pressure', 'that', 'is', 'elevated', '.', 'their', 'body', 'weight', 'is', 'normal', 'weight', '.', 'their', 'heart', 'rate', 'is', 'normal', 'and', 'their', 'oxygen', 'sat', '##uration', 'is', 'severe', 'h', '##yp', '##ox', '##emia', '.', 'their', 'respiratory', 'rate', 'is', 'brady', '##p', '##nea', '.', 'the', 'list', 'of', 'conditions', 'they', 'have', 'are', ':', 'pneumonia', '(', 'disorder', ')', ',', 'h', '##yp', '##ox', '##emia', '(', 'disorder', ')', ',', 'respiratory', 'distress', '(', 'finding', ')', ',', 'acute', 'pulmonary', 'em', '##bol', '##ism', '(', 'disorder', ')', '.', 'the', 'list', 'of', 'medications', 'they', 'are', 'on', 'are', ':', '0', '.', '4', 'ml', 'en', '##ox', '##apa', '##rin', 'sodium', '100', 'mg', '/', 'ml', 'pre', '##fi', '##lled', 'sy', '##ring', '##e', ',', 'n', '##da', '##0', '##20', '##50', '##3', '200', 'act', '##ua', '##t', 'al', '##bu', '##terol', '0', '.', '09', 'mg', '/', 'act', '##ua', '##t', 'meter', '##ed', 'dose', 'in', '##hale', '##r', ',', 'ace', '##tam', '##ino', '##ph', '##en', '500', 'mg', 'oral', 'tablet', ',', '1', 'ml', 'en', '##ox', '##apa', '##rin', 'sodium', '150', 'mg', '/', 'ml', 'pre', '##fi', '##lled', 'sy', '##ring', '##e', '.', 'the', 'list', 'of', 'procedures', 'they', 'have', 'had', 'are', ':', 'plain', 'chest', 'x', '-', 'ray', '(', 'procedure', ')', ',', 'oxygen', 'administration', 'by', 'mask', '(', 'procedure', ')', ',', 'placing', 'subject', 'in', 'prone', 'position', '(', 'procedure', ')', '[SEP]', '[PAD]', '[PAD]', '[PAD]', '[PAD]', '[PAD]', '[PAD]', '[PAD]', '[PAD]', '[PAD]', '[PAD]', '[PAD]', '[PAD]', '[PAD]', '[PAD]', '[PAD]', '[PAD]', '[PAD]', '[PAD]', '[PAD]', '[PAD]', '[PAD]', '[PAD]', '[PAD]', '[PAD]', '[PAD]', '[PAD]', '[PAD]', '[PAD]', '[PAD]', '[PAD]', '[PAD]', '[PAD]', '[PAD]', '[PAD]', '[PAD]', '[PAD]', '[PAD]', '[PAD]', '[PAD]', '[PAD]', '[PAD]', '[PAD]', '[PAD]', '[PAD]', '[PAD]', '[PAD]', '[PAD]', '[PAD]', '[PAD]', '[PAD]', '[PAD]', '[PAD]', '[PAD]', '[PAD]', '[PAD]', '[PAD]', '[PAD]', '[PAD]', '[PAD]', '[PAD]', '[PAD]', '[PAD]', '[PAD]', '[PAD]', '[PAD]', '[PAD]', '[PAD]', '[PAD]', '[PAD]', '[PAD]', '[PAD]', '[PAD]', '[PAD]', '[PAD]', '[PAD]', '[PAD]', '[PAD]', '[PAD]', '[PAD]', '[PAD]', '[PAD]', '[PAD]', '[PAD]', '[PAD]', '[PAD]', '[PAD]', '[PAD]', '[PAD]', '[PAD]', '[PAD]', '[PAD]', '[PAD]', '[PAD]', '[PAD]', '[PAD]', '[PAD]', '[PAD]', '[PAD]', '[PAD]', '[PAD]', '[PAD]', '[PAD]', '[PAD]', '[PAD]', '[PAD]', '[PAD]', '[PAD]', '[PAD]', '[PAD]', '[PAD]', '[PAD]', '[PAD]', '[PAD]', '[PAD]', '[PAD]', '[PAD]', '[PAD]', '[PAD]', '[PAD]', '[PAD]']\n"
     ]
    }
   ],
   "source": [
    "# print each unique token in the tokenizer\n",
    "print(tokenizer.convert_ids_to_tokens(inputs['input_ids'][0]))\n",
    "\n"
   ]
  },
  {
   "cell_type": "code",
   "execution_count": 141,
   "metadata": {},
   "outputs": [
    {
     "name": "stderr",
     "output_type": "stream",
     "text": [
      "  0%|          | 0/2244 [00:00<?, ?it/s]"
     ]
    },
    {
     "name": "stderr",
     "output_type": "stream",
     "text": [
      "100%|██████████| 2244/2244 [08:07<00:00,  4.61it/s]\n"
     ]
    }
   ],
   "source": [
    "import torch \n",
    "# Generate embeddings with a progress bar\n",
    "embeddings = []\n",
    "with torch.no_grad():\n",
    "    for i in tqdm(range(len(inputs['input_ids']))):\n",
    "        input_ids = inputs['input_ids'][i].unsqueeze(0)\n",
    "        attention_mask = inputs['attention_mask'][i].unsqueeze(0)\n",
    "        output = model(input_ids, attention_mask=attention_mask)\n",
    "        embeddings.append(output.last_hidden_state[:, 0, :].squeeze().cpu().numpy())"
   ]
  },
  {
   "cell_type": "code",
   "execution_count": 145,
   "metadata": {},
   "outputs": [
    {
     "name": "stdout",
     "output_type": "stream",
     "text": [
      "Random Forest\n",
      "Accuracy: 0.9220489977728286\n",
      "Recall: 0.8532110091743119\n",
      "Precision: 0.8303571428571429\n",
      "F1 Score: 0.8416289592760181\n",
      "\n",
      "[[321  19]\n",
      " [ 16  93]]\n",
      "Gradient Boosting\n",
      "Accuracy: 0.9287305122494433\n",
      "Recall: 0.8440366972477065\n",
      "Precision: 0.8598130841121495\n",
      "F1 Score: 0.8518518518518519\n",
      "\n",
      "[[325  15]\n",
      " [ 17  92]]\n"
     ]
    },
    {
     "name": "stderr",
     "output_type": "stream",
     "text": [
      "c:\\Users\\alejm\\miniconda3\\envs\\healthcareAI\\lib\\site-packages\\sklearn\\ensemble\\_weight_boosting.py:527: FutureWarning: The SAMME.R algorithm (the default) is deprecated and will be removed in 1.6. Use the SAMME algorithm to circumvent this warning.\n",
      "  warnings.warn(\n"
     ]
    },
    {
     "name": "stdout",
     "output_type": "stream",
     "text": [
      "AdaBoost\n",
      "Accuracy: 0.9287305122494433\n",
      "Recall: 0.8532110091743119\n",
      "Precision: 0.8532110091743119\n",
      "F1 Score: 0.8532110091743119\n",
      "\n",
      "[[324  16]\n",
      " [ 16  93]]\n",
      "Logistic Regression\n",
      "Accuracy: 0.9443207126948775\n",
      "Recall: 0.908256880733945\n",
      "Precision: 0.868421052631579\n",
      "F1 Score: 0.8878923766816144\n",
      "\n",
      "[[325  15]\n",
      " [ 10  99]]\n"
     ]
    }
   ],
   "source": [
    "from sklearn.model_selection import train_test_split\n",
    "from sklearn.linear_model import LogisticRegression\n",
    "from sklearn.ensemble import RandomForestClassifier, GradientBoostingClassifier, AdaBoostClassifier\n",
    "from sklearn.metrics import accuracy_score, recall_score, precision_score, f1_score, confusion_matrix\n",
    "\n",
    "# Split the data into training and testing sets\n",
    "X_train, X_test, y_train, y_test = train_test_split(embeddings, combined_df['DEATH_EVENT'], test_size=0.2, random_state=42)\n",
    "\n",
    "models = {RandomForestClassifier(): 'Random Forest', GradientBoostingClassifier(): 'Gradient Boosting', AdaBoostClassifier(): 'AdaBoost', LogisticRegression(max_iter=1000): 'Logistic Regression'}\n",
    "for model in models:\n",
    "    model.fit(X_train, y_train)\n",
    "    y_pred = model.predict(X_test)\n",
    "    accuracy = accuracy_score(y_test, y_pred)\n",
    "    recall = recall_score(y_test, y_pred)\n",
    "    precision = precision_score(y_test, y_pred)\n",
    "    f1 = f1_score(y_test, y_pred)\n",
    "    print(f'{models[model]}')\n",
    "    print(f'Accuracy: {accuracy}')\n",
    "    print(f'Recall: {recall}')\n",
    "    print(f'Precision: {precision}')\n",
    "    print(f'F1 Score: {f1}')\n",
    "    print()\n",
    "    cm = confusion_matrix(y_test, y_pred)\n",
    "    print(cm)\n"
   ]
  },
  {
   "cell_type": "code",
   "execution_count": 146,
   "metadata": {},
   "outputs": [
    {
     "data": {
      "text/plain": [
       "<Axes: >"
      ]
     },
     "execution_count": 146,
     "metadata": {},
     "output_type": "execute_result"
    },
    {
     "data": {
      "image/png": "[encoded data removed]",
      "text/plain": [
       "<Figure size 640x480 with 2 Axes>"
      ]
     },
     "metadata": {},
     "output_type": "display_data"
    }
   ],
   "source": [
    "# Visualize a confusion matrix\n",
    "from sklearn.metrics import confusion_matrix\n",
    "import seaborn as sns\n",
    "\n",
    "# Create a confusion matrix\n",
    "cm = confusion_matrix(y_test, y_pred)\n",
    "\n",
    "# Plot the confusion matrix\n",
    "sns.heatmap(cm, annot=True, fmt='g')"
   ]
  },
  {
   "cell_type": "code",
   "execution_count": 147,
   "metadata": {},
   "outputs": [
    {
     "name": "stdout",
     "output_type": "stream",
     "text": [
      "[-0.24752715 -0.13125375  0.23307016  0.69275771 -0.24089826 -0.23949879\n",
      " -0.28968074 -0.21828064  0.01576678 -0.30221784 -0.18704747  0.0711593\n",
      " -0.14151679  0.45523021 -0.23220512  0.58828412 -0.18529031 -0.21068626\n",
      " -0.85196658  0.42180882  0.42379012 -0.75026707  0.37949477 -0.08495112\n",
      "  0.4238249  -0.00301415  0.18200445 -1.18746137 -0.11010217 -0.02299124\n",
      " -0.27282571  0.03844499 -0.25618028  0.07086497 -0.22810898  0.13294533\n",
      " -0.08865082 -0.05321878  0.05788643 -0.14382274  0.48100005 -0.04580984\n",
      "  0.04268297  0.04532437  0.14207427  0.13763533  0.05450256 -0.3022834\n",
      "  0.09604841 -0.54709556  1.01344475 -0.22135254  0.37337845 -0.22110327\n",
      " -0.20804517 -0.05196474 -0.2051301  -0.63778078  0.39135806  0.37767169\n",
      " -0.39278247  0.11143468 -0.25175559  0.61762867  0.46958396 -0.00641933\n",
      "  0.28655879  0.1963064   0.07110662 -0.18996709 -0.44878174  0.04571548\n",
      " -0.44548759 -0.25792847  0.41254943 -0.18345056 -0.11061862 -0.48916208\n",
      " -0.30780117 -0.10248453 -0.26253381  0.17031532 -0.34749926 -0.37336938\n",
      " -0.13422023 -0.15710613  0.18577132  0.45649603 -0.21005002  0.1242607\n",
      " -0.26519373 -0.85591308 -0.28508457 -0.21724237 -0.37900309  0.29377925\n",
      "  0.08232348  0.46481262 -0.5573304   0.17123104  0.41229804 -0.1327082\n",
      " -0.30303538  0.17096522 -0.01301273  0.43813849  0.04848859 -0.86094148\n",
      " -0.30256553  0.32795701  0.48270506  0.10547801 -0.11602354 -0.68629434\n",
      " -0.09184154 -0.36205719 -0.17137844 -0.13212601  0.03958375 -0.27762855\n",
      "  0.06376213  0.47464072 -0.22228986 -0.38331722 -0.02867883  0.00787217\n",
      " -0.27610587  0.03462871 -0.15434606 -0.49739895 -0.24373686 -0.0023925\n",
      "  0.14848229  0.14407692  0.38383315  0.24727574 -0.13341849 -0.34778851\n",
      "  0.30920198 -0.14441471  0.93137133 -1.02549814 -0.47223542 -0.2198996\n",
      " -0.75989782  0.34127242 -0.17239234  0.02235676  0.10656036  0.15351422\n",
      "  0.41236919 -0.32760157 -0.02958772  0.44956162  0.40444653  0.16099443\n",
      "  0.31613837 -0.00613646 -0.35268784 -0.12286856  0.18010574  0.10630747\n",
      " -0.15917381 -0.30923403 -0.17345674 -0.21308641 -0.07461564 -0.03801502\n",
      "  0.55859988 -0.30056158  0.04160074  0.30484282  0.90097129 -0.09068898\n",
      " -0.0216398  -0.31444374  0.49814486 -0.49875485  0.35182256  0.09460299\n",
      " -0.02885413 -0.30870892 -0.14320295  0.26906745  0.69711477 -0.51395986\n",
      " -0.00777657 -0.04844428  0.72317524 -0.03030191  1.11408783  0.00152676\n",
      "  0.40253707 -0.29913213  0.22986013 -0.49178121 -0.39841079  0.60975888\n",
      "  0.4719596   0.09770348  0.5854967   0.01194186 -0.05264717 -0.18660985\n",
      "  0.3096817   0.07077747  0.28166016 -0.75630691  0.01076223  0.1079379\n",
      "  0.28037735  0.11069387 -0.15749129 -0.11675823  0.68079432  0.29544252\n",
      " -0.31866573 -0.19717781 -0.23009958  0.432807   -0.36720042 -0.65756767\n",
      "  0.11364476  0.3436189   0.39818652 -0.79741487  0.27099409  0.0836314\n",
      "  0.54745298 -0.32867487  0.97888951  0.01200679 -0.27279762  0.22389362\n",
      "  0.2484715  -0.85297929  0.50750763 -0.13663989  0.67768098  0.40409918\n",
      "  0.48072591  0.66759305 -0.28997403  0.13153507  0.51070833 -0.61287193\n",
      " -0.18477372 -0.13844498 -0.11591074 -0.31376656 -0.60563862  0.3541137\n",
      "  0.05582658  0.03510898 -0.02371627 -0.54885059  0.30707027 -0.10498901\n",
      " -0.6268886   0.08666856  0.0050686  -0.00603992 -0.5876553  -0.19654036\n",
      "  1.00178339 -0.08728032 -0.2150072   0.26805797  0.03518151 -0.16355679\n",
      "  0.33564282  0.17621337 -0.06564987  0.26221535  0.71803904  0.22626406\n",
      "  0.28978609  0.75750937  0.28084839  0.29398958  0.22076349 -0.25244526\n",
      "  0.02016226 -0.04602766 -0.30487188 -0.04960684  0.71884294  0.27828696\n",
      " -0.30674139  0.04684569 -0.45676239 -0.20829578 -0.48583169  0.25297171\n",
      " -0.34170906  0.31685527 -0.25332053 -0.59034316 -0.32453921  0.13061477\n",
      " -0.22050367  0.1994365   0.21929126 -0.02804867 -0.14183696 -0.21590696\n",
      " -0.39837329 -0.01442122  0.53144764  0.18897423  0.24684509  0.00861483\n",
      "  0.58734499 -0.06432417  0.44909028  0.24525329 -0.30142847  0.24119439\n",
      " -0.02357746  0.18822153  0.49438262  0.44206619  0.14469557 -0.35086764\n",
      " -0.49032448  0.73126248  0.70574207  0.08059711  0.46829336 -0.12632043\n",
      " -0.46545195  0.19030681 -0.01503133 -0.53471457 -0.17070974  0.34420986\n",
      "  0.19705749  0.02197195  0.29511456 -0.34174001  0.25375171  0.3461705\n",
      " -0.1973627   0.05565707 -0.66367312 -0.55292852  0.20325744 -0.09897919\n",
      " -0.01101497  0.25038654 -0.51594082 -0.39711987 -0.58192622  0.22211777\n",
      "  0.52059031  0.06008121 -0.09057986 -0.0345197  -0.06824375  1.02219308\n",
      " -0.67767765 -0.22122749 -0.24410308  0.36012656  0.37488137 -0.05623019\n",
      "  0.88746891 -0.24323973  0.02094026 -0.49905233  0.29760666 -0.01196471\n",
      " -0.35045408  0.35894589  0.52287655 -0.35724634 -0.24618528  0.35814843\n",
      " -0.25347539 -0.21460787 -0.12507485 -0.76822591  0.17421698  0.37182865\n",
      "  0.1327143   0.07980961  0.18602951  0.14981546 -0.1055946  -0.85326137\n",
      "  0.54417946  0.31899237  0.33955052 -0.44003827 -0.18836499 -0.08020093\n",
      "  0.63651271 -0.61205099  0.06367079 -0.26439007  0.37952748 -0.70625387\n",
      "  0.21453032 -0.01424364 -0.37355187  0.21417265  0.32257368  0.31810887\n",
      "  0.31240973  0.43104578  0.02092175  0.30848024 -0.16332653  0.12978552\n",
      "  0.29881485 -0.75673078  0.24191906  0.12009507 -0.61707082 -0.05953374\n",
      " -0.02553744 -0.17122217  0.19407619 -0.42269224  0.33390448 -0.15907353\n",
      "  0.10087116 -0.16137311  0.01438424 -0.41300801 -0.14685029  0.51351454\n",
      "  0.15824972 -0.0364067  -0.11118518  0.13029296  0.01418492 -0.5043618\n",
      "  0.05165356  0.11480646 -0.0965384   0.49278162  0.050738    0.3030737\n",
      " -0.64097164 -0.33712642  0.07405347  0.23707152  0.10573307  0.24619196\n",
      " -0.71424279 -0.8222364   0.02170223 -0.37742993  0.47510928  0.27276853\n",
      " -0.19023356 -0.17686362 -0.04979844  0.63699013 -0.24960969  0.59401255\n",
      "  0.27690074 -0.51445934 -0.12451745 -0.09956186 -0.9401327   0.14254844\n",
      " -0.53961597 -0.61639426 -0.2365747  -0.12414796  0.0605182   0.28826567\n",
      "  0.3137824   0.14351108  0.44373236 -0.09636638  0.02566407 -0.18602173\n",
      " -0.22892719  0.4542309  -0.05508622  0.35448741 -0.4593699  -0.02641154\n",
      "  0.48506728  0.27547928  0.74799142  0.28453942 -0.44988018 -0.18171051\n",
      " -0.46563693 -0.88094158 -0.20857926  0.19659964 -0.52063406  0.1068829\n",
      "  0.12726415  0.17269351 -0.08544431 -0.32215167 -0.04219729  0.4420584\n",
      "  0.22941691 -0.21759307  0.36177676  0.35918411  0.43924661  0.2565424\n",
      "  0.21151925 -0.06532087 -0.41916631 -0.09210482  0.43163509  0.13841627\n",
      "  0.58037584  0.16945522 -0.43648865  0.09967852 -1.00004653 -0.40841667\n",
      " -0.30691399  0.28636654  0.42345425 -0.43154232  0.27945944 -0.793816\n",
      " -0.32241323  0.20768343  0.46398275  0.01303777 -0.20782586  0.05309436\n",
      "  0.73680939 -0.08741789 -0.2809868   0.85023534 -0.30969324  0.07453764\n",
      "  0.05177265 -0.53945527 -0.29562256  0.20566277  0.65670986 -0.32234602\n",
      " -0.4060083  -0.20883157  0.53676844  0.26636426 -0.06565569  0.58465296\n",
      "  0.10525169  0.52413221 -0.03290142  0.30667111 -0.17325718 -0.11225438\n",
      "  0.32184675 -0.08967537  0.02280308 -0.12380186 -0.56606725 -0.14528086\n",
      "  0.25197458 -0.21259235 -0.17890079 -0.17194358 -0.42298751 -0.88763942\n",
      "  0.28266847  0.10494123  0.12043176 -0.33507854 -0.11409134 -0.08090642\n",
      " -0.48025493 -0.4898094   0.48664752  0.93362049  0.29902937  0.13095833\n",
      "  0.42528649  0.14850214 -0.01974722  0.15137663 -0.62602148 -0.10462365\n",
      "  0.46026011  0.63415978 -0.36038283 -0.18729896 -0.3293957  -0.12810454\n",
      "  0.08201462  0.01900836 -0.33587722 -0.37389419  0.0296962  -0.13943991\n",
      " -0.18824835  0.10475607 -0.18817812  0.55166657 -0.16659138 -0.23998182\n",
      "  0.24404817  0.10855213  0.06130709  0.41394814 -0.06050396 -0.15465975\n",
      " -0.73691708  0.18038386 -0.11621517  0.76761922 -0.3211408   0.21715662\n",
      "  0.25720738 -0.11901427  0.34710818 -0.28927663 -0.64734856 -0.11571257\n",
      " -0.17509115 -0.38824021 -0.43519669 -0.21918663  0.01154522  0.63788341\n",
      " -0.07937279 -0.33952478 -0.7495702  -0.20381851  0.11577166  0.12554038\n",
      "  0.96451484 -0.12369601 -0.11898728 -0.31125082 -0.26503588  0.11620177\n",
      " -0.20043125  0.68276933 -0.23832633  0.39017448  0.02747839 -0.39992864\n",
      "  0.39533579 -0.13699158  0.32839186 -0.36419491  0.26112462  0.5314611\n",
      " -0.1527598  -0.16003613 -0.1990754  -0.34446313  0.26382232 -0.16881812\n",
      "  0.37111298  0.24730619  0.01290046 -0.08934362 -0.083497   -0.09472533\n",
      "  0.53808976  0.00187388  0.311203    0.20194387  0.18065717 -0.03314574\n",
      "  0.12624919  0.06662322 -0.50105281 -0.33152331 -0.0370944  -0.30443558\n",
      " -0.16491373 -0.1300653  -0.0074015   0.55646843  0.12080227 -0.22175353\n",
      " -0.30123297  0.34032177 -0.13681723  0.6960425   0.0744958   0.57228021\n",
      " -0.11594799 -0.580808    0.08545093  0.41542565  0.43761759 -0.55684905\n",
      "  0.37606858 -0.42589745  0.48865188  0.31067067 -0.65927516 -0.48909839\n",
      " -0.37177026 -0.26687681 -0.06290782 -0.00646884 -0.52855183  0.0772727\n",
      "  0.26258495  0.08938565  0.18767665  0.34026161 -0.13740656  0.06171947\n",
      " -0.39579273 -0.74925971 -0.12088768  0.32492633  0.27506465  0.15944639\n",
      "  0.47679964 -0.13435369  0.29566436  0.76079969  0.03698651 -0.23745078\n",
      " -0.33815834  0.23021734  0.40136486  0.14750337  0.21869951 -0.17240601\n",
      " -0.03818554 -0.00784607  0.02580468  0.0614384   0.34197567 -0.07362352\n",
      "  0.09232071 -0.36972281 -0.08043847  0.28206408  0.03530006  0.18123569\n",
      " -0.17858824 -0.3440257  -0.22553997  0.18125995  0.22260572  0.21579878\n",
      " -0.3041973   0.00540947  0.06176881 -0.57872735  0.37078515 -0.15005821\n",
      " -0.17659244  0.27372932  0.32092204  0.08478212 -0.19168871  0.41559411\n",
      "  0.07783864 -0.02887972 -0.79473683  0.15419623 -0.06723641 -0.03571211]\n",
      "(768,)\n"
     ]
    }
   ],
   "source": [
    "# Extract the feature importance\n",
    "feature_importance = model.coef_[0]\n",
    "\n",
    "# Print the feature importance\n",
    "print(feature_importance)\n",
    "print(feature_importance.shape)"
   ]
  },
  {
   "cell_type": "code",
   "execution_count": 148,
   "metadata": {},
   "outputs": [
    {
     "name": "stdout",
     "output_type": "stream",
     "text": [
      "Sentence: Patient is a youth white nonhispanic female\n",
      "Tokens: ['patient', 'is', 'a', 'youth', 'white', 'non', '##his', '##pani', '##c', 'female']\n",
      "\n",
      "Sentence: They have a blood pressure that is elevated\n",
      "Tokens: ['they', 'have', 'a', 'blood', 'pressure', 'that', 'is', 'elevated']\n",
      "\n",
      "Sentence: Their body weight is underweight\n",
      "Tokens: ['their', 'body', 'weight', 'is', 'under', '##weight']\n",
      "\n",
      "Sentence: Their heart rate is severe tachycardia and their oxygen saturation is severe hypoxemia\n",
      "Tokens: ['their', 'heart', 'rate', 'is', 'severe', 'ta', '##chy', '##card', '##ia', 'and', 'their', 'oxygen', 'sat', '##uration', 'is', 'severe', 'h', '##yp', '##ox', '##emia']\n",
      "\n",
      "Sentence: Their respiratory rate is tachypnea\n",
      "Tokens: ['their', 'respiratory', 'rate', 'is', 'ta', '##chy', '##p', '##nea']\n",
      "\n",
      "Sentence: The list of conditions they have are: Pneumonia (disorder),Hypoxemia (disorder),Respiratory distress (finding),Acute pulmonary embolism (disorder)\n",
      "Tokens: ['the', 'list', 'of', 'conditions', 'they', 'have', 'are', ':', 'pneumonia', '(', 'disorder', ')', ',', 'h', '##yp', '##ox', '##emia', '(', 'disorder', ')', ',', 'respiratory', 'distress', '(', 'finding', ')', ',', 'acute', 'pulmonary', 'em', '##bol', '##ism', '(', 'disorder', ')']\n",
      "\n",
      "Sentence: The list of medications they are on are: 0.4 ML Enoxaparin sodium 100 MG/ML Prefilled Syringe,NDA020503 200 ACTUAT Albuterol 0.09 MG/ACTUAT Metered Dose Inhaler,Acetaminophen 500 MG Oral Tablet,Lenzilumab 200 MG IV,1 ML Enoxaparin sodium 150 MG/ML Prefilled Syringe\n",
      "Tokens: ['the', 'list', 'of', 'medications', 'they', 'are', 'on', 'are', ':', '0', '.', '4', 'ml', 'en', '##ox', '##apa', '##rin', 'sodium', '100', 'mg', '/', 'ml', 'pre', '##fi', '##lled', 'sy', '##ring', '##e', ',', 'n', '##da', '##0', '##20', '##50', '##3', '200', 'act', '##ua', '##t', 'al', '##bu', '##terol', '0', '.', '09', 'mg', '/', 'act', '##ua', '##t', 'meter', '##ed', 'dose', 'in', '##hale', '##r', ',', 'ace', '##tam', '##ino', '##ph', '##en', '500', 'mg', 'oral', 'tablet', ',', 'len', '##zi', '##lum', '##ab', '200', 'mg', 'iv', ',', '1', 'ml', 'en', '##ox', '##apa', '##rin', 'sodium', '150', 'mg', '/', 'ml', 'pre', '##fi', '##lled', 'sy', '##ring', '##e']\n",
      "\n",
      "Sentence: The list of procedures they have had are: Plain chest X-ray (procedure),Oxygen administration by mask (procedure),Placing subject in prone position (procedure)\n",
      "Tokens: ['the', 'list', 'of', 'procedures', 'they', 'have', 'had', 'are', ':', 'plain', 'chest', 'x', '-', 'ray', '(', 'procedure', ')', ',', 'oxygen', 'administration', 'by', 'mask', '(', 'procedure', ')', ',', 'placing', 'subject', 'in', 'prone', 'position', '(', 'procedure', ')']\n",
      "\n"
     ]
    }
   ],
   "source": [
    "# Pick a random index from the combined features\n",
    "idx = np.random.randint(0, len(combined_df['COMBINED']))\n",
    "\n",
    "# Print an example input\n",
    "example_input = combined_df['COMBINED'].iloc[idx]\n",
    "sentences = example_input.split('. ')\n",
    "formatted_input = '.\\n'.join(sentences)\n",
    "\n",
    "# Print tokens that correspond each sentence\n",
    "for sentence in sentences:\n",
    "    tokens = tokenizer.tokenize(sentence)\n",
    "    print(f'Sentence: {sentence}')\n",
    "    print(f'Tokens: {tokens}')\n",
    "    print()\n"
   ]
  },
  {
   "cell_type": "code",
   "execution_count": 154,
   "metadata": {},
   "outputs": [
    {
     "name": "stderr",
     "output_type": "stream",
     "text": [
      "100%|██████████| 2244/2244 [02:20<00:00, 15.96it/s]\n"
     ]
    }
   ],
   "source": [
    "# Plot these tokens on a scatter plot to visualize the feature importance\n",
    "import matplotlib\n",
    "from tqdm import tqdm\n",
    "import matplotlib.pyplot as plt\n",
    "\n",
    "# Map the feature importance to the tokens for all instances\n",
    "token_importance = {}\n",
    "token_counts = {}\n",
    "for i in tqdm(range(len(inputs['input_ids']))):\n",
    "    tokens = tokenizer.convert_ids_to_tokens(inputs['input_ids'][i])\n",
    "    for token, importance in zip(tokens, feature_importance[:len(tokens)]):\n",
    "        if token in token_importance:\n",
    "            token_importance[token] += importance\n",
    "            token_counts[token] += 1\n",
    "        else:\n",
    "            token_importance[token] = importance\n",
    "            token_counts[token] = 1\n",
    "\n",
    "# Calculate the mean importance for each token\n",
    "for token in token_importance:\n",
    "    token_importance[token] /= token_counts[token]\n",
    "\n",
    "# Sort the tokens by importance\n",
    "sorted_token_importance = sorted(token_importance.items(), key=lambda x: x[1], reverse=True)"
   ]
  },
  {
   "cell_type": "code",
   "execution_count": 156,
   "metadata": {},
   "outputs": [
    {
     "data": {
      "image/png": "[encoded data removed]",
      "text/plain": [
       "<Figure size 1000x500 with 1 Axes>"
      ]
     },
     "metadata": {},
     "output_type": "display_data"
    }
   ],
   "source": [
    "# Get the top 25 tokens by importance\n",
    "top_25_tokens = sorted_token_importance[:25]\n",
    "\n",
    "# Scatter plot the top 25 tokens and their importance\n",
    "plt.figure(figsize=(10, 5))\n",
    "plt.scatter(range(len(top_25_tokens)), [importance for token, importance in top_25_tokens])\n",
    "plt.xticks(range(len(top_25_tokens)), [token for token, importance in top_25_tokens], rotation=90)\n",
    "plt.ylabel('Importance')\n",
    "plt.xlabel('Token')\n",
    "plt.title('Top 25 Token Importance for Logistic Regression')\n",
    "plt.show()\n"
   ]
  }
 ],
 "metadata": {
  "kernelspec": {
   "display_name": "Python 3",
   "language": "python",
   "name": "python3"
  },
  "language_info": {
   "codemirror_mode": {
    "name": "ipython",
    "version": 3
   },
   "file_extension": ".py",
   "mimetype": "text/x-python",
   "name": "python",
   "nbconvert_exporter": "python",
   "pygments_lexer": "ipython3",
   "version": "3.10.15"
  }
 },
 "nbformat": 4,
 "nbformat_minor": 2
}
