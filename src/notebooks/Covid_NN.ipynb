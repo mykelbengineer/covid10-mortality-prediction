{
 "cells": [
  {
   "cell_type": "code",
   "execution_count": 22,
   "metadata": {},
   "outputs": [],
   "source": [
    "import pandas as pd"
   ]
  },
  {
   "cell_type": "code",
   "execution_count": 23,
   "metadata": {},
   "outputs": [],
   "source": [
    "final_df = pd.read_csv('final_df.csv')"
   ]
  },
  {
   "cell_type": "code",
   "execution_count": 24,
   "metadata": {},
   "outputs": [
    {
     "data": {
      "text/html": [
       "<div>\n",
       "<style scoped>\n",
       "    .dataframe tbody tr th:only-of-type {\n",
       "        vertical-align: middle;\n",
       "    }\n",
       "\n",
       "    .dataframe tbody tr th {\n",
       "        vertical-align: top;\n",
       "    }\n",
       "\n",
       "    .dataframe thead th {\n",
       "        text-align: right;\n",
       "    }\n",
       "</style>\n",
       "<table border=\"1\" class=\"dataframe\">\n",
       "  <thead>\n",
       "    <tr style=\"text-align: right;\">\n",
       "      <th></th>\n",
       "      <th>RACE</th>\n",
       "      <th>ETHNICITY</th>\n",
       "      <th>GENDER</th>\n",
       "      <th>Body Weight</th>\n",
       "      <th>Heart rate</th>\n",
       "      <th>Oxygen saturation in Arterial blood</th>\n",
       "      <th>Respiratory rate</th>\n",
       "      <th>CONDITIONS</th>\n",
       "      <th>AGE</th>\n",
       "      <th>DEATH_EVENT</th>\n",
       "      <th>MAP</th>\n",
       "      <th>MEDICATIONS</th>\n",
       "      <th>PROCEDURES</th>\n",
       "    </tr>\n",
       "  </thead>\n",
       "  <tbody>\n",
       "    <tr>\n",
       "      <th>0</th>\n",
       "      <td>white</td>\n",
       "      <td>nonhispanic</td>\n",
       "      <td>F</td>\n",
       "      <td>8.3</td>\n",
       "      <td>136.5</td>\n",
       "      <td>78.6</td>\n",
       "      <td>14.0</td>\n",
       "      <td>Pneumonia (disorder),Hypoxemia (disorder),Resp...</td>\n",
       "      <td>0</td>\n",
       "      <td>False</td>\n",
       "      <td>93.333333</td>\n",
       "      <td>0.4 ML Enoxaparin sodium 100 MG/ML Prefilled S...</td>\n",
       "      <td>Plain chest X-ray (procedure),Oxygen administr...</td>\n",
       "    </tr>\n",
       "    <tr>\n",
       "      <th>1</th>\n",
       "      <td>white</td>\n",
       "      <td>nonhispanic</td>\n",
       "      <td>F</td>\n",
       "      <td>74.6</td>\n",
       "      <td>89.8</td>\n",
       "      <td>88.9</td>\n",
       "      <td>21.3</td>\n",
       "      <td>Pneumonia (disorder),Hypoxemia (disorder),Resp...</td>\n",
       "      <td>36</td>\n",
       "      <td>False</td>\n",
       "      <td>94.000000</td>\n",
       "      <td>0.4 ML Enoxaparin sodium 100 MG/ML Prefilled S...</td>\n",
       "      <td>Plain chest X-ray (procedure),Oxygen administr...</td>\n",
       "    </tr>\n",
       "    <tr>\n",
       "      <th>2</th>\n",
       "      <td>white</td>\n",
       "      <td>nonhispanic</td>\n",
       "      <td>F</td>\n",
       "      <td>76.5</td>\n",
       "      <td>130.8</td>\n",
       "      <td>76.9</td>\n",
       "      <td>37.1</td>\n",
       "      <td>Pneumonia (disorder),Hypoxemia (disorder),Resp...</td>\n",
       "      <td>60</td>\n",
       "      <td>False</td>\n",
       "      <td>92.666667</td>\n",
       "      <td>0.4 ML Enoxaparin sodium 100 MG/ML Prefilled S...</td>\n",
       "      <td>Plain chest X-ray (procedure),Oxygen administr...</td>\n",
       "    </tr>\n",
       "    <tr>\n",
       "      <th>3</th>\n",
       "      <td>white</td>\n",
       "      <td>nonhispanic</td>\n",
       "      <td>F</td>\n",
       "      <td>85.9</td>\n",
       "      <td>136.5</td>\n",
       "      <td>78.9</td>\n",
       "      <td>14.9</td>\n",
       "      <td>Pneumonia (disorder),Hypoxemia (disorder),Resp...</td>\n",
       "      <td>61</td>\n",
       "      <td>False</td>\n",
       "      <td>86.666667</td>\n",
       "      <td>0.4 ML Enoxaparin sodium 100 MG/ML Prefilled S...</td>\n",
       "      <td>Plain chest X-ray (procedure),Oxygen administr...</td>\n",
       "    </tr>\n",
       "    <tr>\n",
       "      <th>4</th>\n",
       "      <td>white</td>\n",
       "      <td>hispanic</td>\n",
       "      <td>M</td>\n",
       "      <td>87.7</td>\n",
       "      <td>194.2</td>\n",
       "      <td>86.9</td>\n",
       "      <td>24.2</td>\n",
       "      <td>Pneumonia (disorder),Hypoxemia (disorder),Resp...</td>\n",
       "      <td>32</td>\n",
       "      <td>False</td>\n",
       "      <td>88.333333</td>\n",
       "      <td>0.4 ML Enoxaparin sodium 100 MG/ML Prefilled S...</td>\n",
       "      <td>Plain chest X-ray (procedure),Oxygen administr...</td>\n",
       "    </tr>\n",
       "  </tbody>\n",
       "</table>\n",
       "</div>"
      ],
      "text/plain": [
       "    RACE    ETHNICITY GENDER  Body Weight  Heart rate  \\\n",
       "0  white  nonhispanic      F          8.3       136.5   \n",
       "1  white  nonhispanic      F         74.6        89.8   \n",
       "2  white  nonhispanic      F         76.5       130.8   \n",
       "3  white  nonhispanic      F         85.9       136.5   \n",
       "4  white     hispanic      M         87.7       194.2   \n",
       "\n",
       "   Oxygen saturation in Arterial blood  Respiratory rate  \\\n",
       "0                                 78.6              14.0   \n",
       "1                                 88.9              21.3   \n",
       "2                                 76.9              37.1   \n",
       "3                                 78.9              14.9   \n",
       "4                                 86.9              24.2   \n",
       "\n",
       "                                          CONDITIONS  AGE  DEATH_EVENT  \\\n",
       "0  Pneumonia (disorder),Hypoxemia (disorder),Resp...    0        False   \n",
       "1  Pneumonia (disorder),Hypoxemia (disorder),Resp...   36        False   \n",
       "2  Pneumonia (disorder),Hypoxemia (disorder),Resp...   60        False   \n",
       "3  Pneumonia (disorder),Hypoxemia (disorder),Resp...   61        False   \n",
       "4  Pneumonia (disorder),Hypoxemia (disorder),Resp...   32        False   \n",
       "\n",
       "         MAP                                        MEDICATIONS  \\\n",
       "0  93.333333  0.4 ML Enoxaparin sodium 100 MG/ML Prefilled S...   \n",
       "1  94.000000  0.4 ML Enoxaparin sodium 100 MG/ML Prefilled S...   \n",
       "2  92.666667  0.4 ML Enoxaparin sodium 100 MG/ML Prefilled S...   \n",
       "3  86.666667  0.4 ML Enoxaparin sodium 100 MG/ML Prefilled S...   \n",
       "4  88.333333  0.4 ML Enoxaparin sodium 100 MG/ML Prefilled S...   \n",
       "\n",
       "                                          PROCEDURES  \n",
       "0  Plain chest X-ray (procedure),Oxygen administr...  \n",
       "1  Plain chest X-ray (procedure),Oxygen administr...  \n",
       "2  Plain chest X-ray (procedure),Oxygen administr...  \n",
       "3  Plain chest X-ray (procedure),Oxygen administr...  \n",
       "4  Plain chest X-ray (procedure),Oxygen administr...  "
      ]
     },
     "execution_count": 24,
     "metadata": {},
     "output_type": "execute_result"
    }
   ],
   "source": [
    "final_df.head()"
   ]
  },
  {
   "cell_type": "code",
   "execution_count": 25,
   "metadata": {},
   "outputs": [],
   "source": [
    "def extract_unique_conditions(df):\n",
    "    conditions = []\n",
    "    for i in range(len(df)):\n",
    "        for condition in df['CONDITIONS'][i].split(','):\n",
    "            if condition not in conditions:\n",
    "                conditions.append(condition)\n",
    "    return conditions"
   ]
  },
  {
   "cell_type": "code",
   "execution_count": 26,
   "metadata": {},
   "outputs": [
    {
     "name": "stdout",
     "output_type": "stream",
     "text": [
      "The number of unique conditions is: 52\n"
     ]
    }
   ],
   "source": [
    "# Extract unique conditions\n",
    "conditions = extract_unique_conditions(final_df)\n",
    "\n",
    "# Count the number of unique conditions\n",
    "print('The number of unique conditions is:', len(conditions))"
   ]
  },
  {
   "cell_type": "code",
   "execution_count": 27,
   "metadata": {},
   "outputs": [
    {
     "name": "stdout",
     "output_type": "stream",
     "text": [
      "The most common conditions in death events are:\n",
      "Pneumonia (disorder)                              349\n",
      "Hypoxemia (disorder)                              349\n",
      "Respiratory distress (finding)                    349\n",
      "Sepsis caused by virus (disorder)                 345\n",
      "Acute respiratory failure (disorder)              341\n",
      "Acute respiratory distress syndrome (disorder)    199\n",
      "Septic shock (disorder)                           168\n",
      "Acute pulmonary embolism (disorder)               155\n",
      "Acute deep venous thrombosis (disorder)           153\n",
      "Injury of heart (disorder)                        113\n",
      "Name: count, dtype: int64\n"
     ]
    }
   ],
   "source": [
    "# Get most common conditions in death events classes\n",
    "death_conditions = []\n",
    "for i in range(len(final_df)):\n",
    "    if final_df['DEATH_EVENT'][i] == True:\n",
    "        for condition in final_df['CONDITIONS'][i].split(','):\n",
    "            death_conditions.append(condition)\n",
    "\n",
    "death_conditions = pd.Series(death_conditions)\n",
    "death_conditions_counts = death_conditions.value_counts()\n",
    "\n",
    "print('The most common conditions in death events are:')\n",
    "print(death_conditions_counts.head(10))"
   ]
  },
  {
   "cell_type": "code",
   "execution_count": 28,
   "metadata": {},
   "outputs": [
    {
     "data": {
      "application/vnd.plotly.v1+json": {
       "config": {
        "plotlyServerURL": "https://plot.ly"
       },
       "data": [
        {
         "domain": {
          "x": [
           0,
           1
          ],
          "y": [
           0,
           1
          ]
         },
         "hovertemplate": "index=%{label}<br>count=%{value}<extra></extra>",
         "labels": [
          "Pneumonia (disorder)",
          "Hypoxemia (disorder)",
          "Respiratory distress (finding)",
          "Sepsis caused by virus (disorder)",
          "Acute respiratory failure (disorder)",
          "Acute respiratory distress syndrome (disorder)",
          "Septic shock (disorder)",
          "Acute pulmonary embolism (disorder)",
          "Acute deep venous thrombosis (disorder)",
          "Injury of heart (disorder)"
         ],
         "legendgroup": "",
         "name": "",
         "showlegend": true,
         "type": "pie",
         "values": [
          349,
          349,
          349,
          345,
          341,
          199,
          168,
          155,
          153,
          113
         ]
        }
       ],
       "layout": {
        "legend": {
         "tracegroupgap": 0
        },
        "template": {
         "data": {
          "bar": [
           {
            "error_x": {
             "color": "#2a3f5f"
            },
            "error_y": {
             "color": "#2a3f5f"
            },
            "marker": {
             "line": {
              "color": "#E5ECF6",
              "width": 0.5
             },
             "pattern": {
              "fillmode": "overlay",
              "size": 10,
              "solidity": 0.2
             }
            },
            "type": "bar"
           }
          ],
          "barpolar": [
           {
            "marker": {
             "line": {
              "color": "#E5ECF6",
              "width": 0.5
             },
             "pattern": {
              "fillmode": "overlay",
              "size": 10,
              "solidity": 0.2
             }
            },
            "type": "barpolar"
           }
          ],
          "carpet": [
           {
            "aaxis": {
             "endlinecolor": "#2a3f5f",
             "gridcolor": "white",
             "linecolor": "white",
             "minorgridcolor": "white",
             "startlinecolor": "#2a3f5f"
            },
            "baxis": {
             "endlinecolor": "#2a3f5f",
             "gridcolor": "white",
             "linecolor": "white",
             "minorgridcolor": "white",
             "startlinecolor": "#2a3f5f"
            },
            "type": "carpet"
           }
          ],
          "choropleth": [
           {
            "colorbar": {
             "outlinewidth": 0,
             "ticks": ""
            },
            "type": "choropleth"
           }
          ],
          "contour": [
           {
            "colorbar": {
             "outlinewidth": 0,
             "ticks": ""
            },
            "colorscale": [
             [
              0,
              "#0d0887"
             ],
             [
              0.1111111111111111,
              "#46039f"
             ],
             [
              0.2222222222222222,
              "#7201a8"
             ],
             [
              0.3333333333333333,
              "#9c179e"
             ],
             [
              0.4444444444444444,
              "#bd3786"
             ],
             [
              0.5555555555555556,
              "#d8576b"
             ],
             [
              0.6666666666666666,
              "#ed7953"
             ],
             [
              0.7777777777777778,
              "#fb9f3a"
             ],
             [
              0.8888888888888888,
              "#fdca26"
             ],
             [
              1,
              "#f0f921"
             ]
            ],
            "type": "contour"
           }
          ],
          "contourcarpet": [
           {
            "colorbar": {
             "outlinewidth": 0,
             "ticks": ""
            },
            "type": "contourcarpet"
           }
          ],
          "heatmap": [
           {
            "colorbar": {
             "outlinewidth": 0,
             "ticks": ""
            },
            "colorscale": [
             [
              0,
              "#0d0887"
             ],
             [
              0.1111111111111111,
              "#46039f"
             ],
             [
              0.2222222222222222,
              "#7201a8"
             ],
             [
              0.3333333333333333,
              "#9c179e"
             ],
             [
              0.4444444444444444,
              "#bd3786"
             ],
             [
              0.5555555555555556,
              "#d8576b"
             ],
             [
              0.6666666666666666,
              "#ed7953"
             ],
             [
              0.7777777777777778,
              "#fb9f3a"
             ],
             [
              0.8888888888888888,
              "#fdca26"
             ],
             [
              1,
              "#f0f921"
             ]
            ],
            "type": "heatmap"
           }
          ],
          "heatmapgl": [
           {
            "colorbar": {
             "outlinewidth": 0,
             "ticks": ""
            },
            "colorscale": [
             [
              0,
              "#0d0887"
             ],
             [
              0.1111111111111111,
              "#46039f"
             ],
             [
              0.2222222222222222,
              "#7201a8"
             ],
             [
              0.3333333333333333,
              "#9c179e"
             ],
             [
              0.4444444444444444,
              "#bd3786"
             ],
             [
              0.5555555555555556,
              "#d8576b"
             ],
             [
              0.6666666666666666,
              "#ed7953"
             ],
             [
              0.7777777777777778,
              "#fb9f3a"
             ],
             [
              0.8888888888888888,
              "#fdca26"
             ],
             [
              1,
              "#f0f921"
             ]
            ],
            "type": "heatmapgl"
           }
          ],
          "histogram": [
           {
            "marker": {
             "pattern": {
              "fillmode": "overlay",
              "size": 10,
              "solidity": 0.2
             }
            },
            "type": "histogram"
           }
          ],
          "histogram2d": [
           {
            "colorbar": {
             "outlinewidth": 0,
             "ticks": ""
            },
            "colorscale": [
             [
              0,
              "#0d0887"
             ],
             [
              0.1111111111111111,
              "#46039f"
             ],
             [
              0.2222222222222222,
              "#7201a8"
             ],
             [
              0.3333333333333333,
              "#9c179e"
             ],
             [
              0.4444444444444444,
              "#bd3786"
             ],
             [
              0.5555555555555556,
              "#d8576b"
             ],
             [
              0.6666666666666666,
              "#ed7953"
             ],
             [
              0.7777777777777778,
              "#fb9f3a"
             ],
             [
              0.8888888888888888,
              "#fdca26"
             ],
             [
              1,
              "#f0f921"
             ]
            ],
            "type": "histogram2d"
           }
          ],
          "histogram2dcontour": [
           {
            "colorbar": {
             "outlinewidth": 0,
             "ticks": ""
            },
            "colorscale": [
             [
              0,
              "#0d0887"
             ],
             [
              0.1111111111111111,
              "#46039f"
             ],
             [
              0.2222222222222222,
              "#7201a8"
             ],
             [
              0.3333333333333333,
              "#9c179e"
             ],
             [
              0.4444444444444444,
              "#bd3786"
             ],
             [
              0.5555555555555556,
              "#d8576b"
             ],
             [
              0.6666666666666666,
              "#ed7953"
             ],
             [
              0.7777777777777778,
              "#fb9f3a"
             ],
             [
              0.8888888888888888,
              "#fdca26"
             ],
             [
              1,
              "#f0f921"
             ]
            ],
            "type": "histogram2dcontour"
           }
          ],
          "mesh3d": [
           {
            "colorbar": {
             "outlinewidth": 0,
             "ticks": ""
            },
            "type": "mesh3d"
           }
          ],
          "parcoords": [
           {
            "line": {
             "colorbar": {
              "outlinewidth": 0,
              "ticks": ""
             }
            },
            "type": "parcoords"
           }
          ],
          "pie": [
           {
            "automargin": true,
            "type": "pie"
           }
          ],
          "scatter": [
           {
            "fillpattern": {
             "fillmode": "overlay",
             "size": 10,
             "solidity": 0.2
            },
            "type": "scatter"
           }
          ],
          "scatter3d": [
           {
            "line": {
             "colorbar": {
              "outlinewidth": 0,
              "ticks": ""
             }
            },
            "marker": {
             "colorbar": {
              "outlinewidth": 0,
              "ticks": ""
             }
            },
            "type": "scatter3d"
           }
          ],
          "scattercarpet": [
           {
            "marker": {
             "colorbar": {
              "outlinewidth": 0,
              "ticks": ""
             }
            },
            "type": "scattercarpet"
           }
          ],
          "scattergeo": [
           {
            "marker": {
             "colorbar": {
              "outlinewidth": 0,
              "ticks": ""
             }
            },
            "type": "scattergeo"
           }
          ],
          "scattergl": [
           {
            "marker": {
             "colorbar": {
              "outlinewidth": 0,
              "ticks": ""
             }
            },
            "type": "scattergl"
           }
          ],
          "scattermapbox": [
           {
            "marker": {
             "colorbar": {
              "outlinewidth": 0,
              "ticks": ""
             }
            },
            "type": "scattermapbox"
           }
          ],
          "scatterpolar": [
           {
            "marker": {
             "colorbar": {
              "outlinewidth": 0,
              "ticks": ""
             }
            },
            "type": "scatterpolar"
           }
          ],
          "scatterpolargl": [
           {
            "marker": {
             "colorbar": {
              "outlinewidth": 0,
              "ticks": ""
             }
            },
            "type": "scatterpolargl"
           }
          ],
          "scatterternary": [
           {
            "marker": {
             "colorbar": {
              "outlinewidth": 0,
              "ticks": ""
             }
            },
            "type": "scatterternary"
           }
          ],
          "surface": [
           {
            "colorbar": {
             "outlinewidth": 0,
             "ticks": ""
            },
            "colorscale": [
             [
              0,
              "#0d0887"
             ],
             [
              0.1111111111111111,
              "#46039f"
             ],
             [
              0.2222222222222222,
              "#7201a8"
             ],
             [
              0.3333333333333333,
              "#9c179e"
             ],
             [
              0.4444444444444444,
              "#bd3786"
             ],
             [
              0.5555555555555556,
              "#d8576b"
             ],
             [
              0.6666666666666666,
              "#ed7953"
             ],
             [
              0.7777777777777778,
              "#fb9f3a"
             ],
             [
              0.8888888888888888,
              "#fdca26"
             ],
             [
              1,
              "#f0f921"
             ]
            ],
            "type": "surface"
           }
          ],
          "table": [
           {
            "cells": {
             "fill": {
              "color": "#EBF0F8"
             },
             "line": {
              "color": "white"
             }
            },
            "header": {
             "fill": {
              "color": "#C8D4E3"
             },
             "line": {
              "color": "white"
             }
            },
            "type": "table"
           }
          ]
         },
         "layout": {
          "annotationdefaults": {
           "arrowcolor": "#2a3f5f",
           "arrowhead": 0,
           "arrowwidth": 1
          },
          "autotypenumbers": "strict",
          "coloraxis": {
           "colorbar": {
            "outlinewidth": 0,
            "ticks": ""
           }
          },
          "colorscale": {
           "diverging": [
            [
             0,
             "#8e0152"
            ],
            [
             0.1,
             "#c51b7d"
            ],
            [
             0.2,
             "#de77ae"
            ],
            [
             0.3,
             "#f1b6da"
            ],
            [
             0.4,
             "#fde0ef"
            ],
            [
             0.5,
             "#f7f7f7"
            ],
            [
             0.6,
             "#e6f5d0"
            ],
            [
             0.7,
             "#b8e186"
            ],
            [
             0.8,
             "#7fbc41"
            ],
            [
             0.9,
             "#4d9221"
            ],
            [
             1,
             "#276419"
            ]
           ],
           "sequential": [
            [
             0,
             "#0d0887"
            ],
            [
             0.1111111111111111,
             "#46039f"
            ],
            [
             0.2222222222222222,
             "#7201a8"
            ],
            [
             0.3333333333333333,
             "#9c179e"
            ],
            [
             0.4444444444444444,
             "#bd3786"
            ],
            [
             0.5555555555555556,
             "#d8576b"
            ],
            [
             0.6666666666666666,
             "#ed7953"
            ],
            [
             0.7777777777777778,
             "#fb9f3a"
            ],
            [
             0.8888888888888888,
             "#fdca26"
            ],
            [
             1,
             "#f0f921"
            ]
           ],
           "sequentialminus": [
            [
             0,
             "#0d0887"
            ],
            [
             0.1111111111111111,
             "#46039f"
            ],
            [
             0.2222222222222222,
             "#7201a8"
            ],
            [
             0.3333333333333333,
             "#9c179e"
            ],
            [
             0.4444444444444444,
             "#bd3786"
            ],
            [
             0.5555555555555556,
             "#d8576b"
            ],
            [
             0.6666666666666666,
             "#ed7953"
            ],
            [
             0.7777777777777778,
             "#fb9f3a"
            ],
            [
             0.8888888888888888,
             "#fdca26"
            ],
            [
             1,
             "#f0f921"
            ]
           ]
          },
          "colorway": [
           "#636efa",
           "#EF553B",
           "#00cc96",
           "#ab63fa",
           "#FFA15A",
           "#19d3f3",
           "#FF6692",
           "#B6E880",
           "#FF97FF",
           "#FECB52"
          ],
          "font": {
           "color": "#2a3f5f"
          },
          "geo": {
           "bgcolor": "white",
           "lakecolor": "white",
           "landcolor": "#E5ECF6",
           "showlakes": true,
           "showland": true,
           "subunitcolor": "white"
          },
          "hoverlabel": {
           "align": "left"
          },
          "hovermode": "closest",
          "mapbox": {
           "style": "light"
          },
          "paper_bgcolor": "white",
          "plot_bgcolor": "#E5ECF6",
          "polar": {
           "angularaxis": {
            "gridcolor": "white",
            "linecolor": "white",
            "ticks": ""
           },
           "bgcolor": "#E5ECF6",
           "radialaxis": {
            "gridcolor": "white",
            "linecolor": "white",
            "ticks": ""
           }
          },
          "scene": {
           "xaxis": {
            "backgroundcolor": "#E5ECF6",
            "gridcolor": "white",
            "gridwidth": 2,
            "linecolor": "white",
            "showbackground": true,
            "ticks": "",
            "zerolinecolor": "white"
           },
           "yaxis": {
            "backgroundcolor": "#E5ECF6",
            "gridcolor": "white",
            "gridwidth": 2,
            "linecolor": "white",
            "showbackground": true,
            "ticks": "",
            "zerolinecolor": "white"
           },
           "zaxis": {
            "backgroundcolor": "#E5ECF6",
            "gridcolor": "white",
            "gridwidth": 2,
            "linecolor": "white",
            "showbackground": true,
            "ticks": "",
            "zerolinecolor": "white"
           }
          },
          "shapedefaults": {
           "line": {
            "color": "#2a3f5f"
           }
          },
          "ternary": {
           "aaxis": {
            "gridcolor": "white",
            "linecolor": "white",
            "ticks": ""
           },
           "baxis": {
            "gridcolor": "white",
            "linecolor": "white",
            "ticks": ""
           },
           "bgcolor": "#E5ECF6",
           "caxis": {
            "gridcolor": "white",
            "linecolor": "white",
            "ticks": ""
           }
          },
          "title": {
           "x": 0.05
          },
          "xaxis": {
           "automargin": true,
           "gridcolor": "white",
           "linecolor": "white",
           "ticks": "",
           "title": {
            "standoff": 15
           },
           "zerolinecolor": "white",
           "zerolinewidth": 2
          },
          "yaxis": {
           "automargin": true,
           "gridcolor": "white",
           "linecolor": "white",
           "ticks": "",
           "title": {
            "standoff": 15
           },
           "zerolinecolor": "white",
           "zerolinewidth": 2
          }
         }
        },
        "title": {
         "text": "Top 10 Conditions in Death Events"
        }
       }
      }
     },
     "metadata": {},
     "output_type": "display_data"
    }
   ],
   "source": [
    "# Plotly pie chart of the most common conditions in death events\n",
    "import plotly.express as px\n",
    "\n",
    "fig = px.pie(death_conditions_counts.head(10).reset_index(), values='count', names='index', title='Top 10 Conditions in Death Events')\n",
    "fig.show()"
   ]
  },
  {
   "cell_type": "code",
   "execution_count": 29,
   "metadata": {},
   "outputs": [
    {
     "data": {
      "text/html": [
       "<div>\n",
       "<style scoped>\n",
       "    .dataframe tbody tr th:only-of-type {\n",
       "        vertical-align: middle;\n",
       "    }\n",
       "\n",
       "    .dataframe tbody tr th {\n",
       "        vertical-align: top;\n",
       "    }\n",
       "\n",
       "    .dataframe thead th {\n",
       "        text-align: right;\n",
       "    }\n",
       "</style>\n",
       "<table border=\"1\" class=\"dataframe\">\n",
       "  <thead>\n",
       "    <tr style=\"text-align: right;\">\n",
       "      <th></th>\n",
       "      <th>RACE</th>\n",
       "      <th>ETHNICITY</th>\n",
       "      <th>GENDER</th>\n",
       "      <th>Body Weight</th>\n",
       "      <th>Heart rate</th>\n",
       "      <th>Oxygen saturation in Arterial blood</th>\n",
       "      <th>Respiratory rate</th>\n",
       "      <th>CONDITIONS</th>\n",
       "      <th>AGE</th>\n",
       "      <th>DEATH_EVENT</th>\n",
       "      <th>...</th>\n",
       "      <th>Pneumonia (disorder)</th>\n",
       "      <th>Hypoxemia (disorder)</th>\n",
       "      <th>Respiratory distress (finding)</th>\n",
       "      <th>Sepsis caused by virus (disorder)</th>\n",
       "      <th>Acute respiratory failure (disorder)</th>\n",
       "      <th>Acute respiratory distress syndrome (disorder)</th>\n",
       "      <th>Septic shock (disorder)</th>\n",
       "      <th>Acute pulmonary embolism (disorder)</th>\n",
       "      <th>Acute deep venous thrombosis (disorder)</th>\n",
       "      <th>Injury of heart (disorder)</th>\n",
       "    </tr>\n",
       "  </thead>\n",
       "  <tbody>\n",
       "    <tr>\n",
       "      <th>0</th>\n",
       "      <td>white</td>\n",
       "      <td>nonhispanic</td>\n",
       "      <td>F</td>\n",
       "      <td>8.3</td>\n",
       "      <td>136.5</td>\n",
       "      <td>78.6</td>\n",
       "      <td>14.0</td>\n",
       "      <td>Pneumonia (disorder),Hypoxemia (disorder),Resp...</td>\n",
       "      <td>0</td>\n",
       "      <td>False</td>\n",
       "      <td>...</td>\n",
       "      <td>1</td>\n",
       "      <td>1</td>\n",
       "      <td>1</td>\n",
       "      <td>0</td>\n",
       "      <td>0</td>\n",
       "      <td>0</td>\n",
       "      <td>0</td>\n",
       "      <td>1</td>\n",
       "      <td>0</td>\n",
       "      <td>0</td>\n",
       "    </tr>\n",
       "    <tr>\n",
       "      <th>1</th>\n",
       "      <td>white</td>\n",
       "      <td>nonhispanic</td>\n",
       "      <td>F</td>\n",
       "      <td>74.6</td>\n",
       "      <td>89.8</td>\n",
       "      <td>88.9</td>\n",
       "      <td>21.3</td>\n",
       "      <td>Pneumonia (disorder),Hypoxemia (disorder),Resp...</td>\n",
       "      <td>36</td>\n",
       "      <td>False</td>\n",
       "      <td>...</td>\n",
       "      <td>1</td>\n",
       "      <td>1</td>\n",
       "      <td>1</td>\n",
       "      <td>1</td>\n",
       "      <td>0</td>\n",
       "      <td>0</td>\n",
       "      <td>0</td>\n",
       "      <td>1</td>\n",
       "      <td>0</td>\n",
       "      <td>0</td>\n",
       "    </tr>\n",
       "    <tr>\n",
       "      <th>2</th>\n",
       "      <td>white</td>\n",
       "      <td>nonhispanic</td>\n",
       "      <td>F</td>\n",
       "      <td>76.5</td>\n",
       "      <td>130.8</td>\n",
       "      <td>76.9</td>\n",
       "      <td>37.1</td>\n",
       "      <td>Pneumonia (disorder),Hypoxemia (disorder),Resp...</td>\n",
       "      <td>60</td>\n",
       "      <td>False</td>\n",
       "      <td>...</td>\n",
       "      <td>1</td>\n",
       "      <td>1</td>\n",
       "      <td>1</td>\n",
       "      <td>0</td>\n",
       "      <td>0</td>\n",
       "      <td>0</td>\n",
       "      <td>0</td>\n",
       "      <td>0</td>\n",
       "      <td>0</td>\n",
       "      <td>0</td>\n",
       "    </tr>\n",
       "    <tr>\n",
       "      <th>3</th>\n",
       "      <td>white</td>\n",
       "      <td>nonhispanic</td>\n",
       "      <td>F</td>\n",
       "      <td>85.9</td>\n",
       "      <td>136.5</td>\n",
       "      <td>78.9</td>\n",
       "      <td>14.9</td>\n",
       "      <td>Pneumonia (disorder),Hypoxemia (disorder),Resp...</td>\n",
       "      <td>61</td>\n",
       "      <td>False</td>\n",
       "      <td>...</td>\n",
       "      <td>1</td>\n",
       "      <td>1</td>\n",
       "      <td>1</td>\n",
       "      <td>0</td>\n",
       "      <td>0</td>\n",
       "      <td>0</td>\n",
       "      <td>0</td>\n",
       "      <td>0</td>\n",
       "      <td>0</td>\n",
       "      <td>0</td>\n",
       "    </tr>\n",
       "    <tr>\n",
       "      <th>4</th>\n",
       "      <td>white</td>\n",
       "      <td>hispanic</td>\n",
       "      <td>M</td>\n",
       "      <td>87.7</td>\n",
       "      <td>194.2</td>\n",
       "      <td>86.9</td>\n",
       "      <td>24.2</td>\n",
       "      <td>Pneumonia (disorder),Hypoxemia (disorder),Resp...</td>\n",
       "      <td>32</td>\n",
       "      <td>False</td>\n",
       "      <td>...</td>\n",
       "      <td>1</td>\n",
       "      <td>1</td>\n",
       "      <td>1</td>\n",
       "      <td>0</td>\n",
       "      <td>0</td>\n",
       "      <td>0</td>\n",
       "      <td>0</td>\n",
       "      <td>0</td>\n",
       "      <td>0</td>\n",
       "      <td>0</td>\n",
       "    </tr>\n",
       "  </tbody>\n",
       "</table>\n",
       "<p>5 rows × 23 columns</p>\n",
       "</div>"
      ],
      "text/plain": [
       "    RACE    ETHNICITY GENDER  Body Weight  Heart rate  \\\n",
       "0  white  nonhispanic      F          8.3       136.5   \n",
       "1  white  nonhispanic      F         74.6        89.8   \n",
       "2  white  nonhispanic      F         76.5       130.8   \n",
       "3  white  nonhispanic      F         85.9       136.5   \n",
       "4  white     hispanic      M         87.7       194.2   \n",
       "\n",
       "   Oxygen saturation in Arterial blood  Respiratory rate  \\\n",
       "0                                 78.6              14.0   \n",
       "1                                 88.9              21.3   \n",
       "2                                 76.9              37.1   \n",
       "3                                 78.9              14.9   \n",
       "4                                 86.9              24.2   \n",
       "\n",
       "                                          CONDITIONS  AGE  DEATH_EVENT  ...  \\\n",
       "0  Pneumonia (disorder),Hypoxemia (disorder),Resp...    0        False  ...   \n",
       "1  Pneumonia (disorder),Hypoxemia (disorder),Resp...   36        False  ...   \n",
       "2  Pneumonia (disorder),Hypoxemia (disorder),Resp...   60        False  ...   \n",
       "3  Pneumonia (disorder),Hypoxemia (disorder),Resp...   61        False  ...   \n",
       "4  Pneumonia (disorder),Hypoxemia (disorder),Resp...   32        False  ...   \n",
       "\n",
       "   Pneumonia (disorder) Hypoxemia (disorder) Respiratory distress (finding)  \\\n",
       "0                     1                    1                              1   \n",
       "1                     1                    1                              1   \n",
       "2                     1                    1                              1   \n",
       "3                     1                    1                              1   \n",
       "4                     1                    1                              1   \n",
       "\n",
       "   Sepsis caused by virus (disorder)  Acute respiratory failure (disorder)  \\\n",
       "0                                  0                                     0   \n",
       "1                                  1                                     0   \n",
       "2                                  0                                     0   \n",
       "3                                  0                                     0   \n",
       "4                                  0                                     0   \n",
       "\n",
       "   Acute respiratory distress syndrome (disorder)  Septic shock (disorder)  \\\n",
       "0                                               0                        0   \n",
       "1                                               0                        0   \n",
       "2                                               0                        0   \n",
       "3                                               0                        0   \n",
       "4                                               0                        0   \n",
       "\n",
       "   Acute pulmonary embolism (disorder)  \\\n",
       "0                                    1   \n",
       "1                                    1   \n",
       "2                                    0   \n",
       "3                                    0   \n",
       "4                                    0   \n",
       "\n",
       "   Acute deep venous thrombosis (disorder)  Injury of heart (disorder)  \n",
       "0                                        0                           0  \n",
       "1                                        0                           0  \n",
       "2                                        0                           0  \n",
       "3                                        0                           0  \n",
       "4                                        0                           0  \n",
       "\n",
       "[5 rows x 23 columns]"
      ]
     },
     "execution_count": 29,
     "metadata": {},
     "output_type": "execute_result"
    }
   ],
   "source": [
    "# Convert Top 10 Conditions to Binary Columns\n",
    "for condition in death_conditions_counts.head(10).index:\n",
    "    final_df[condition] = final_df['CONDITIONS'].apply(lambda x: 1 if condition in x else 0)\n",
    "\n",
    "final_df.head()"
   ]
  },
  {
   "cell_type": "code",
   "execution_count": 30,
   "metadata": {},
   "outputs": [
    {
     "name": "stdout",
     "output_type": "stream",
     "text": [
      "The number of unique medications is: 51\n",
      "The most common medications in death events are:\n",
      "Acetaminophen 500 MG Oral Tablet                                      349\n",
      "1 ML Enoxaparin sodium 150 MG/ML Prefilled Syringe                    305\n",
      "0.4 ML Enoxaparin sodium 100 MG/ML Prefilled Syringe                  277\n",
      "vancomycin 1000 MG Injection                                          180\n",
      "piperacillin 4000 MG / tazobactam 500 MG Injection                    180\n",
      "4 ML Norepinephrine 1 MG/ML Injection                                 168\n",
      "1 ML Vasopressin (USP) 20 UNT/ML Injection                            168\n",
      "NDA020503 200 ACTUAT Albuterol 0.09 MG/ACTUAT Metered Dose Inhaler    130\n",
      "Albuterol 5 MG/ML Inhalation Solution                                  98\n",
      "0.3 ML Enoxaparin sodium 100 MG/ML Prefilled Syringe                   13\n",
      "Name: count, dtype: int64\n"
     ]
    }
   ],
   "source": [
    "# Extract unique medications \n",
    "def extract_unique_medications(df):\n",
    "    medications = []\n",
    "    for i in range(len(df)):\n",
    "        for medication in df['MEDICATIONS'][i].split(','):\n",
    "            if medication not in medications:\n",
    "                medications.append(medication)\n",
    "    return medications\n",
    "\n",
    "# Extract unique medications\n",
    "medications = extract_unique_medications(final_df)\n",
    "\n",
    "# Count the number of unique medications\n",
    "print('The number of unique medications is:', len(medications))\n",
    "\n",
    "# Get top 10 most common medications in death events classes\n",
    "death_medications = []\n",
    "for i in range(len(final_df)):\n",
    "    if final_df['DEATH_EVENT'][i] == True:\n",
    "        for medication in final_df['MEDICATIONS'][i].split(','):\n",
    "            death_medications.append(medication)\n",
    "\n",
    "death_medications = pd.Series(death_medications)\n",
    "death_medications_counts = death_medications.value_counts()\n",
    "\n",
    "print('The most common medications in death events are:')\n",
    "print(death_medications_counts.head(10))\n"
   ]
  },
  {
   "cell_type": "code",
   "execution_count": 31,
   "metadata": {},
   "outputs": [
    {
     "data": {
      "application/vnd.plotly.v1+json": {
       "config": {
        "plotlyServerURL": "https://plot.ly"
       },
       "data": [
        {
         "domain": {
          "x": [
           0,
           1
          ],
          "y": [
           0,
           1
          ]
         },
         "hovertemplate": "index=%{label}<br>count=%{value}<extra></extra>",
         "labels": [
          "Acetaminophen 500 MG Oral Tablet",
          "1 ML Enoxaparin sodium 150 MG/ML Prefilled Syringe",
          "0.4 ML Enoxaparin sodium 100 MG/ML Prefilled Syringe",
          "vancomycin 1000 MG Injection",
          "piperacillin 4000 MG / tazobactam 500 MG Injection",
          "4 ML Norepinephrine 1 MG/ML Injection",
          "1 ML Vasopressin (USP) 20 UNT/ML Injection",
          "NDA020503 200 ACTUAT Albuterol 0.09 MG/ACTUAT Metered Dose Inhaler",
          "Albuterol 5 MG/ML Inhalation Solution",
          "0.3 ML Enoxaparin sodium 100 MG/ML Prefilled Syringe"
         ],
         "legendgroup": "",
         "name": "",
         "showlegend": true,
         "type": "pie",
         "values": [
          349,
          305,
          277,
          180,
          180,
          168,
          168,
          130,
          98,
          13
         ]
        }
       ],
       "layout": {
        "legend": {
         "tracegroupgap": 0
        },
        "template": {
         "data": {
          "bar": [
           {
            "error_x": {
             "color": "#2a3f5f"
            },
            "error_y": {
             "color": "#2a3f5f"
            },
            "marker": {
             "line": {
              "color": "#E5ECF6",
              "width": 0.5
             },
             "pattern": {
              "fillmode": "overlay",
              "size": 10,
              "solidity": 0.2
             }
            },
            "type": "bar"
           }
          ],
          "barpolar": [
           {
            "marker": {
             "line": {
              "color": "#E5ECF6",
              "width": 0.5
             },
             "pattern": {
              "fillmode": "overlay",
              "size": 10,
              "solidity": 0.2
             }
            },
            "type": "barpolar"
           }
          ],
          "carpet": [
           {
            "aaxis": {
             "endlinecolor": "#2a3f5f",
             "gridcolor": "white",
             "linecolor": "white",
             "minorgridcolor": "white",
             "startlinecolor": "#2a3f5f"
            },
            "baxis": {
             "endlinecolor": "#2a3f5f",
             "gridcolor": "white",
             "linecolor": "white",
             "minorgridcolor": "white",
             "startlinecolor": "#2a3f5f"
            },
            "type": "carpet"
           }
          ],
          "choropleth": [
           {
            "colorbar": {
             "outlinewidth": 0,
             "ticks": ""
            },
            "type": "choropleth"
           }
          ],
          "contour": [
           {
            "colorbar": {
             "outlinewidth": 0,
             "ticks": ""
            },
            "colorscale": [
             [
              0,
              "#0d0887"
             ],
             [
              0.1111111111111111,
              "#46039f"
             ],
             [
              0.2222222222222222,
              "#7201a8"
             ],
             [
              0.3333333333333333,
              "#9c179e"
             ],
             [
              0.4444444444444444,
              "#bd3786"
             ],
             [
              0.5555555555555556,
              "#d8576b"
             ],
             [
              0.6666666666666666,
              "#ed7953"
             ],
             [
              0.7777777777777778,
              "#fb9f3a"
             ],
             [
              0.8888888888888888,
              "#fdca26"
             ],
             [
              1,
              "#f0f921"
             ]
            ],
            "type": "contour"
           }
          ],
          "contourcarpet": [
           {
            "colorbar": {
             "outlinewidth": 0,
             "ticks": ""
            },
            "type": "contourcarpet"
           }
          ],
          "heatmap": [
           {
            "colorbar": {
             "outlinewidth": 0,
             "ticks": ""
            },
            "colorscale": [
             [
              0,
              "#0d0887"
             ],
             [
              0.1111111111111111,
              "#46039f"
             ],
             [
              0.2222222222222222,
              "#7201a8"
             ],
             [
              0.3333333333333333,
              "#9c179e"
             ],
             [
              0.4444444444444444,
              "#bd3786"
             ],
             [
              0.5555555555555556,
              "#d8576b"
             ],
             [
              0.6666666666666666,
              "#ed7953"
             ],
             [
              0.7777777777777778,
              "#fb9f3a"
             ],
             [
              0.8888888888888888,
              "#fdca26"
             ],
             [
              1,
              "#f0f921"
             ]
            ],
            "type": "heatmap"
           }
          ],
          "heatmapgl": [
           {
            "colorbar": {
             "outlinewidth": 0,
             "ticks": ""
            },
            "colorscale": [
             [
              0,
              "#0d0887"
             ],
             [
              0.1111111111111111,
              "#46039f"
             ],
             [
              0.2222222222222222,
              "#7201a8"
             ],
             [
              0.3333333333333333,
              "#9c179e"
             ],
             [
              0.4444444444444444,
              "#bd3786"
             ],
             [
              0.5555555555555556,
              "#d8576b"
             ],
             [
              0.6666666666666666,
              "#ed7953"
             ],
             [
              0.7777777777777778,
              "#fb9f3a"
             ],
             [
              0.8888888888888888,
              "#fdca26"
             ],
             [
              1,
              "#f0f921"
             ]
            ],
            "type": "heatmapgl"
           }
          ],
          "histogram": [
           {
            "marker": {
             "pattern": {
              "fillmode": "overlay",
              "size": 10,
              "solidity": 0.2
             }
            },
            "type": "histogram"
           }
          ],
          "histogram2d": [
           {
            "colorbar": {
             "outlinewidth": 0,
             "ticks": ""
            },
            "colorscale": [
             [
              0,
              "#0d0887"
             ],
             [
              0.1111111111111111,
              "#46039f"
             ],
             [
              0.2222222222222222,
              "#7201a8"
             ],
             [
              0.3333333333333333,
              "#9c179e"
             ],
             [
              0.4444444444444444,
              "#bd3786"
             ],
             [
              0.5555555555555556,
              "#d8576b"
             ],
             [
              0.6666666666666666,
              "#ed7953"
             ],
             [
              0.7777777777777778,
              "#fb9f3a"
             ],
             [
              0.8888888888888888,
              "#fdca26"
             ],
             [
              1,
              "#f0f921"
             ]
            ],
            "type": "histogram2d"
           }
          ],
          "histogram2dcontour": [
           {
            "colorbar": {
             "outlinewidth": 0,
             "ticks": ""
            },
            "colorscale": [
             [
              0,
              "#0d0887"
             ],
             [
              0.1111111111111111,
              "#46039f"
             ],
             [
              0.2222222222222222,
              "#7201a8"
             ],
             [
              0.3333333333333333,
              "#9c179e"
             ],
             [
              0.4444444444444444,
              "#bd3786"
             ],
             [
              0.5555555555555556,
              "#d8576b"
             ],
             [
              0.6666666666666666,
              "#ed7953"
             ],
             [
              0.7777777777777778,
              "#fb9f3a"
             ],
             [
              0.8888888888888888,
              "#fdca26"
             ],
             [
              1,
              "#f0f921"
             ]
            ],
            "type": "histogram2dcontour"
           }
          ],
          "mesh3d": [
           {
            "colorbar": {
             "outlinewidth": 0,
             "ticks": ""
            },
            "type": "mesh3d"
           }
          ],
          "parcoords": [
           {
            "line": {
             "colorbar": {
              "outlinewidth": 0,
              "ticks": ""
             }
            },
            "type": "parcoords"
           }
          ],
          "pie": [
           {
            "automargin": true,
            "type": "pie"
           }
          ],
          "scatter": [
           {
            "fillpattern": {
             "fillmode": "overlay",
             "size": 10,
             "solidity": 0.2
            },
            "type": "scatter"
           }
          ],
          "scatter3d": [
           {
            "line": {
             "colorbar": {
              "outlinewidth": 0,
              "ticks": ""
             }
            },
            "marker": {
             "colorbar": {
              "outlinewidth": 0,
              "ticks": ""
             }
            },
            "type": "scatter3d"
           }
          ],
          "scattercarpet": [
           {
            "marker": {
             "colorbar": {
              "outlinewidth": 0,
              "ticks": ""
             }
            },
            "type": "scattercarpet"
           }
          ],
          "scattergeo": [
           {
            "marker": {
             "colorbar": {
              "outlinewidth": 0,
              "ticks": ""
             }
            },
            "type": "scattergeo"
           }
          ],
          "scattergl": [
           {
            "marker": {
             "colorbar": {
              "outlinewidth": 0,
              "ticks": ""
             }
            },
            "type": "scattergl"
           }
          ],
          "scattermapbox": [
           {
            "marker": {
             "colorbar": {
              "outlinewidth": 0,
              "ticks": ""
             }
            },
            "type": "scattermapbox"
           }
          ],
          "scatterpolar": [
           {
            "marker": {
             "colorbar": {
              "outlinewidth": 0,
              "ticks": ""
             }
            },
            "type": "scatterpolar"
           }
          ],
          "scatterpolargl": [
           {
            "marker": {
             "colorbar": {
              "outlinewidth": 0,
              "ticks": ""
             }
            },
            "type": "scatterpolargl"
           }
          ],
          "scatterternary": [
           {
            "marker": {
             "colorbar": {
              "outlinewidth": 0,
              "ticks": ""
             }
            },
            "type": "scatterternary"
           }
          ],
          "surface": [
           {
            "colorbar": {
             "outlinewidth": 0,
             "ticks": ""
            },
            "colorscale": [
             [
              0,
              "#0d0887"
             ],
             [
              0.1111111111111111,
              "#46039f"
             ],
             [
              0.2222222222222222,
              "#7201a8"
             ],
             [
              0.3333333333333333,
              "#9c179e"
             ],
             [
              0.4444444444444444,
              "#bd3786"
             ],
             [
              0.5555555555555556,
              "#d8576b"
             ],
             [
              0.6666666666666666,
              "#ed7953"
             ],
             [
              0.7777777777777778,
              "#fb9f3a"
             ],
             [
              0.8888888888888888,
              "#fdca26"
             ],
             [
              1,
              "#f0f921"
             ]
            ],
            "type": "surface"
           }
          ],
          "table": [
           {
            "cells": {
             "fill": {
              "color": "#EBF0F8"
             },
             "line": {
              "color": "white"
             }
            },
            "header": {
             "fill": {
              "color": "#C8D4E3"
             },
             "line": {
              "color": "white"
             }
            },
            "type": "table"
           }
          ]
         },
         "layout": {
          "annotationdefaults": {
           "arrowcolor": "#2a3f5f",
           "arrowhead": 0,
           "arrowwidth": 1
          },
          "autotypenumbers": "strict",
          "coloraxis": {
           "colorbar": {
            "outlinewidth": 0,
            "ticks": ""
           }
          },
          "colorscale": {
           "diverging": [
            [
             0,
             "#8e0152"
            ],
            [
             0.1,
             "#c51b7d"
            ],
            [
             0.2,
             "#de77ae"
            ],
            [
             0.3,
             "#f1b6da"
            ],
            [
             0.4,
             "#fde0ef"
            ],
            [
             0.5,
             "#f7f7f7"
            ],
            [
             0.6,
             "#e6f5d0"
            ],
            [
             0.7,
             "#b8e186"
            ],
            [
             0.8,
             "#7fbc41"
            ],
            [
             0.9,
             "#4d9221"
            ],
            [
             1,
             "#276419"
            ]
           ],
           "sequential": [
            [
             0,
             "#0d0887"
            ],
            [
             0.1111111111111111,
             "#46039f"
            ],
            [
             0.2222222222222222,
             "#7201a8"
            ],
            [
             0.3333333333333333,
             "#9c179e"
            ],
            [
             0.4444444444444444,
             "#bd3786"
            ],
            [
             0.5555555555555556,
             "#d8576b"
            ],
            [
             0.6666666666666666,
             "#ed7953"
            ],
            [
             0.7777777777777778,
             "#fb9f3a"
            ],
            [
             0.8888888888888888,
             "#fdca26"
            ],
            [
             1,
             "#f0f921"
            ]
           ],
           "sequentialminus": [
            [
             0,
             "#0d0887"
            ],
            [
             0.1111111111111111,
             "#46039f"
            ],
            [
             0.2222222222222222,
             "#7201a8"
            ],
            [
             0.3333333333333333,
             "#9c179e"
            ],
            [
             0.4444444444444444,
             "#bd3786"
            ],
            [
             0.5555555555555556,
             "#d8576b"
            ],
            [
             0.6666666666666666,
             "#ed7953"
            ],
            [
             0.7777777777777778,
             "#fb9f3a"
            ],
            [
             0.8888888888888888,
             "#fdca26"
            ],
            [
             1,
             "#f0f921"
            ]
           ]
          },
          "colorway": [
           "#636efa",
           "#EF553B",
           "#00cc96",
           "#ab63fa",
           "#FFA15A",
           "#19d3f3",
           "#FF6692",
           "#B6E880",
           "#FF97FF",
           "#FECB52"
          ],
          "font": {
           "color": "#2a3f5f"
          },
          "geo": {
           "bgcolor": "white",
           "lakecolor": "white",
           "landcolor": "#E5ECF6",
           "showlakes": true,
           "showland": true,
           "subunitcolor": "white"
          },
          "hoverlabel": {
           "align": "left"
          },
          "hovermode": "closest",
          "mapbox": {
           "style": "light"
          },
          "paper_bgcolor": "white",
          "plot_bgcolor": "#E5ECF6",
          "polar": {
           "angularaxis": {
            "gridcolor": "white",
            "linecolor": "white",
            "ticks": ""
           },
           "bgcolor": "#E5ECF6",
           "radialaxis": {
            "gridcolor": "white",
            "linecolor": "white",
            "ticks": ""
           }
          },
          "scene": {
           "xaxis": {
            "backgroundcolor": "#E5ECF6",
            "gridcolor": "white",
            "gridwidth": 2,
            "linecolor": "white",
            "showbackground": true,
            "ticks": "",
            "zerolinecolor": "white"
           },
           "yaxis": {
            "backgroundcolor": "#E5ECF6",
            "gridcolor": "white",
            "gridwidth": 2,
            "linecolor": "white",
            "showbackground": true,
            "ticks": "",
            "zerolinecolor": "white"
           },
           "zaxis": {
            "backgroundcolor": "#E5ECF6",
            "gridcolor": "white",
            "gridwidth": 2,
            "linecolor": "white",
            "showbackground": true,
            "ticks": "",
            "zerolinecolor": "white"
           }
          },
          "shapedefaults": {
           "line": {
            "color": "#2a3f5f"
           }
          },
          "ternary": {
           "aaxis": {
            "gridcolor": "white",
            "linecolor": "white",
            "ticks": ""
           },
           "baxis": {
            "gridcolor": "white",
            "linecolor": "white",
            "ticks": ""
           },
           "bgcolor": "#E5ECF6",
           "caxis": {
            "gridcolor": "white",
            "linecolor": "white",
            "ticks": ""
           }
          },
          "title": {
           "x": 0.05
          },
          "xaxis": {
           "automargin": true,
           "gridcolor": "white",
           "linecolor": "white",
           "ticks": "",
           "title": {
            "standoff": 15
           },
           "zerolinecolor": "white",
           "zerolinewidth": 2
          },
          "yaxis": {
           "automargin": true,
           "gridcolor": "white",
           "linecolor": "white",
           "ticks": "",
           "title": {
            "standoff": 15
           },
           "zerolinecolor": "white",
           "zerolinewidth": 2
          }
         }
        },
        "title": {
         "text": "Top 10 Medications in Death Events"
        }
       }
      }
     },
     "metadata": {},
     "output_type": "display_data"
    }
   ],
   "source": [
    "# Plotly Pie Chart of Top 10 Medications\n",
    "import plotly.express as px\n",
    "\n",
    "fig = px.pie(death_medications_counts.head(10).reset_index(), values='count', names='index', title='Top 10 Medications in Death Events')\n",
    "fig.show()\n"
   ]
  },
  {
   "cell_type": "code",
   "execution_count": 32,
   "metadata": {},
   "outputs": [
    {
     "data": {
      "text/html": [
       "<div>\n",
       "<style scoped>\n",
       "    .dataframe tbody tr th:only-of-type {\n",
       "        vertical-align: middle;\n",
       "    }\n",
       "\n",
       "    .dataframe tbody tr th {\n",
       "        vertical-align: top;\n",
       "    }\n",
       "\n",
       "    .dataframe thead th {\n",
       "        text-align: right;\n",
       "    }\n",
       "</style>\n",
       "<table border=\"1\" class=\"dataframe\">\n",
       "  <thead>\n",
       "    <tr style=\"text-align: right;\">\n",
       "      <th></th>\n",
       "      <th>RACE</th>\n",
       "      <th>ETHNICITY</th>\n",
       "      <th>GENDER</th>\n",
       "      <th>Body Weight</th>\n",
       "      <th>Heart rate</th>\n",
       "      <th>Oxygen saturation in Arterial blood</th>\n",
       "      <th>Respiratory rate</th>\n",
       "      <th>CONDITIONS</th>\n",
       "      <th>AGE</th>\n",
       "      <th>DEATH_EVENT</th>\n",
       "      <th>...</th>\n",
       "      <th>Acetaminophen 500 MG Oral Tablet</th>\n",
       "      <th>1 ML Enoxaparin sodium 150 MG/ML Prefilled Syringe</th>\n",
       "      <th>0.4 ML Enoxaparin sodium 100 MG/ML Prefilled Syringe</th>\n",
       "      <th>vancomycin 1000 MG Injection</th>\n",
       "      <th>piperacillin 4000 MG / tazobactam 500 MG Injection</th>\n",
       "      <th>4 ML Norepinephrine 1 MG/ML Injection</th>\n",
       "      <th>1 ML Vasopressin (USP) 20 UNT/ML Injection</th>\n",
       "      <th>NDA020503 200 ACTUAT Albuterol 0.09 MG/ACTUAT Metered Dose Inhaler</th>\n",
       "      <th>Albuterol 5 MG/ML Inhalation Solution</th>\n",
       "      <th>0.3 ML Enoxaparin sodium 100 MG/ML Prefilled Syringe</th>\n",
       "    </tr>\n",
       "  </thead>\n",
       "  <tbody>\n",
       "    <tr>\n",
       "      <th>0</th>\n",
       "      <td>white</td>\n",
       "      <td>nonhispanic</td>\n",
       "      <td>F</td>\n",
       "      <td>8.3</td>\n",
       "      <td>136.5</td>\n",
       "      <td>78.6</td>\n",
       "      <td>14.0</td>\n",
       "      <td>Pneumonia (disorder),Hypoxemia (disorder),Resp...</td>\n",
       "      <td>0</td>\n",
       "      <td>False</td>\n",
       "      <td>...</td>\n",
       "      <td>1</td>\n",
       "      <td>1</td>\n",
       "      <td>1</td>\n",
       "      <td>0</td>\n",
       "      <td>0</td>\n",
       "      <td>0</td>\n",
       "      <td>0</td>\n",
       "      <td>1</td>\n",
       "      <td>0</td>\n",
       "      <td>0</td>\n",
       "    </tr>\n",
       "    <tr>\n",
       "      <th>1</th>\n",
       "      <td>white</td>\n",
       "      <td>nonhispanic</td>\n",
       "      <td>F</td>\n",
       "      <td>74.6</td>\n",
       "      <td>89.8</td>\n",
       "      <td>88.9</td>\n",
       "      <td>21.3</td>\n",
       "      <td>Pneumonia (disorder),Hypoxemia (disorder),Resp...</td>\n",
       "      <td>36</td>\n",
       "      <td>False</td>\n",
       "      <td>...</td>\n",
       "      <td>1</td>\n",
       "      <td>1</td>\n",
       "      <td>1</td>\n",
       "      <td>0</td>\n",
       "      <td>0</td>\n",
       "      <td>0</td>\n",
       "      <td>0</td>\n",
       "      <td>1</td>\n",
       "      <td>0</td>\n",
       "      <td>0</td>\n",
       "    </tr>\n",
       "    <tr>\n",
       "      <th>2</th>\n",
       "      <td>white</td>\n",
       "      <td>nonhispanic</td>\n",
       "      <td>F</td>\n",
       "      <td>76.5</td>\n",
       "      <td>130.8</td>\n",
       "      <td>76.9</td>\n",
       "      <td>37.1</td>\n",
       "      <td>Pneumonia (disorder),Hypoxemia (disorder),Resp...</td>\n",
       "      <td>60</td>\n",
       "      <td>False</td>\n",
       "      <td>...</td>\n",
       "      <td>1</td>\n",
       "      <td>0</td>\n",
       "      <td>1</td>\n",
       "      <td>0</td>\n",
       "      <td>0</td>\n",
       "      <td>0</td>\n",
       "      <td>0</td>\n",
       "      <td>0</td>\n",
       "      <td>0</td>\n",
       "      <td>0</td>\n",
       "    </tr>\n",
       "    <tr>\n",
       "      <th>3</th>\n",
       "      <td>white</td>\n",
       "      <td>nonhispanic</td>\n",
       "      <td>F</td>\n",
       "      <td>85.9</td>\n",
       "      <td>136.5</td>\n",
       "      <td>78.9</td>\n",
       "      <td>14.9</td>\n",
       "      <td>Pneumonia (disorder),Hypoxemia (disorder),Resp...</td>\n",
       "      <td>61</td>\n",
       "      <td>False</td>\n",
       "      <td>...</td>\n",
       "      <td>1</td>\n",
       "      <td>0</td>\n",
       "      <td>1</td>\n",
       "      <td>0</td>\n",
       "      <td>0</td>\n",
       "      <td>0</td>\n",
       "      <td>0</td>\n",
       "      <td>1</td>\n",
       "      <td>0</td>\n",
       "      <td>0</td>\n",
       "    </tr>\n",
       "    <tr>\n",
       "      <th>4</th>\n",
       "      <td>white</td>\n",
       "      <td>hispanic</td>\n",
       "      <td>M</td>\n",
       "      <td>87.7</td>\n",
       "      <td>194.2</td>\n",
       "      <td>86.9</td>\n",
       "      <td>24.2</td>\n",
       "      <td>Pneumonia (disorder),Hypoxemia (disorder),Resp...</td>\n",
       "      <td>32</td>\n",
       "      <td>False</td>\n",
       "      <td>...</td>\n",
       "      <td>1</td>\n",
       "      <td>0</td>\n",
       "      <td>1</td>\n",
       "      <td>0</td>\n",
       "      <td>0</td>\n",
       "      <td>0</td>\n",
       "      <td>0</td>\n",
       "      <td>1</td>\n",
       "      <td>0</td>\n",
       "      <td>0</td>\n",
       "    </tr>\n",
       "  </tbody>\n",
       "</table>\n",
       "<p>5 rows × 33 columns</p>\n",
       "</div>"
      ],
      "text/plain": [
       "    RACE    ETHNICITY GENDER  Body Weight  Heart rate  \\\n",
       "0  white  nonhispanic      F          8.3       136.5   \n",
       "1  white  nonhispanic      F         74.6        89.8   \n",
       "2  white  nonhispanic      F         76.5       130.8   \n",
       "3  white  nonhispanic      F         85.9       136.5   \n",
       "4  white     hispanic      M         87.7       194.2   \n",
       "\n",
       "   Oxygen saturation in Arterial blood  Respiratory rate  \\\n",
       "0                                 78.6              14.0   \n",
       "1                                 88.9              21.3   \n",
       "2                                 76.9              37.1   \n",
       "3                                 78.9              14.9   \n",
       "4                                 86.9              24.2   \n",
       "\n",
       "                                          CONDITIONS  AGE  DEATH_EVENT  ...  \\\n",
       "0  Pneumonia (disorder),Hypoxemia (disorder),Resp...    0        False  ...   \n",
       "1  Pneumonia (disorder),Hypoxemia (disorder),Resp...   36        False  ...   \n",
       "2  Pneumonia (disorder),Hypoxemia (disorder),Resp...   60        False  ...   \n",
       "3  Pneumonia (disorder),Hypoxemia (disorder),Resp...   61        False  ...   \n",
       "4  Pneumonia (disorder),Hypoxemia (disorder),Resp...   32        False  ...   \n",
       "\n",
       "   Acetaminophen 500 MG Oral Tablet  \\\n",
       "0                                 1   \n",
       "1                                 1   \n",
       "2                                 1   \n",
       "3                                 1   \n",
       "4                                 1   \n",
       "\n",
       "  1 ML Enoxaparin sodium 150 MG/ML Prefilled Syringe  \\\n",
       "0                                                  1   \n",
       "1                                                  1   \n",
       "2                                                  0   \n",
       "3                                                  0   \n",
       "4                                                  0   \n",
       "\n",
       "  0.4 ML Enoxaparin sodium 100 MG/ML Prefilled Syringe  \\\n",
       "0                                                  1     \n",
       "1                                                  1     \n",
       "2                                                  1     \n",
       "3                                                  1     \n",
       "4                                                  1     \n",
       "\n",
       "   vancomycin 1000 MG Injection  \\\n",
       "0                             0   \n",
       "1                             0   \n",
       "2                             0   \n",
       "3                             0   \n",
       "4                             0   \n",
       "\n",
       "   piperacillin 4000 MG / tazobactam 500 MG Injection  \\\n",
       "0                                                  0    \n",
       "1                                                  0    \n",
       "2                                                  0    \n",
       "3                                                  0    \n",
       "4                                                  0    \n",
       "\n",
       "   4 ML Norepinephrine 1 MG/ML Injection  \\\n",
       "0                                      0   \n",
       "1                                      0   \n",
       "2                                      0   \n",
       "3                                      0   \n",
       "4                                      0   \n",
       "\n",
       "   1 ML Vasopressin (USP) 20 UNT/ML Injection  \\\n",
       "0                                           0   \n",
       "1                                           0   \n",
       "2                                           0   \n",
       "3                                           0   \n",
       "4                                           0   \n",
       "\n",
       "   NDA020503 200 ACTUAT Albuterol 0.09 MG/ACTUAT Metered Dose Inhaler  \\\n",
       "0                                                  1                    \n",
       "1                                                  1                    \n",
       "2                                                  0                    \n",
       "3                                                  1                    \n",
       "4                                                  1                    \n",
       "\n",
       "   Albuterol 5 MG/ML Inhalation Solution  \\\n",
       "0                                      0   \n",
       "1                                      0   \n",
       "2                                      0   \n",
       "3                                      0   \n",
       "4                                      0   \n",
       "\n",
       "   0.3 ML Enoxaparin sodium 100 MG/ML Prefilled Syringe  \n",
       "0                                                  0     \n",
       "1                                                  0     \n",
       "2                                                  0     \n",
       "3                                                  0     \n",
       "4                                                  0     \n",
       "\n",
       "[5 rows x 33 columns]"
      ]
     },
     "execution_count": 32,
     "metadata": {},
     "output_type": "execute_result"
    }
   ],
   "source": [
    "# Convert Top 10 Medications to Binary Columns\n",
    "for medication in death_medications_counts.head(10).index:\n",
    "    final_df[medication] = final_df['MEDICATIONS'].apply(lambda x: 1 if medication in x else 0)\n",
    "\n",
    "final_df.head()"
   ]
  },
  {
   "cell_type": "code",
   "execution_count": 33,
   "metadata": {},
   "outputs": [
    {
     "name": "stdout",
     "output_type": "stream",
     "text": [
      "The shape of the final dataframe is: (2244, 33)\n"
     ]
    }
   ],
   "source": [
    "# Shape of final dataframe\n",
    "print('The shape of the final dataframe is:', final_df.shape)"
   ]
  },
  {
   "cell_type": "code",
   "execution_count": 34,
   "metadata": {},
   "outputs": [
    {
     "name": "stdout",
     "output_type": "stream",
     "text": [
      "The shape of the final dataframe is: (2244, 31)\n"
     ]
    }
   ],
   "source": [
    "# Drop the original conditions and medications columns\n",
    "final_df = final_df.drop(['CONDITIONS', 'MEDICATIONS'], axis=1)\n",
    "\n",
    "# Shape of final dataframe\n",
    "print('The shape of the final dataframe is:', final_df.shape)"
   ]
  },
  {
   "cell_type": "code",
   "execution_count": 35,
   "metadata": {},
   "outputs": [
    {
     "name": "stdout",
     "output_type": "stream",
     "text": [
      "The number of unique procedures is: 38\n",
      "The most common procedures in death events are:\n",
      "Plain chest X-ray (procedure)                                                          559\n",
      "Oxygen administration by mask (procedure)                                              355\n",
      "Placing subject in prone position (procedure)                                          354\n",
      "Insertion of endotracheal tube (procedure)                                             210\n",
      "Controlled ventilation procedure and therapy  initiation and management (procedure)    210\n",
      "Hemodialysis (procedure)                                                               102\n",
      "Microbial culture (procedure)                                                           27\n",
      "Medication Reconciliation (procedure)                                                    8\n",
      "Heparin therapy (procedure)                                                              4\n",
      "Spirometry (procedure)                                                                   3\n",
      "Name: count, dtype: int64\n"
     ]
    }
   ],
   "source": [
    "# Extract unique procedures\n",
    "def extract_unique_procedures(df):\n",
    "    procedures = []\n",
    "    for i in range(len(df)):\n",
    "        for procedure in df['PROCEDURES'][i].split(','):\n",
    "            if procedure not in procedures:\n",
    "                procedures.append(procedure)\n",
    "    return procedures\n",
    "\n",
    "# Extract unique procedures\n",
    "procedures = extract_unique_procedures(final_df)\n",
    "\n",
    "# Count the number of unique procedures\n",
    "print('The number of unique procedures is:', len(procedures))\n",
    "\n",
    "# Get top 10 most common procedures in death events classes\n",
    "death_procedures = []\n",
    "for i in range(len(final_df)):\n",
    "    if final_df['DEATH_EVENT'][i] == True:\n",
    "        for procedure in final_df['PROCEDURES'][i].split(','):\n",
    "            death_procedures.append(procedure)\n",
    "\n",
    "death_procedures = pd.Series(death_procedures)\n",
    "death_procedures_counts = death_procedures.value_counts()\n",
    "\n",
    "print('The most common procedures in death events are:')\n",
    "print(death_procedures_counts.head(10))"
   ]
  },
  {
   "cell_type": "code",
   "execution_count": 36,
   "metadata": {},
   "outputs": [
    {
     "data": {
      "application/vnd.plotly.v1+json": {
       "config": {
        "plotlyServerURL": "https://plot.ly"
       },
       "data": [
        {
         "domain": {
          "x": [
           0,
           1
          ],
          "y": [
           0,
           1
          ]
         },
         "hovertemplate": "index=%{label}<br>count=%{value}<extra></extra>",
         "labels": [
          "Plain chest X-ray (procedure)",
          "Oxygen administration by mask (procedure)",
          "Placing subject in prone position (procedure)",
          "Insertion of endotracheal tube (procedure)",
          "Controlled ventilation procedure and therapy  initiation and management (procedure)",
          "Hemodialysis (procedure)",
          "Microbial culture (procedure)",
          "Medication Reconciliation (procedure)",
          "Heparin therapy (procedure)",
          "Spirometry (procedure)"
         ],
         "legendgroup": "",
         "name": "",
         "showlegend": true,
         "type": "pie",
         "values": [
          559,
          355,
          354,
          210,
          210,
          102,
          27,
          8,
          4,
          3
         ]
        }
       ],
       "layout": {
        "legend": {
         "tracegroupgap": 0
        },
        "template": {
         "data": {
          "bar": [
           {
            "error_x": {
             "color": "#2a3f5f"
            },
            "error_y": {
             "color": "#2a3f5f"
            },
            "marker": {
             "line": {
              "color": "#E5ECF6",
              "width": 0.5
             },
             "pattern": {
              "fillmode": "overlay",
              "size": 10,
              "solidity": 0.2
             }
            },
            "type": "bar"
           }
          ],
          "barpolar": [
           {
            "marker": {
             "line": {
              "color": "#E5ECF6",
              "width": 0.5
             },
             "pattern": {
              "fillmode": "overlay",
              "size": 10,
              "solidity": 0.2
             }
            },
            "type": "barpolar"
           }
          ],
          "carpet": [
           {
            "aaxis": {
             "endlinecolor": "#2a3f5f",
             "gridcolor": "white",
             "linecolor": "white",
             "minorgridcolor": "white",
             "startlinecolor": "#2a3f5f"
            },
            "baxis": {
             "endlinecolor": "#2a3f5f",
             "gridcolor": "white",
             "linecolor": "white",
             "minorgridcolor": "white",
             "startlinecolor": "#2a3f5f"
            },
            "type": "carpet"
           }
          ],
          "choropleth": [
           {
            "colorbar": {
             "outlinewidth": 0,
             "ticks": ""
            },
            "type": "choropleth"
           }
          ],
          "contour": [
           {
            "colorbar": {
             "outlinewidth": 0,
             "ticks": ""
            },
            "colorscale": [
             [
              0,
              "#0d0887"
             ],
             [
              0.1111111111111111,
              "#46039f"
             ],
             [
              0.2222222222222222,
              "#7201a8"
             ],
             [
              0.3333333333333333,
              "#9c179e"
             ],
             [
              0.4444444444444444,
              "#bd3786"
             ],
             [
              0.5555555555555556,
              "#d8576b"
             ],
             [
              0.6666666666666666,
              "#ed7953"
             ],
             [
              0.7777777777777778,
              "#fb9f3a"
             ],
             [
              0.8888888888888888,
              "#fdca26"
             ],
             [
              1,
              "#f0f921"
             ]
            ],
            "type": "contour"
           }
          ],
          "contourcarpet": [
           {
            "colorbar": {
             "outlinewidth": 0,
             "ticks": ""
            },
            "type": "contourcarpet"
           }
          ],
          "heatmap": [
           {
            "colorbar": {
             "outlinewidth": 0,
             "ticks": ""
            },
            "colorscale": [
             [
              0,
              "#0d0887"
             ],
             [
              0.1111111111111111,
              "#46039f"
             ],
             [
              0.2222222222222222,
              "#7201a8"
             ],
             [
              0.3333333333333333,
              "#9c179e"
             ],
             [
              0.4444444444444444,
              "#bd3786"
             ],
             [
              0.5555555555555556,
              "#d8576b"
             ],
             [
              0.6666666666666666,
              "#ed7953"
             ],
             [
              0.7777777777777778,
              "#fb9f3a"
             ],
             [
              0.8888888888888888,
              "#fdca26"
             ],
             [
              1,
              "#f0f921"
             ]
            ],
            "type": "heatmap"
           }
          ],
          "heatmapgl": [
           {
            "colorbar": {
             "outlinewidth": 0,
             "ticks": ""
            },
            "colorscale": [
             [
              0,
              "#0d0887"
             ],
             [
              0.1111111111111111,
              "#46039f"
             ],
             [
              0.2222222222222222,
              "#7201a8"
             ],
             [
              0.3333333333333333,
              "#9c179e"
             ],
             [
              0.4444444444444444,
              "#bd3786"
             ],
             [
              0.5555555555555556,
              "#d8576b"
             ],
             [
              0.6666666666666666,
              "#ed7953"
             ],
             [
              0.7777777777777778,
              "#fb9f3a"
             ],
             [
              0.8888888888888888,
              "#fdca26"
             ],
             [
              1,
              "#f0f921"
             ]
            ],
            "type": "heatmapgl"
           }
          ],
          "histogram": [
           {
            "marker": {
             "pattern": {
              "fillmode": "overlay",
              "size": 10,
              "solidity": 0.2
             }
            },
            "type": "histogram"
           }
          ],
          "histogram2d": [
           {
            "colorbar": {
             "outlinewidth": 0,
             "ticks": ""
            },
            "colorscale": [
             [
              0,
              "#0d0887"
             ],
             [
              0.1111111111111111,
              "#46039f"
             ],
             [
              0.2222222222222222,
              "#7201a8"
             ],
             [
              0.3333333333333333,
              "#9c179e"
             ],
             [
              0.4444444444444444,
              "#bd3786"
             ],
             [
              0.5555555555555556,
              "#d8576b"
             ],
             [
              0.6666666666666666,
              "#ed7953"
             ],
             [
              0.7777777777777778,
              "#fb9f3a"
             ],
             [
              0.8888888888888888,
              "#fdca26"
             ],
             [
              1,
              "#f0f921"
             ]
            ],
            "type": "histogram2d"
           }
          ],
          "histogram2dcontour": [
           {
            "colorbar": {
             "outlinewidth": 0,
             "ticks": ""
            },
            "colorscale": [
             [
              0,
              "#0d0887"
             ],
             [
              0.1111111111111111,
              "#46039f"
             ],
             [
              0.2222222222222222,
              "#7201a8"
             ],
             [
              0.3333333333333333,
              "#9c179e"
             ],
             [
              0.4444444444444444,
              "#bd3786"
             ],
             [
              0.5555555555555556,
              "#d8576b"
             ],
             [
              0.6666666666666666,
              "#ed7953"
             ],
             [
              0.7777777777777778,
              "#fb9f3a"
             ],
             [
              0.8888888888888888,
              "#fdca26"
             ],
             [
              1,
              "#f0f921"
             ]
            ],
            "type": "histogram2dcontour"
           }
          ],
          "mesh3d": [
           {
            "colorbar": {
             "outlinewidth": 0,
             "ticks": ""
            },
            "type": "mesh3d"
           }
          ],
          "parcoords": [
           {
            "line": {
             "colorbar": {
              "outlinewidth": 0,
              "ticks": ""
             }
            },
            "type": "parcoords"
           }
          ],
          "pie": [
           {
            "automargin": true,
            "type": "pie"
           }
          ],
          "scatter": [
           {
            "fillpattern": {
             "fillmode": "overlay",
             "size": 10,
             "solidity": 0.2
            },
            "type": "scatter"
           }
          ],
          "scatter3d": [
           {
            "line": {
             "colorbar": {
              "outlinewidth": 0,
              "ticks": ""
             }
            },
            "marker": {
             "colorbar": {
              "outlinewidth": 0,
              "ticks": ""
             }
            },
            "type": "scatter3d"
           }
          ],
          "scattercarpet": [
           {
            "marker": {
             "colorbar": {
              "outlinewidth": 0,
              "ticks": ""
             }
            },
            "type": "scattercarpet"
           }
          ],
          "scattergeo": [
           {
            "marker": {
             "colorbar": {
              "outlinewidth": 0,
              "ticks": ""
             }
            },
            "type": "scattergeo"
           }
          ],
          "scattergl": [
           {
            "marker": {
             "colorbar": {
              "outlinewidth": 0,
              "ticks": ""
             }
            },
            "type": "scattergl"
           }
          ],
          "scattermapbox": [
           {
            "marker": {
             "colorbar": {
              "outlinewidth": 0,
              "ticks": ""
             }
            },
            "type": "scattermapbox"
           }
          ],
          "scatterpolar": [
           {
            "marker": {
             "colorbar": {
              "outlinewidth": 0,
              "ticks": ""
             }
            },
            "type": "scatterpolar"
           }
          ],
          "scatterpolargl": [
           {
            "marker": {
             "colorbar": {
              "outlinewidth": 0,
              "ticks": ""
             }
            },
            "type": "scatterpolargl"
           }
          ],
          "scatterternary": [
           {
            "marker": {
             "colorbar": {
              "outlinewidth": 0,
              "ticks": ""
             }
            },
            "type": "scatterternary"
           }
          ],
          "surface": [
           {
            "colorbar": {
             "outlinewidth": 0,
             "ticks": ""
            },
            "colorscale": [
             [
              0,
              "#0d0887"
             ],
             [
              0.1111111111111111,
              "#46039f"
             ],
             [
              0.2222222222222222,
              "#7201a8"
             ],
             [
              0.3333333333333333,
              "#9c179e"
             ],
             [
              0.4444444444444444,
              "#bd3786"
             ],
             [
              0.5555555555555556,
              "#d8576b"
             ],
             [
              0.6666666666666666,
              "#ed7953"
             ],
             [
              0.7777777777777778,
              "#fb9f3a"
             ],
             [
              0.8888888888888888,
              "#fdca26"
             ],
             [
              1,
              "#f0f921"
             ]
            ],
            "type": "surface"
           }
          ],
          "table": [
           {
            "cells": {
             "fill": {
              "color": "#EBF0F8"
             },
             "line": {
              "color": "white"
             }
            },
            "header": {
             "fill": {
              "color": "#C8D4E3"
             },
             "line": {
              "color": "white"
             }
            },
            "type": "table"
           }
          ]
         },
         "layout": {
          "annotationdefaults": {
           "arrowcolor": "#2a3f5f",
           "arrowhead": 0,
           "arrowwidth": 1
          },
          "autotypenumbers": "strict",
          "coloraxis": {
           "colorbar": {
            "outlinewidth": 0,
            "ticks": ""
           }
          },
          "colorscale": {
           "diverging": [
            [
             0,
             "#8e0152"
            ],
            [
             0.1,
             "#c51b7d"
            ],
            [
             0.2,
             "#de77ae"
            ],
            [
             0.3,
             "#f1b6da"
            ],
            [
             0.4,
             "#fde0ef"
            ],
            [
             0.5,
             "#f7f7f7"
            ],
            [
             0.6,
             "#e6f5d0"
            ],
            [
             0.7,
             "#b8e186"
            ],
            [
             0.8,
             "#7fbc41"
            ],
            [
             0.9,
             "#4d9221"
            ],
            [
             1,
             "#276419"
            ]
           ],
           "sequential": [
            [
             0,
             "#0d0887"
            ],
            [
             0.1111111111111111,
             "#46039f"
            ],
            [
             0.2222222222222222,
             "#7201a8"
            ],
            [
             0.3333333333333333,
             "#9c179e"
            ],
            [
             0.4444444444444444,
             "#bd3786"
            ],
            [
             0.5555555555555556,
             "#d8576b"
            ],
            [
             0.6666666666666666,
             "#ed7953"
            ],
            [
             0.7777777777777778,
             "#fb9f3a"
            ],
            [
             0.8888888888888888,
             "#fdca26"
            ],
            [
             1,
             "#f0f921"
            ]
           ],
           "sequentialminus": [
            [
             0,
             "#0d0887"
            ],
            [
             0.1111111111111111,
             "#46039f"
            ],
            [
             0.2222222222222222,
             "#7201a8"
            ],
            [
             0.3333333333333333,
             "#9c179e"
            ],
            [
             0.4444444444444444,
             "#bd3786"
            ],
            [
             0.5555555555555556,
             "#d8576b"
            ],
            [
             0.6666666666666666,
             "#ed7953"
            ],
            [
             0.7777777777777778,
             "#fb9f3a"
            ],
            [
             0.8888888888888888,
             "#fdca26"
            ],
            [
             1,
             "#f0f921"
            ]
           ]
          },
          "colorway": [
           "#636efa",
           "#EF553B",
           "#00cc96",
           "#ab63fa",
           "#FFA15A",
           "#19d3f3",
           "#FF6692",
           "#B6E880",
           "#FF97FF",
           "#FECB52"
          ],
          "font": {
           "color": "#2a3f5f"
          },
          "geo": {
           "bgcolor": "white",
           "lakecolor": "white",
           "landcolor": "#E5ECF6",
           "showlakes": true,
           "showland": true,
           "subunitcolor": "white"
          },
          "hoverlabel": {
           "align": "left"
          },
          "hovermode": "closest",
          "mapbox": {
           "style": "light"
          },
          "paper_bgcolor": "white",
          "plot_bgcolor": "#E5ECF6",
          "polar": {
           "angularaxis": {
            "gridcolor": "white",
            "linecolor": "white",
            "ticks": ""
           },
           "bgcolor": "#E5ECF6",
           "radialaxis": {
            "gridcolor": "white",
            "linecolor": "white",
            "ticks": ""
           }
          },
          "scene": {
           "xaxis": {
            "backgroundcolor": "#E5ECF6",
            "gridcolor": "white",
            "gridwidth": 2,
            "linecolor": "white",
            "showbackground": true,
            "ticks": "",
            "zerolinecolor": "white"
           },
           "yaxis": {
            "backgroundcolor": "#E5ECF6",
            "gridcolor": "white",
            "gridwidth": 2,
            "linecolor": "white",
            "showbackground": true,
            "ticks": "",
            "zerolinecolor": "white"
           },
           "zaxis": {
            "backgroundcolor": "#E5ECF6",
            "gridcolor": "white",
            "gridwidth": 2,
            "linecolor": "white",
            "showbackground": true,
            "ticks": "",
            "zerolinecolor": "white"
           }
          },
          "shapedefaults": {
           "line": {
            "color": "#2a3f5f"
           }
          },
          "ternary": {
           "aaxis": {
            "gridcolor": "white",
            "linecolor": "white",
            "ticks": ""
           },
           "baxis": {
            "gridcolor": "white",
            "linecolor": "white",
            "ticks": ""
           },
           "bgcolor": "#E5ECF6",
           "caxis": {
            "gridcolor": "white",
            "linecolor": "white",
            "ticks": ""
           }
          },
          "title": {
           "x": 0.05
          },
          "xaxis": {
           "automargin": true,
           "gridcolor": "white",
           "linecolor": "white",
           "ticks": "",
           "title": {
            "standoff": 15
           },
           "zerolinecolor": "white",
           "zerolinewidth": 2
          },
          "yaxis": {
           "automargin": true,
           "gridcolor": "white",
           "linecolor": "white",
           "ticks": "",
           "title": {
            "standoff": 15
           },
           "zerolinecolor": "white",
           "zerolinewidth": 2
          }
         }
        },
        "title": {
         "text": "Top 10 Most Common Procedures in Death Events"
        }
       }
      }
     },
     "metadata": {},
     "output_type": "display_data"
    }
   ],
   "source": [
    "# Plotly pie chart of the top 10 most common procedures in death events\n",
    "import plotly.express as px\n",
    "\n",
    "fig = px.pie(death_procedures_counts.head(10).reset_index(), values='count', names='index', title='Top 10 Most Common Procedures in Death Events')\n",
    "fig.show()"
   ]
  },
  {
   "cell_type": "code",
   "execution_count": 37,
   "metadata": {},
   "outputs": [
    {
     "data": {
      "text/html": [
       "<div>\n",
       "<style scoped>\n",
       "    .dataframe tbody tr th:only-of-type {\n",
       "        vertical-align: middle;\n",
       "    }\n",
       "\n",
       "    .dataframe tbody tr th {\n",
       "        vertical-align: top;\n",
       "    }\n",
       "\n",
       "    .dataframe thead th {\n",
       "        text-align: right;\n",
       "    }\n",
       "</style>\n",
       "<table border=\"1\" class=\"dataframe\">\n",
       "  <thead>\n",
       "    <tr style=\"text-align: right;\">\n",
       "      <th></th>\n",
       "      <th>RACE</th>\n",
       "      <th>ETHNICITY</th>\n",
       "      <th>GENDER</th>\n",
       "      <th>Body Weight</th>\n",
       "      <th>Heart rate</th>\n",
       "      <th>Oxygen saturation in Arterial blood</th>\n",
       "      <th>Respiratory rate</th>\n",
       "      <th>AGE</th>\n",
       "      <th>DEATH_EVENT</th>\n",
       "      <th>MAP</th>\n",
       "      <th>...</th>\n",
       "      <th>4 ML Norepinephrine 1 MG/ML Injection</th>\n",
       "      <th>1 ML Vasopressin (USP) 20 UNT/ML Injection</th>\n",
       "      <th>NDA020503 200 ACTUAT Albuterol 0.09 MG/ACTUAT Metered Dose Inhaler</th>\n",
       "      <th>Albuterol 5 MG/ML Inhalation Solution</th>\n",
       "      <th>0.3 ML Enoxaparin sodium 100 MG/ML Prefilled Syringe</th>\n",
       "      <th>Plain chest X-ray (procedure)</th>\n",
       "      <th>Oxygen administration by mask (procedure)</th>\n",
       "      <th>Placing subject in prone position (procedure)</th>\n",
       "      <th>Insertion of endotracheal tube (procedure)</th>\n",
       "      <th>Controlled ventilation procedure and therapy  initiation and management (procedure)</th>\n",
       "    </tr>\n",
       "  </thead>\n",
       "  <tbody>\n",
       "    <tr>\n",
       "      <th>0</th>\n",
       "      <td>white</td>\n",
       "      <td>nonhispanic</td>\n",
       "      <td>F</td>\n",
       "      <td>8.3</td>\n",
       "      <td>136.5</td>\n",
       "      <td>78.6</td>\n",
       "      <td>14.0</td>\n",
       "      <td>0</td>\n",
       "      <td>False</td>\n",
       "      <td>93.333333</td>\n",
       "      <td>...</td>\n",
       "      <td>0</td>\n",
       "      <td>0</td>\n",
       "      <td>1</td>\n",
       "      <td>0</td>\n",
       "      <td>0</td>\n",
       "      <td>1</td>\n",
       "      <td>1</td>\n",
       "      <td>1</td>\n",
       "      <td>0</td>\n",
       "      <td>0</td>\n",
       "    </tr>\n",
       "    <tr>\n",
       "      <th>1</th>\n",
       "      <td>white</td>\n",
       "      <td>nonhispanic</td>\n",
       "      <td>F</td>\n",
       "      <td>74.6</td>\n",
       "      <td>89.8</td>\n",
       "      <td>88.9</td>\n",
       "      <td>21.3</td>\n",
       "      <td>36</td>\n",
       "      <td>False</td>\n",
       "      <td>94.000000</td>\n",
       "      <td>...</td>\n",
       "      <td>0</td>\n",
       "      <td>0</td>\n",
       "      <td>1</td>\n",
       "      <td>0</td>\n",
       "      <td>0</td>\n",
       "      <td>1</td>\n",
       "      <td>1</td>\n",
       "      <td>1</td>\n",
       "      <td>0</td>\n",
       "      <td>0</td>\n",
       "    </tr>\n",
       "    <tr>\n",
       "      <th>2</th>\n",
       "      <td>white</td>\n",
       "      <td>nonhispanic</td>\n",
       "      <td>F</td>\n",
       "      <td>76.5</td>\n",
       "      <td>130.8</td>\n",
       "      <td>76.9</td>\n",
       "      <td>37.1</td>\n",
       "      <td>60</td>\n",
       "      <td>False</td>\n",
       "      <td>92.666667</td>\n",
       "      <td>...</td>\n",
       "      <td>0</td>\n",
       "      <td>0</td>\n",
       "      <td>0</td>\n",
       "      <td>0</td>\n",
       "      <td>0</td>\n",
       "      <td>1</td>\n",
       "      <td>1</td>\n",
       "      <td>1</td>\n",
       "      <td>0</td>\n",
       "      <td>0</td>\n",
       "    </tr>\n",
       "    <tr>\n",
       "      <th>3</th>\n",
       "      <td>white</td>\n",
       "      <td>nonhispanic</td>\n",
       "      <td>F</td>\n",
       "      <td>85.9</td>\n",
       "      <td>136.5</td>\n",
       "      <td>78.9</td>\n",
       "      <td>14.9</td>\n",
       "      <td>61</td>\n",
       "      <td>False</td>\n",
       "      <td>86.666667</td>\n",
       "      <td>...</td>\n",
       "      <td>0</td>\n",
       "      <td>0</td>\n",
       "      <td>1</td>\n",
       "      <td>0</td>\n",
       "      <td>0</td>\n",
       "      <td>1</td>\n",
       "      <td>1</td>\n",
       "      <td>1</td>\n",
       "      <td>0</td>\n",
       "      <td>0</td>\n",
       "    </tr>\n",
       "    <tr>\n",
       "      <th>4</th>\n",
       "      <td>white</td>\n",
       "      <td>hispanic</td>\n",
       "      <td>M</td>\n",
       "      <td>87.7</td>\n",
       "      <td>194.2</td>\n",
       "      <td>86.9</td>\n",
       "      <td>24.2</td>\n",
       "      <td>32</td>\n",
       "      <td>False</td>\n",
       "      <td>88.333333</td>\n",
       "      <td>...</td>\n",
       "      <td>0</td>\n",
       "      <td>0</td>\n",
       "      <td>1</td>\n",
       "      <td>0</td>\n",
       "      <td>0</td>\n",
       "      <td>1</td>\n",
       "      <td>1</td>\n",
       "      <td>1</td>\n",
       "      <td>0</td>\n",
       "      <td>0</td>\n",
       "    </tr>\n",
       "  </tbody>\n",
       "</table>\n",
       "<p>5 rows × 36 columns</p>\n",
       "</div>"
      ],
      "text/plain": [
       "    RACE    ETHNICITY GENDER  Body Weight  Heart rate  \\\n",
       "0  white  nonhispanic      F          8.3       136.5   \n",
       "1  white  nonhispanic      F         74.6        89.8   \n",
       "2  white  nonhispanic      F         76.5       130.8   \n",
       "3  white  nonhispanic      F         85.9       136.5   \n",
       "4  white     hispanic      M         87.7       194.2   \n",
       "\n",
       "   Oxygen saturation in Arterial blood  Respiratory rate  AGE  DEATH_EVENT  \\\n",
       "0                                 78.6              14.0    0        False   \n",
       "1                                 88.9              21.3   36        False   \n",
       "2                                 76.9              37.1   60        False   \n",
       "3                                 78.9              14.9   61        False   \n",
       "4                                 86.9              24.2   32        False   \n",
       "\n",
       "         MAP  ... 4 ML Norepinephrine 1 MG/ML Injection  \\\n",
       "0  93.333333  ...                                     0   \n",
       "1  94.000000  ...                                     0   \n",
       "2  92.666667  ...                                     0   \n",
       "3  86.666667  ...                                     0   \n",
       "4  88.333333  ...                                     0   \n",
       "\n",
       "   1 ML Vasopressin (USP) 20 UNT/ML Injection  \\\n",
       "0                                           0   \n",
       "1                                           0   \n",
       "2                                           0   \n",
       "3                                           0   \n",
       "4                                           0   \n",
       "\n",
       "   NDA020503 200 ACTUAT Albuterol 0.09 MG/ACTUAT Metered Dose Inhaler  \\\n",
       "0                                                  1                    \n",
       "1                                                  1                    \n",
       "2                                                  0                    \n",
       "3                                                  1                    \n",
       "4                                                  1                    \n",
       "\n",
       "   Albuterol 5 MG/ML Inhalation Solution  \\\n",
       "0                                      0   \n",
       "1                                      0   \n",
       "2                                      0   \n",
       "3                                      0   \n",
       "4                                      0   \n",
       "\n",
       "   0.3 ML Enoxaparin sodium 100 MG/ML Prefilled Syringe  \\\n",
       "0                                                  0      \n",
       "1                                                  0      \n",
       "2                                                  0      \n",
       "3                                                  0      \n",
       "4                                                  0      \n",
       "\n",
       "   Plain chest X-ray (procedure)  Oxygen administration by mask (procedure)  \\\n",
       "0                              1                                          1   \n",
       "1                              1                                          1   \n",
       "2                              1                                          1   \n",
       "3                              1                                          1   \n",
       "4                              1                                          1   \n",
       "\n",
       "   Placing subject in prone position (procedure)  \\\n",
       "0                                              1   \n",
       "1                                              1   \n",
       "2                                              1   \n",
       "3                                              1   \n",
       "4                                              1   \n",
       "\n",
       "   Insertion of endotracheal tube (procedure)  \\\n",
       "0                                           0   \n",
       "1                                           0   \n",
       "2                                           0   \n",
       "3                                           0   \n",
       "4                                           0   \n",
       "\n",
       "   Controlled ventilation procedure and therapy  initiation and management (procedure)  \n",
       "0                                                  0                                    \n",
       "1                                                  0                                    \n",
       "2                                                  0                                    \n",
       "3                                                  0                                    \n",
       "4                                                  0                                    \n",
       "\n",
       "[5 rows x 36 columns]"
      ]
     },
     "execution_count": 37,
     "metadata": {},
     "output_type": "execute_result"
    }
   ],
   "source": [
    "# Let's convert the top 20 procedures to binary columns\n",
    "for procedure in death_procedures_counts.head(5).index:\n",
    "    final_df[procedure] = final_df['PROCEDURES'].apply(lambda x: 1 if procedure in x else 0)\n",
    "\n",
    "final_df.head()"
   ]
  },
  {
   "cell_type": "code",
   "execution_count": 38,
   "metadata": {},
   "outputs": [
    {
     "name": "stdout",
     "output_type": "stream",
     "text": [
      "The shape of the final dataframe is: (2244, 35)\n"
     ]
    }
   ],
   "source": [
    "# Drop the original procedures column\n",
    "final_df = final_df.drop(['PROCEDURES'], axis=1)\n",
    "\n",
    "# Shape of final dataframe\n",
    "print('The shape of the final dataframe is:', final_df.shape)\n"
   ]
  },
  {
   "cell_type": "code",
   "execution_count": 39,
   "metadata": {},
   "outputs": [
    {
     "name": "stdout",
     "output_type": "stream",
     "text": [
      "The shape of the final dataframe is: (2244, 37)\n"
     ]
    }
   ],
   "source": [
    "# Convert RACE, ETHNICITY, and GENDER to binary columns\n",
    "final_df = pd.get_dummies(final_df, columns=['RACE', 'ETHNICITY', 'GENDER'], drop_first=True)\n",
    "\n",
    "# Shape of final dataframe\n",
    "print('The shape of the final dataframe is:', final_df.shape)"
   ]
  },
  {
   "cell_type": "code",
   "execution_count": 40,
   "metadata": {},
   "outputs": [
    {
     "data": {
      "text/html": [
       "<div>\n",
       "<style scoped>\n",
       "    .dataframe tbody tr th:only-of-type {\n",
       "        vertical-align: middle;\n",
       "    }\n",
       "\n",
       "    .dataframe tbody tr th {\n",
       "        vertical-align: top;\n",
       "    }\n",
       "\n",
       "    .dataframe thead th {\n",
       "        text-align: right;\n",
       "    }\n",
       "</style>\n",
       "<table border=\"1\" class=\"dataframe\">\n",
       "  <thead>\n",
       "    <tr style=\"text-align: right;\">\n",
       "      <th></th>\n",
       "      <th>Body Weight</th>\n",
       "      <th>Heart rate</th>\n",
       "      <th>Oxygen saturation in Arterial blood</th>\n",
       "      <th>Respiratory rate</th>\n",
       "      <th>AGE</th>\n",
       "      <th>DEATH_EVENT</th>\n",
       "      <th>MAP</th>\n",
       "      <th>Pneumonia (disorder)</th>\n",
       "      <th>Hypoxemia (disorder)</th>\n",
       "      <th>Respiratory distress (finding)</th>\n",
       "      <th>...</th>\n",
       "      <th>Plain chest X-ray (procedure)</th>\n",
       "      <th>Oxygen administration by mask (procedure)</th>\n",
       "      <th>Placing subject in prone position (procedure)</th>\n",
       "      <th>Insertion of endotracheal tube (procedure)</th>\n",
       "      <th>Controlled ventilation procedure and therapy  initiation and management (procedure)</th>\n",
       "      <th>RACE_black</th>\n",
       "      <th>RACE_native</th>\n",
       "      <th>RACE_white</th>\n",
       "      <th>ETHNICITY_nonhispanic</th>\n",
       "      <th>GENDER_M</th>\n",
       "    </tr>\n",
       "  </thead>\n",
       "  <tbody>\n",
       "    <tr>\n",
       "      <th>0</th>\n",
       "      <td>8.3</td>\n",
       "      <td>136.5</td>\n",
       "      <td>78.6</td>\n",
       "      <td>14.0</td>\n",
       "      <td>0</td>\n",
       "      <td>False</td>\n",
       "      <td>93.333333</td>\n",
       "      <td>1</td>\n",
       "      <td>1</td>\n",
       "      <td>1</td>\n",
       "      <td>...</td>\n",
       "      <td>1</td>\n",
       "      <td>1</td>\n",
       "      <td>1</td>\n",
       "      <td>0</td>\n",
       "      <td>0</td>\n",
       "      <td>False</td>\n",
       "      <td>False</td>\n",
       "      <td>True</td>\n",
       "      <td>True</td>\n",
       "      <td>False</td>\n",
       "    </tr>\n",
       "    <tr>\n",
       "      <th>1</th>\n",
       "      <td>74.6</td>\n",
       "      <td>89.8</td>\n",
       "      <td>88.9</td>\n",
       "      <td>21.3</td>\n",
       "      <td>36</td>\n",
       "      <td>False</td>\n",
       "      <td>94.000000</td>\n",
       "      <td>1</td>\n",
       "      <td>1</td>\n",
       "      <td>1</td>\n",
       "      <td>...</td>\n",
       "      <td>1</td>\n",
       "      <td>1</td>\n",
       "      <td>1</td>\n",
       "      <td>0</td>\n",
       "      <td>0</td>\n",
       "      <td>False</td>\n",
       "      <td>False</td>\n",
       "      <td>True</td>\n",
       "      <td>True</td>\n",
       "      <td>False</td>\n",
       "    </tr>\n",
       "    <tr>\n",
       "      <th>2</th>\n",
       "      <td>76.5</td>\n",
       "      <td>130.8</td>\n",
       "      <td>76.9</td>\n",
       "      <td>37.1</td>\n",
       "      <td>60</td>\n",
       "      <td>False</td>\n",
       "      <td>92.666667</td>\n",
       "      <td>1</td>\n",
       "      <td>1</td>\n",
       "      <td>1</td>\n",
       "      <td>...</td>\n",
       "      <td>1</td>\n",
       "      <td>1</td>\n",
       "      <td>1</td>\n",
       "      <td>0</td>\n",
       "      <td>0</td>\n",
       "      <td>False</td>\n",
       "      <td>False</td>\n",
       "      <td>True</td>\n",
       "      <td>True</td>\n",
       "      <td>False</td>\n",
       "    </tr>\n",
       "    <tr>\n",
       "      <th>3</th>\n",
       "      <td>85.9</td>\n",
       "      <td>136.5</td>\n",
       "      <td>78.9</td>\n",
       "      <td>14.9</td>\n",
       "      <td>61</td>\n",
       "      <td>False</td>\n",
       "      <td>86.666667</td>\n",
       "      <td>1</td>\n",
       "      <td>1</td>\n",
       "      <td>1</td>\n",
       "      <td>...</td>\n",
       "      <td>1</td>\n",
       "      <td>1</td>\n",
       "      <td>1</td>\n",
       "      <td>0</td>\n",
       "      <td>0</td>\n",
       "      <td>False</td>\n",
       "      <td>False</td>\n",
       "      <td>True</td>\n",
       "      <td>True</td>\n",
       "      <td>False</td>\n",
       "    </tr>\n",
       "    <tr>\n",
       "      <th>4</th>\n",
       "      <td>87.7</td>\n",
       "      <td>194.2</td>\n",
       "      <td>86.9</td>\n",
       "      <td>24.2</td>\n",
       "      <td>32</td>\n",
       "      <td>False</td>\n",
       "      <td>88.333333</td>\n",
       "      <td>1</td>\n",
       "      <td>1</td>\n",
       "      <td>1</td>\n",
       "      <td>...</td>\n",
       "      <td>1</td>\n",
       "      <td>1</td>\n",
       "      <td>1</td>\n",
       "      <td>0</td>\n",
       "      <td>0</td>\n",
       "      <td>False</td>\n",
       "      <td>False</td>\n",
       "      <td>True</td>\n",
       "      <td>False</td>\n",
       "      <td>True</td>\n",
       "    </tr>\n",
       "  </tbody>\n",
       "</table>\n",
       "<p>5 rows × 37 columns</p>\n",
       "</div>"
      ],
      "text/plain": [
       "   Body Weight  Heart rate  Oxygen saturation in Arterial blood  \\\n",
       "0          8.3       136.5                                 78.6   \n",
       "1         74.6        89.8                                 88.9   \n",
       "2         76.5       130.8                                 76.9   \n",
       "3         85.9       136.5                                 78.9   \n",
       "4         87.7       194.2                                 86.9   \n",
       "\n",
       "   Respiratory rate  AGE  DEATH_EVENT        MAP  Pneumonia (disorder)  \\\n",
       "0              14.0    0        False  93.333333                     1   \n",
       "1              21.3   36        False  94.000000                     1   \n",
       "2              37.1   60        False  92.666667                     1   \n",
       "3              14.9   61        False  86.666667                     1   \n",
       "4              24.2   32        False  88.333333                     1   \n",
       "\n",
       "   Hypoxemia (disorder)  Respiratory distress (finding)  ...  \\\n",
       "0                     1                               1  ...   \n",
       "1                     1                               1  ...   \n",
       "2                     1                               1  ...   \n",
       "3                     1                               1  ...   \n",
       "4                     1                               1  ...   \n",
       "\n",
       "   Plain chest X-ray (procedure)  Oxygen administration by mask (procedure)  \\\n",
       "0                              1                                          1   \n",
       "1                              1                                          1   \n",
       "2                              1                                          1   \n",
       "3                              1                                          1   \n",
       "4                              1                                          1   \n",
       "\n",
       "   Placing subject in prone position (procedure)  \\\n",
       "0                                              1   \n",
       "1                                              1   \n",
       "2                                              1   \n",
       "3                                              1   \n",
       "4                                              1   \n",
       "\n",
       "   Insertion of endotracheal tube (procedure)  \\\n",
       "0                                           0   \n",
       "1                                           0   \n",
       "2                                           0   \n",
       "3                                           0   \n",
       "4                                           0   \n",
       "\n",
       "   Controlled ventilation procedure and therapy  initiation and management (procedure)  \\\n",
       "0                                                  0                                     \n",
       "1                                                  0                                     \n",
       "2                                                  0                                     \n",
       "3                                                  0                                     \n",
       "4                                                  0                                     \n",
       "\n",
       "   RACE_black  RACE_native  RACE_white  ETHNICITY_nonhispanic  GENDER_M  \n",
       "0       False        False        True                   True     False  \n",
       "1       False        False        True                   True     False  \n",
       "2       False        False        True                   True     False  \n",
       "3       False        False        True                   True     False  \n",
       "4       False        False        True                  False      True  \n",
       "\n",
       "[5 rows x 37 columns]"
      ]
     },
     "execution_count": 40,
     "metadata": {},
     "output_type": "execute_result"
    }
   ],
   "source": [
    "final_df.head()"
   ]
  },
  {
   "cell_type": "code",
   "execution_count": 41,
   "metadata": {},
   "outputs": [
    {
     "data": {
      "text/html": [
       "<div>\n",
       "<style scoped>\n",
       "    .dataframe tbody tr th:only-of-type {\n",
       "        vertical-align: middle;\n",
       "    }\n",
       "\n",
       "    .dataframe tbody tr th {\n",
       "        vertical-align: top;\n",
       "    }\n",
       "\n",
       "    .dataframe thead th {\n",
       "        text-align: right;\n",
       "    }\n",
       "</style>\n",
       "<table border=\"1\" class=\"dataframe\">\n",
       "  <thead>\n",
       "    <tr style=\"text-align: right;\">\n",
       "      <th></th>\n",
       "      <th>Body Weight</th>\n",
       "      <th>Heart rate</th>\n",
       "      <th>Oxygen saturation in Arterial blood</th>\n",
       "      <th>Respiratory rate</th>\n",
       "      <th>AGE</th>\n",
       "      <th>DEATH_EVENT</th>\n",
       "      <th>MAP</th>\n",
       "      <th>Pneumonia (disorder)</th>\n",
       "      <th>Hypoxemia (disorder)</th>\n",
       "      <th>Respiratory distress (finding)</th>\n",
       "      <th>...</th>\n",
       "      <th>Plain chest X-ray (procedure)</th>\n",
       "      <th>Oxygen administration by mask (procedure)</th>\n",
       "      <th>Placing subject in prone position (procedure)</th>\n",
       "      <th>Insertion of endotracheal tube (procedure)</th>\n",
       "      <th>Controlled ventilation procedure and therapy  initiation and management (procedure)</th>\n",
       "      <th>RACE_black</th>\n",
       "      <th>RACE_native</th>\n",
       "      <th>RACE_white</th>\n",
       "      <th>ETHNICITY_nonhispanic</th>\n",
       "      <th>GENDER_M</th>\n",
       "    </tr>\n",
       "  </thead>\n",
       "  <tbody>\n",
       "    <tr>\n",
       "      <th>0</th>\n",
       "      <td>8.3</td>\n",
       "      <td>136.5</td>\n",
       "      <td>78.6</td>\n",
       "      <td>14.0</td>\n",
       "      <td>0.0</td>\n",
       "      <td>0.0</td>\n",
       "      <td>93.333333</td>\n",
       "      <td>1.0</td>\n",
       "      <td>1.0</td>\n",
       "      <td>1.0</td>\n",
       "      <td>...</td>\n",
       "      <td>1.0</td>\n",
       "      <td>1.0</td>\n",
       "      <td>1.0</td>\n",
       "      <td>0.0</td>\n",
       "      <td>0.0</td>\n",
       "      <td>0.0</td>\n",
       "      <td>0.0</td>\n",
       "      <td>1.0</td>\n",
       "      <td>1.0</td>\n",
       "      <td>0.0</td>\n",
       "    </tr>\n",
       "    <tr>\n",
       "      <th>1</th>\n",
       "      <td>74.6</td>\n",
       "      <td>89.8</td>\n",
       "      <td>88.9</td>\n",
       "      <td>21.3</td>\n",
       "      <td>36.0</td>\n",
       "      <td>0.0</td>\n",
       "      <td>94.000000</td>\n",
       "      <td>1.0</td>\n",
       "      <td>1.0</td>\n",
       "      <td>1.0</td>\n",
       "      <td>...</td>\n",
       "      <td>1.0</td>\n",
       "      <td>1.0</td>\n",
       "      <td>1.0</td>\n",
       "      <td>0.0</td>\n",
       "      <td>0.0</td>\n",
       "      <td>0.0</td>\n",
       "      <td>0.0</td>\n",
       "      <td>1.0</td>\n",
       "      <td>1.0</td>\n",
       "      <td>0.0</td>\n",
       "    </tr>\n",
       "    <tr>\n",
       "      <th>2</th>\n",
       "      <td>76.5</td>\n",
       "      <td>130.8</td>\n",
       "      <td>76.9</td>\n",
       "      <td>37.1</td>\n",
       "      <td>60.0</td>\n",
       "      <td>0.0</td>\n",
       "      <td>92.666667</td>\n",
       "      <td>1.0</td>\n",
       "      <td>1.0</td>\n",
       "      <td>1.0</td>\n",
       "      <td>...</td>\n",
       "      <td>1.0</td>\n",
       "      <td>1.0</td>\n",
       "      <td>1.0</td>\n",
       "      <td>0.0</td>\n",
       "      <td>0.0</td>\n",
       "      <td>0.0</td>\n",
       "      <td>0.0</td>\n",
       "      <td>1.0</td>\n",
       "      <td>1.0</td>\n",
       "      <td>0.0</td>\n",
       "    </tr>\n",
       "    <tr>\n",
       "      <th>3</th>\n",
       "      <td>85.9</td>\n",
       "      <td>136.5</td>\n",
       "      <td>78.9</td>\n",
       "      <td>14.9</td>\n",
       "      <td>61.0</td>\n",
       "      <td>0.0</td>\n",
       "      <td>86.666667</td>\n",
       "      <td>1.0</td>\n",
       "      <td>1.0</td>\n",
       "      <td>1.0</td>\n",
       "      <td>...</td>\n",
       "      <td>1.0</td>\n",
       "      <td>1.0</td>\n",
       "      <td>1.0</td>\n",
       "      <td>0.0</td>\n",
       "      <td>0.0</td>\n",
       "      <td>0.0</td>\n",
       "      <td>0.0</td>\n",
       "      <td>1.0</td>\n",
       "      <td>1.0</td>\n",
       "      <td>0.0</td>\n",
       "    </tr>\n",
       "    <tr>\n",
       "      <th>4</th>\n",
       "      <td>87.7</td>\n",
       "      <td>194.2</td>\n",
       "      <td>86.9</td>\n",
       "      <td>24.2</td>\n",
       "      <td>32.0</td>\n",
       "      <td>0.0</td>\n",
       "      <td>88.333333</td>\n",
       "      <td>1.0</td>\n",
       "      <td>1.0</td>\n",
       "      <td>1.0</td>\n",
       "      <td>...</td>\n",
       "      <td>1.0</td>\n",
       "      <td>1.0</td>\n",
       "      <td>1.0</td>\n",
       "      <td>0.0</td>\n",
       "      <td>0.0</td>\n",
       "      <td>0.0</td>\n",
       "      <td>0.0</td>\n",
       "      <td>1.0</td>\n",
       "      <td>0.0</td>\n",
       "      <td>1.0</td>\n",
       "    </tr>\n",
       "  </tbody>\n",
       "</table>\n",
       "<p>5 rows × 37 columns</p>\n",
       "</div>"
      ],
      "text/plain": [
       "   Body Weight  Heart rate  Oxygen saturation in Arterial blood  \\\n",
       "0          8.3       136.5                                 78.6   \n",
       "1         74.6        89.8                                 88.9   \n",
       "2         76.5       130.8                                 76.9   \n",
       "3         85.9       136.5                                 78.9   \n",
       "4         87.7       194.2                                 86.9   \n",
       "\n",
       "   Respiratory rate   AGE  DEATH_EVENT        MAP  Pneumonia (disorder)  \\\n",
       "0              14.0   0.0          0.0  93.333333                   1.0   \n",
       "1              21.3  36.0          0.0  94.000000                   1.0   \n",
       "2              37.1  60.0          0.0  92.666667                   1.0   \n",
       "3              14.9  61.0          0.0  86.666667                   1.0   \n",
       "4              24.2  32.0          0.0  88.333333                   1.0   \n",
       "\n",
       "   Hypoxemia (disorder)  Respiratory distress (finding)  ...  \\\n",
       "0                   1.0                             1.0  ...   \n",
       "1                   1.0                             1.0  ...   \n",
       "2                   1.0                             1.0  ...   \n",
       "3                   1.0                             1.0  ...   \n",
       "4                   1.0                             1.0  ...   \n",
       "\n",
       "   Plain chest X-ray (procedure)  Oxygen administration by mask (procedure)  \\\n",
       "0                            1.0                                        1.0   \n",
       "1                            1.0                                        1.0   \n",
       "2                            1.0                                        1.0   \n",
       "3                            1.0                                        1.0   \n",
       "4                            1.0                                        1.0   \n",
       "\n",
       "   Placing subject in prone position (procedure)  \\\n",
       "0                                            1.0   \n",
       "1                                            1.0   \n",
       "2                                            1.0   \n",
       "3                                            1.0   \n",
       "4                                            1.0   \n",
       "\n",
       "   Insertion of endotracheal tube (procedure)  \\\n",
       "0                                         0.0   \n",
       "1                                         0.0   \n",
       "2                                         0.0   \n",
       "3                                         0.0   \n",
       "4                                         0.0   \n",
       "\n",
       "   Controlled ventilation procedure and therapy  initiation and management (procedure)  \\\n",
       "0                                                0.0                                     \n",
       "1                                                0.0                                     \n",
       "2                                                0.0                                     \n",
       "3                                                0.0                                     \n",
       "4                                                0.0                                     \n",
       "\n",
       "   RACE_black  RACE_native  RACE_white  ETHNICITY_nonhispanic  GENDER_M  \n",
       "0         0.0          0.0         1.0                    1.0       0.0  \n",
       "1         0.0          0.0         1.0                    1.0       0.0  \n",
       "2         0.0          0.0         1.0                    1.0       0.0  \n",
       "3         0.0          0.0         1.0                    1.0       0.0  \n",
       "4         0.0          0.0         1.0                    0.0       1.0  \n",
       "\n",
       "[5 rows x 37 columns]"
      ]
     },
     "execution_count": 41,
     "metadata": {},
     "output_type": "execute_result"
    }
   ],
   "source": [
    "# Convert all values to float\n",
    "\n",
    "final_df = final_df.astype(float)\n",
    "\n",
    "final_df.head()"
   ]
  },
  {
   "cell_type": "code",
   "execution_count": 42,
   "metadata": {},
   "outputs": [
    {
     "name": "stdout",
     "output_type": "stream",
     "text": [
      "The number of samples in the majority class is: 1678\n",
      "The number of samples in the minority class is: 566\n"
     ]
    },
    {
     "data": {
      "text/plain": [
       "DEATH_EVENT\n",
       "0.0    1678\n",
       "1.0    1678\n",
       "Name: count, dtype: int64"
      ]
     },
     "execution_count": 42,
     "metadata": {},
     "output_type": "execute_result"
    }
   ],
   "source": [
    "# Let's Up-sample Minority Class\n",
    "from sklearn.utils import resample\n",
    "\n",
    "# Separate majority and minority classes\n",
    "df_majority = final_df[final_df['DEATH_EVENT'] == 0]\n",
    "df_minority = final_df[final_df['DEATH_EVENT'] == 1]\n",
    "\n",
    "# Count the number of samples in each class\n",
    "print('The number of samples in the majority class is:', len(df_majority))\n",
    "print('The number of samples in the minority class is:', len(df_minority))\n",
    "\n",
    "# Up-sample minority class\n",
    "df_minority_upsampled = resample(df_minority, \n",
    "                                 replace=True,     # sample with replacement\n",
    "                                 n_samples=len(df_majority),    # to match majority class\n",
    "                                 random_state=42) # reproducible results\n",
    "\n",
    "# Combine majority class with upsampled minority class\n",
    "final_df = pd.concat([df_majority, df_minority_upsampled])\n",
    "\n",
    "# Display new class counts\n",
    "final_df['DEATH_EVENT'].value_counts()\n",
    "\n"
   ]
  },
  {
   "cell_type": "code",
   "execution_count": 82,
   "metadata": {},
   "outputs": [],
   "source": [
    "from sklearn.model_selection import train_test_split\n",
    "from sklearn.ensemble import RandomForestClassifier\n",
    "from sklearn.metrics import accuracy_score, confusion_matrix, precision_score, recall_score, f1_score\n",
    "\n",
    "# Split the data into features and target\n",
    "X = final_df.drop('DEATH_EVENT', axis=1)\n",
    "Y = final_df['DEATH_EVENT']\n",
    "\n",
    "# Split the data into training and testing sets\n",
    "X_train, X_test, Y_train, Y_test = train_test_split(X, Y, test_size=0.2, random_state=0)"
   ]
  },
  {
   "cell_type": "code",
   "execution_count": 83,
   "metadata": {},
   "outputs": [],
   "source": [
    "# Standardize the data\n",
    "from sklearn.preprocessing import StandardScaler\n",
    "\n",
    "scaler = StandardScaler()\n",
    "X_train = scaler.fit_transform(X_train)\n",
    "X_test = scaler.transform(X_test)"
   ]
  },
  {
   "cell_type": "code",
   "execution_count": 85,
   "metadata": {},
   "outputs": [
    {
     "name": "stdout",
     "output_type": "stream",
     "text": [
      "The accuracy of the Random Forest Classifier is: 0.9702380952380952\n",
      "The precision of the Random Forest Classifier is: 0.9530791788856305\n",
      "The recall of the Random Forest Classifier is: 0.9878419452887538\n",
      "The f1 score of the Random Forest Classifier is: 0.9701492537313433\n",
      "The confusion matrix of the Random Forest Classifier is:\n",
      "[[327  16]\n",
      " [  4 325]]\n"
     ]
    }
   ],
   "source": [
    "# Train a Random Forest Classifier\n",
    "rf = RandomForestClassifier()\n",
    "rf.fit(X_train, Y_train)\n",
    "\n",
    "# Make predictions on the test set\n",
    "Y_pred = rf.predict(X_test)\n",
    "\n",
    "# Calculate the accuracy of the model\n",
    "accuracy = accuracy_score(Y_test, Y_pred)\n",
    "print('The accuracy of the Random Forest Classifier is:', accuracy)\n",
    "precision = precision_score(Y_test, Y_pred)\n",
    "print('The precision of the Random Forest Classifier is:', precision)\n",
    "recall = recall_score(Y_test, Y_pred)\n",
    "print('The recall of the Random Forest Classifier is:', recall)\n",
    "f1 = f1_score(Y_test, Y_pred)\n",
    "print('The f1 score of the Random Forest Classifier is:', f1)\n",
    "cm = confusion_matrix(Y_test, Y_pred)\n",
    "print('The confusion matrix of the Random Forest Classifier is:')\n",
    "print(cm)"
   ]
  },
  {
   "cell_type": "code",
   "execution_count": 86,
   "metadata": {},
   "outputs": [
    {
     "name": "stdout",
     "output_type": "stream",
     "text": [
      "The top 10 most important features are:\n",
      "Sepsis caused by virus (disorder)                       0.222288\n",
      "AGE                                                     0.161838\n",
      "Acute respiratory failure (disorder)                    0.120352\n",
      "Acute respiratory distress syndrome (disorder)          0.044748\n",
      "0.4 ML Enoxaparin sodium 100 MG/ML Prefilled Syringe    0.044540\n",
      "Insertion of endotracheal tube (procedure)              0.040419\n",
      "Body Weight                                             0.039103\n",
      "Heart rate                                              0.035635\n",
      "MAP                                                     0.034168\n",
      "Respiratory rate                                        0.033512\n",
      "dtype: float64\n"
     ]
    }
   ],
   "source": [
    "# Feature Importance \n",
    "feature_importances = pd.Series(rf.feature_importances_, index=X.columns)\n",
    "feature_importances = feature_importances.sort_values(ascending=False)\n",
    "forest_importances = feature_importances\n",
    "\n",
    "# Print the top 10 most important features\n",
    "print('The top 10 most important features are:')\n",
    "print(forest_importances.head(10))"
   ]
  },
  {
   "cell_type": "code",
   "execution_count": 87,
   "metadata": {},
   "outputs": [
    {
     "name": "stdout",
     "output_type": "stream",
     "text": [
      "The accuracy of the Gradient Boosting Classifier is: 0.9642857142857143\n",
      "The precision of the Gradient Boosting Classifier is: 0.9446064139941691\n",
      "The recall of the Gradient Boosting Classifier is: 0.9848024316109423\n",
      "The f1 score of the Gradient Boosting Classifier is: 0.9642857142857143\n",
      "The confusion matrix of the Gradient Boosting Classifier is:\n",
      "[[324  19]\n",
      " [  5 324]]\n"
     ]
    }
   ],
   "source": [
    "# Let's run another classifier to see if we can improve the accuracy\n",
    "from sklearn.ensemble import GradientBoostingClassifier\n",
    "\n",
    "# Train a Gradient Boosting Classifier\n",
    "gb = GradientBoostingClassifier()\n",
    "gb.fit(X_train, Y_train)\n",
    "\n",
    "# Make predictions on the test set\n",
    "Y_pred = gb.predict(X_test)\n",
    "\n",
    "# Calculate the accuracy of the model\n",
    "accuracy = accuracy_score(Y_test, Y_pred)\n",
    "print('The accuracy of the Gradient Boosting Classifier is:', accuracy)\n",
    "precision = precision_score(Y_test, Y_pred)\n",
    "print('The precision of the Gradient Boosting Classifier is:', precision)\n",
    "recall = recall_score(Y_test, Y_pred)\n",
    "print('The recall of the Gradient Boosting Classifier is:', recall)\n",
    "f1 = f1_score(Y_test, Y_pred)\n",
    "print('The f1 score of the Gradient Boosting Classifier is:', f1)\n",
    "cm = confusion_matrix(Y_test, Y_pred)\n",
    "print('The confusion matrix of the Gradient Boosting Classifier is:')\n",
    "print(cm)"
   ]
  },
  {
   "cell_type": "code",
   "execution_count": 88,
   "metadata": {},
   "outputs": [
    {
     "name": "stdout",
     "output_type": "stream",
     "text": [
      "The 10 most important features are:\n",
      "AGE                                                                                    0.306942\n",
      "Sepsis caused by virus (disorder)                                                      0.209995\n",
      "Acute respiratory distress syndrome (disorder)                                         0.089490\n",
      "0.4 ML Enoxaparin sodium 100 MG/ML Prefilled Syringe                                   0.088846\n",
      "Acute respiratory failure (disorder)                                                   0.079063\n",
      "Controlled ventilation procedure and therapy  initiation and management (procedure)    0.066899\n",
      "Plain chest X-ray (procedure)                                                          0.047087\n",
      "Insertion of endotracheal tube (procedure)                                             0.039486\n",
      "MAP                                                                                    0.013820\n",
      "Respiratory rate                                                                       0.011169\n",
      "dtype: float64\n"
     ]
    }
   ],
   "source": [
    "# Feature Importance\n",
    "feature_importances = pd.Series(gb.feature_importances_, index=X.columns)\n",
    "feature_importances = feature_importances.sort_values(ascending=False)\n",
    "gradient_importances = feature_importances\n",
    "\n",
    "print('The 10 most important features are:')\n",
    "print(gradient_importances.head(10))"
   ]
  },
  {
   "cell_type": "code",
   "execution_count": 89,
   "metadata": {},
   "outputs": [
    {
     "name": "stderr",
     "output_type": "stream",
     "text": [
      "c:\\Users\\alejm\\miniconda3\\envs\\healthcareAI\\lib\\site-packages\\sklearn\\ensemble\\_weight_boosting.py:527: FutureWarning:\n",
      "\n",
      "The SAMME.R algorithm (the default) is deprecated and will be removed in 1.6. Use the SAMME algorithm to circumvent this warning.\n",
      "\n"
     ]
    },
    {
     "name": "stdout",
     "output_type": "stream",
     "text": [
      "The accuracy of the AdaBoost Classifier is: 0.9538690476190477\n",
      "The precision of the AdaBoost Classifier is: 0.9487951807228916\n",
      "The recall of the AdaBoost Classifier is: 0.9574468085106383\n",
      "The f1 score of the AdaBoost Classifier is: 0.9531013615733737\n",
      "The confusion matrix of the AdaBoost Classifier is:\n",
      "[[326  17]\n",
      " [ 14 315]]\n"
     ]
    }
   ],
   "source": [
    "# Let's try another classifier to see if we can improve the accuracy\n",
    "from sklearn.ensemble import AdaBoostClassifier\n",
    "\n",
    "# Train an AdaBoost Classifier\n",
    "ab = AdaBoostClassifier()\n",
    "\n",
    "ab.fit(X_train, Y_train)\n",
    "\n",
    "# Make predictions on the test set\n",
    "Y_pred = ab.predict(X_test)\n",
    "\n",
    "# Calculate the accuracy of the model\n",
    "accuracy = accuracy_score(Y_test, Y_pred)\n",
    "print('The accuracy of the AdaBoost Classifier is:', accuracy)\n",
    "precision = precision_score(Y_test, Y_pred)\n",
    "print('The precision of the AdaBoost Classifier is:', precision)\n",
    "recall = recall_score(Y_test, Y_pred)\n",
    "print('The recall of the AdaBoost Classifier is:', recall)\n",
    "f1 = f1_score(Y_test, Y_pred)\n",
    "print('The f1 score of the AdaBoost Classifier is:', f1)\n",
    "cm = confusion_matrix(Y_test, Y_pred)\n",
    "print('The confusion matrix of the AdaBoost Classifier is:')\n",
    "print(cm)"
   ]
  },
  {
   "cell_type": "code",
   "execution_count": 90,
   "metadata": {},
   "outputs": [
    {
     "name": "stdout",
     "output_type": "stream",
     "text": [
      "The 10 most important features are:\n",
      "Respiratory rate                                        0.12\n",
      "Body Weight                                             0.10\n",
      "Sepsis caused by virus (disorder)                       0.10\n",
      "Oxygen saturation in Arterial blood                     0.10\n",
      "AGE                                                     0.10\n",
      "Acute respiratory failure (disorder)                    0.08\n",
      "0.4 ML Enoxaparin sodium 100 MG/ML Prefilled Syringe    0.08\n",
      "MAP                                                     0.08\n",
      "Heart rate                                              0.06\n",
      "Hypoxemia (disorder)                                    0.04\n",
      "dtype: float64\n"
     ]
    }
   ],
   "source": [
    "# Feature Importance\n",
    "feature_importances = pd.Series(ab.feature_importances_, index=X.columns)\n",
    "feature_importances = feature_importances.sort_values(ascending=False)\n",
    "ada_importances = feature_importances\n",
    "\n",
    "print('The 10 most important features are:')\n",
    "print(ada_importances.head(10))"
   ]
  },
  {
   "cell_type": "code",
   "execution_count": 91,
   "metadata": {},
   "outputs": [
    {
     "name": "stdout",
     "output_type": "stream",
     "text": [
      "The accuracy of the Logistic Regression Classifier is: 0.9494047619047619\n",
      "The precision of the Logistic Regression Classifier is: 0.9351032448377581\n",
      "The recall of the Logistic Regression Classifier is: 0.9635258358662614\n",
      "The f1 score of the Logistic Regression Classifier is: 0.9491017964071856\n",
      "The confusion matrix of the Logistic Regression Classifier is:\n",
      "[[321  22]\n",
      " [ 12 317]]\n"
     ]
    }
   ],
   "source": [
    "# Let's try another classifier to see if we can improve the accuracy -- Logistic\n",
    "from sklearn.linear_model import LogisticRegression\n",
    "\n",
    "# Train a Logistic Regression Classifier\n",
    "lr = LogisticRegression()\n",
    "lr.fit(X_train, Y_train)\n",
    "\n",
    "# Make predictions on the test set\n",
    "Y_pred = lr.predict(X_test)\n",
    "\n",
    "# Calculate the accuracy of the model\n",
    "accuracy = accuracy_score(Y_test, Y_pred)\n",
    "print('The accuracy of the Logistic Regression Classifier is:', accuracy)\n",
    "precision = precision_score(Y_test, Y_pred)\n",
    "print('The precision of the Logistic Regression Classifier is:', precision)\n",
    "recall = recall_score(Y_test, Y_pred)\n",
    "print('The recall of the Logistic Regression Classifier is:', recall)\n",
    "f1 = f1_score(Y_test, Y_pred)\n",
    "print('The f1 score of the Logistic Regression Classifier is:', f1)\n",
    "cm = confusion_matrix(Y_test, Y_pred)\n",
    "print('The confusion matrix of the Logistic Regression Classifier is:')\n",
    "print(cm)"
   ]
  },
  {
   "cell_type": "code",
   "execution_count": 92,
   "metadata": {},
   "outputs": [
    {
     "name": "stdout",
     "output_type": "stream",
     "text": [
      "The 10 most important features are:\n",
      "Sepsis caused by virus (disorder)                       2.190729\n",
      "Acute respiratory failure (disorder)                    1.682722\n",
      "AGE                                                     1.523431\n",
      "0.4 ML Enoxaparin sodium 100 MG/ML Prefilled Syringe    1.385794\n",
      "Acute respiratory distress syndrome (disorder)          1.227952\n",
      "Injury of heart (disorder)                              0.944131\n",
      "1 ML Enoxaparin sodium 150 MG/ML Prefilled Syringe      0.727839\n",
      "1 ML Vasopressin (USP) 20 UNT/ML Injection              0.592743\n",
      "4 ML Norepinephrine 1 MG/ML Injection                   0.592743\n",
      "Septic shock (disorder)                                 0.592743\n",
      "dtype: float64\n"
     ]
    }
   ],
   "source": [
    "# Feature Importance\n",
    "feature_importances = pd.Series(lr.coef_[0], index=X.columns)\n",
    "feature_importances = feature_importances.abs().sort_values(ascending=False)\n",
    "logistic_importances = feature_importances\n",
    "\n",
    "print('The 10 most important features are:')\n",
    "print(logistic_importances.head(10))"
   ]
  },
  {
   "cell_type": "code",
   "execution_count": 93,
   "metadata": {},
   "outputs": [
    {
     "name": "stdout",
     "output_type": "stream",
     "text": [
      "The top 10 combined feature importances are:\n",
      "Sepsis caused by virus (disorder)                                                      0.680753\n",
      "AGE                                                                                    0.523053\n",
      "Acute respiratory failure (disorder)                                                   0.490534\n",
      "0.4 ML Enoxaparin sodium 100 MG/ML Prefilled Syringe                                   0.399795\n",
      "Acute respiratory distress syndrome (disorder)                                         0.345548\n",
      "Injury of heart (disorder)                                                             0.242206\n",
      "1 ML Enoxaparin sodium 150 MG/ML Prefilled Syringe                                     0.191087\n",
      "Septic shock (disorder)                                                                0.157566\n",
      "4 ML Norepinephrine 1 MG/ML Injection                                                  0.150551\n",
      "1 ML Vasopressin (USP) 20 UNT/ML Injection                                             0.149392\n",
      "Placing subject in prone position (procedure)                                          0.103375\n",
      "Body Weight                                                                            0.098490\n",
      "Acute deep venous thrombosis (disorder)                                                0.090244\n",
      "RACE_white                                                                             0.087897\n",
      "Controlled ventilation procedure and therapy  initiation and management (procedure)    0.085318\n",
      "Insertion of endotracheal tube (procedure)                                             0.080999\n",
      "Hypoxemia (disorder)                                                                   0.071960\n",
      "Acute pulmonary embolism (disorder)                                                    0.070328\n",
      "Respiratory rate                                                                       0.069025\n",
      "ETHNICITY_nonhispanic                                                                  0.064538\n",
      "Pneumonia (disorder)                                                                   0.064091\n",
      "Acetaminophen 500 MG Oral Tablet                                                       0.063522\n",
      "Oxygen administration by mask (procedure)                                              0.062569\n",
      "Respiratory distress (finding)                                                         0.062079\n",
      "GENDER_M                                                                               0.054650\n",
      "Oxygen saturation in Arterial blood                                                    0.052739\n",
      "Heart rate                                                                             0.045246\n",
      "piperacillin 4000 MG / tazobactam 500 MG Injection                                     0.039499\n",
      "vancomycin 1000 MG Injection                                                           0.038841\n",
      "MAP                                                                                    0.034711\n",
      "Albuterol 5 MG/ML Inhalation Solution                                                  0.031332\n",
      "NDA020503 200 ACTUAT Albuterol 0.09 MG/ACTUAT Metered Dose Inhaler                     0.030035\n",
      "Plain chest X-ray (procedure)                                                          0.022167\n",
      "0.3 ML Enoxaparin sodium 100 MG/ML Prefilled Syringe                                   0.022130\n",
      "RACE_native                                                                            0.019453\n",
      "RACE_black                                                                             0.016247\n",
      "dtype: float64\n"
     ]
    }
   ],
   "source": [
    "# Combine Feature Importances\n",
    "combined_importances = (forest_importances + gradient_importances + ada_importances + logistic_importances) / 4\n",
    "combined_importances = combined_importances.sort_values(ascending=False)\n",
    "# Print the top 10 combined feature importances\n",
    "print('The top 10 combined feature importances are:')\n",
    "print(combined_importances.head(36))"
   ]
  },
  {
   "cell_type": "code",
   "execution_count": 101,
   "metadata": {},
   "outputs": [
    {
     "data": {
      "application/vnd.plotly.v1+json": {
       "config": {
        "plotlyServerURL": "https://plot.ly"
       },
       "data": [
        {
         "name": "Random Forest",
         "type": "bar",
         "x": [
          "Sepsis caused by virus (disorder)",
          "AGE",
          "Acute respiratory failure (disorder)",
          "Acute respiratory distress syndrome (disorder)",
          "0.4 ML Enoxaparin sodium 100 MG/ML Prefilled Syringe",
          "Insertion of endotracheal tube (procedure)",
          "Body Weight",
          "Heart rate",
          "MAP",
          "Respiratory rate",
          "Oxygen saturation in Arterial blood",
          "Controlled ventilation procedure and therapy  initiation and management (procedure)",
          "Oxygen administration by mask (procedure)",
          "Septic shock (disorder)",
          "1 ML Enoxaparin sodium 150 MG/ML Prefilled Syringe"
         ],
         "y": [
          0.2222884565594376,
          0.1618379798102089,
          0.12035209390675182,
          0.044748066513092835,
          0.04453968640961212,
          0.0404185042376625,
          0.03910294057627458,
          0.035635294415254995,
          0.034167595874145806,
          0.03351163075254165,
          0.032752475585619396,
          0.030278962730321417,
          0.02088708603792908,
          0.01587931876063911,
          0.013413080460383149
         ]
        }
       ],
       "layout": {
        "barmode": "group",
        "height": 600,
        "template": {
         "data": {
          "bar": [
           {
            "error_x": {
             "color": "#2a3f5f"
            },
            "error_y": {
             "color": "#2a3f5f"
            },
            "marker": {
             "line": {
              "color": "#E5ECF6",
              "width": 0.5
             },
             "pattern": {
              "fillmode": "overlay",
              "size": 10,
              "solidity": 0.2
             }
            },
            "type": "bar"
           }
          ],
          "barpolar": [
           {
            "marker": {
             "line": {
              "color": "#E5ECF6",
              "width": 0.5
             },
             "pattern": {
              "fillmode": "overlay",
              "size": 10,
              "solidity": 0.2
             }
            },
            "type": "barpolar"
           }
          ],
          "carpet": [
           {
            "aaxis": {
             "endlinecolor": "#2a3f5f",
             "gridcolor": "white",
             "linecolor": "white",
             "minorgridcolor": "white",
             "startlinecolor": "#2a3f5f"
            },
            "baxis": {
             "endlinecolor": "#2a3f5f",
             "gridcolor": "white",
             "linecolor": "white",
             "minorgridcolor": "white",
             "startlinecolor": "#2a3f5f"
            },
            "type": "carpet"
           }
          ],
          "choropleth": [
           {
            "colorbar": {
             "outlinewidth": 0,
             "ticks": ""
            },
            "type": "choropleth"
           }
          ],
          "contour": [
           {
            "colorbar": {
             "outlinewidth": 0,
             "ticks": ""
            },
            "colorscale": [
             [
              0,
              "#0d0887"
             ],
             [
              0.1111111111111111,
              "#46039f"
             ],
             [
              0.2222222222222222,
              "#7201a8"
             ],
             [
              0.3333333333333333,
              "#9c179e"
             ],
             [
              0.4444444444444444,
              "#bd3786"
             ],
             [
              0.5555555555555556,
              "#d8576b"
             ],
             [
              0.6666666666666666,
              "#ed7953"
             ],
             [
              0.7777777777777778,
              "#fb9f3a"
             ],
             [
              0.8888888888888888,
              "#fdca26"
             ],
             [
              1,
              "#f0f921"
             ]
            ],
            "type": "contour"
           }
          ],
          "contourcarpet": [
           {
            "colorbar": {
             "outlinewidth": 0,
             "ticks": ""
            },
            "type": "contourcarpet"
           }
          ],
          "heatmap": [
           {
            "colorbar": {
             "outlinewidth": 0,
             "ticks": ""
            },
            "colorscale": [
             [
              0,
              "#0d0887"
             ],
             [
              0.1111111111111111,
              "#46039f"
             ],
             [
              0.2222222222222222,
              "#7201a8"
             ],
             [
              0.3333333333333333,
              "#9c179e"
             ],
             [
              0.4444444444444444,
              "#bd3786"
             ],
             [
              0.5555555555555556,
              "#d8576b"
             ],
             [
              0.6666666666666666,
              "#ed7953"
             ],
             [
              0.7777777777777778,
              "#fb9f3a"
             ],
             [
              0.8888888888888888,
              "#fdca26"
             ],
             [
              1,
              "#f0f921"
             ]
            ],
            "type": "heatmap"
           }
          ],
          "heatmapgl": [
           {
            "colorbar": {
             "outlinewidth": 0,
             "ticks": ""
            },
            "colorscale": [
             [
              0,
              "#0d0887"
             ],
             [
              0.1111111111111111,
              "#46039f"
             ],
             [
              0.2222222222222222,
              "#7201a8"
             ],
             [
              0.3333333333333333,
              "#9c179e"
             ],
             [
              0.4444444444444444,
              "#bd3786"
             ],
             [
              0.5555555555555556,
              "#d8576b"
             ],
             [
              0.6666666666666666,
              "#ed7953"
             ],
             [
              0.7777777777777778,
              "#fb9f3a"
             ],
             [
              0.8888888888888888,
              "#fdca26"
             ],
             [
              1,
              "#f0f921"
             ]
            ],
            "type": "heatmapgl"
           }
          ],
          "histogram": [
           {
            "marker": {
             "pattern": {
              "fillmode": "overlay",
              "size": 10,
              "solidity": 0.2
             }
            },
            "type": "histogram"
           }
          ],
          "histogram2d": [
           {
            "colorbar": {
             "outlinewidth": 0,
             "ticks": ""
            },
            "colorscale": [
             [
              0,
              "#0d0887"
             ],
             [
              0.1111111111111111,
              "#46039f"
             ],
             [
              0.2222222222222222,
              "#7201a8"
             ],
             [
              0.3333333333333333,
              "#9c179e"
             ],
             [
              0.4444444444444444,
              "#bd3786"
             ],
             [
              0.5555555555555556,
              "#d8576b"
             ],
             [
              0.6666666666666666,
              "#ed7953"
             ],
             [
              0.7777777777777778,
              "#fb9f3a"
             ],
             [
              0.8888888888888888,
              "#fdca26"
             ],
             [
              1,
              "#f0f921"
             ]
            ],
            "type": "histogram2d"
           }
          ],
          "histogram2dcontour": [
           {
            "colorbar": {
             "outlinewidth": 0,
             "ticks": ""
            },
            "colorscale": [
             [
              0,
              "#0d0887"
             ],
             [
              0.1111111111111111,
              "#46039f"
             ],
             [
              0.2222222222222222,
              "#7201a8"
             ],
             [
              0.3333333333333333,
              "#9c179e"
             ],
             [
              0.4444444444444444,
              "#bd3786"
             ],
             [
              0.5555555555555556,
              "#d8576b"
             ],
             [
              0.6666666666666666,
              "#ed7953"
             ],
             [
              0.7777777777777778,
              "#fb9f3a"
             ],
             [
              0.8888888888888888,
              "#fdca26"
             ],
             [
              1,
              "#f0f921"
             ]
            ],
            "type": "histogram2dcontour"
           }
          ],
          "mesh3d": [
           {
            "colorbar": {
             "outlinewidth": 0,
             "ticks": ""
            },
            "type": "mesh3d"
           }
          ],
          "parcoords": [
           {
            "line": {
             "colorbar": {
              "outlinewidth": 0,
              "ticks": ""
             }
            },
            "type": "parcoords"
           }
          ],
          "pie": [
           {
            "automargin": true,
            "type": "pie"
           }
          ],
          "scatter": [
           {
            "fillpattern": {
             "fillmode": "overlay",
             "size": 10,
             "solidity": 0.2
            },
            "type": "scatter"
           }
          ],
          "scatter3d": [
           {
            "line": {
             "colorbar": {
              "outlinewidth": 0,
              "ticks": ""
             }
            },
            "marker": {
             "colorbar": {
              "outlinewidth": 0,
              "ticks": ""
             }
            },
            "type": "scatter3d"
           }
          ],
          "scattercarpet": [
           {
            "marker": {
             "colorbar": {
              "outlinewidth": 0,
              "ticks": ""
             }
            },
            "type": "scattercarpet"
           }
          ],
          "scattergeo": [
           {
            "marker": {
             "colorbar": {
              "outlinewidth": 0,
              "ticks": ""
             }
            },
            "type": "scattergeo"
           }
          ],
          "scattergl": [
           {
            "marker": {
             "colorbar": {
              "outlinewidth": 0,
              "ticks": ""
             }
            },
            "type": "scattergl"
           }
          ],
          "scattermapbox": [
           {
            "marker": {
             "colorbar": {
              "outlinewidth": 0,
              "ticks": ""
             }
            },
            "type": "scattermapbox"
           }
          ],
          "scatterpolar": [
           {
            "marker": {
             "colorbar": {
              "outlinewidth": 0,
              "ticks": ""
             }
            },
            "type": "scatterpolar"
           }
          ],
          "scatterpolargl": [
           {
            "marker": {
             "colorbar": {
              "outlinewidth": 0,
              "ticks": ""
             }
            },
            "type": "scatterpolargl"
           }
          ],
          "scatterternary": [
           {
            "marker": {
             "colorbar": {
              "outlinewidth": 0,
              "ticks": ""
             }
            },
            "type": "scatterternary"
           }
          ],
          "surface": [
           {
            "colorbar": {
             "outlinewidth": 0,
             "ticks": ""
            },
            "colorscale": [
             [
              0,
              "#0d0887"
             ],
             [
              0.1111111111111111,
              "#46039f"
             ],
             [
              0.2222222222222222,
              "#7201a8"
             ],
             [
              0.3333333333333333,
              "#9c179e"
             ],
             [
              0.4444444444444444,
              "#bd3786"
             ],
             [
              0.5555555555555556,
              "#d8576b"
             ],
             [
              0.6666666666666666,
              "#ed7953"
             ],
             [
              0.7777777777777778,
              "#fb9f3a"
             ],
             [
              0.8888888888888888,
              "#fdca26"
             ],
             [
              1,
              "#f0f921"
             ]
            ],
            "type": "surface"
           }
          ],
          "table": [
           {
            "cells": {
             "fill": {
              "color": "#EBF0F8"
             },
             "line": {
              "color": "white"
             }
            },
            "header": {
             "fill": {
              "color": "#C8D4E3"
             },
             "line": {
              "color": "white"
             }
            },
            "type": "table"
           }
          ]
         },
         "layout": {
          "annotationdefaults": {
           "arrowcolor": "#2a3f5f",
           "arrowhead": 0,
           "arrowwidth": 1
          },
          "autotypenumbers": "strict",
          "coloraxis": {
           "colorbar": {
            "outlinewidth": 0,
            "ticks": ""
           }
          },
          "colorscale": {
           "diverging": [
            [
             0,
             "#8e0152"
            ],
            [
             0.1,
             "#c51b7d"
            ],
            [
             0.2,
             "#de77ae"
            ],
            [
             0.3,
             "#f1b6da"
            ],
            [
             0.4,
             "#fde0ef"
            ],
            [
             0.5,
             "#f7f7f7"
            ],
            [
             0.6,
             "#e6f5d0"
            ],
            [
             0.7,
             "#b8e186"
            ],
            [
             0.8,
             "#7fbc41"
            ],
            [
             0.9,
             "#4d9221"
            ],
            [
             1,
             "#276419"
            ]
           ],
           "sequential": [
            [
             0,
             "#0d0887"
            ],
            [
             0.1111111111111111,
             "#46039f"
            ],
            [
             0.2222222222222222,
             "#7201a8"
            ],
            [
             0.3333333333333333,
             "#9c179e"
            ],
            [
             0.4444444444444444,
             "#bd3786"
            ],
            [
             0.5555555555555556,
             "#d8576b"
            ],
            [
             0.6666666666666666,
             "#ed7953"
            ],
            [
             0.7777777777777778,
             "#fb9f3a"
            ],
            [
             0.8888888888888888,
             "#fdca26"
            ],
            [
             1,
             "#f0f921"
            ]
           ],
           "sequentialminus": [
            [
             0,
             "#0d0887"
            ],
            [
             0.1111111111111111,
             "#46039f"
            ],
            [
             0.2222222222222222,
             "#7201a8"
            ],
            [
             0.3333333333333333,
             "#9c179e"
            ],
            [
             0.4444444444444444,
             "#bd3786"
            ],
            [
             0.5555555555555556,
             "#d8576b"
            ],
            [
             0.6666666666666666,
             "#ed7953"
            ],
            [
             0.7777777777777778,
             "#fb9f3a"
            ],
            [
             0.8888888888888888,
             "#fdca26"
            ],
            [
             1,
             "#f0f921"
            ]
           ]
          },
          "colorway": [
           "#636efa",
           "#EF553B",
           "#00cc96",
           "#ab63fa",
           "#FFA15A",
           "#19d3f3",
           "#FF6692",
           "#B6E880",
           "#FF97FF",
           "#FECB52"
          ],
          "font": {
           "color": "#2a3f5f"
          },
          "geo": {
           "bgcolor": "white",
           "lakecolor": "white",
           "landcolor": "#E5ECF6",
           "showlakes": true,
           "showland": true,
           "subunitcolor": "white"
          },
          "hoverlabel": {
           "align": "left"
          },
          "hovermode": "closest",
          "mapbox": {
           "style": "light"
          },
          "paper_bgcolor": "white",
          "plot_bgcolor": "#E5ECF6",
          "polar": {
           "angularaxis": {
            "gridcolor": "white",
            "linecolor": "white",
            "ticks": ""
           },
           "bgcolor": "#E5ECF6",
           "radialaxis": {
            "gridcolor": "white",
            "linecolor": "white",
            "ticks": ""
           }
          },
          "scene": {
           "xaxis": {
            "backgroundcolor": "#E5ECF6",
            "gridcolor": "white",
            "gridwidth": 2,
            "linecolor": "white",
            "showbackground": true,
            "ticks": "",
            "zerolinecolor": "white"
           },
           "yaxis": {
            "backgroundcolor": "#E5ECF6",
            "gridcolor": "white",
            "gridwidth": 2,
            "linecolor": "white",
            "showbackground": true,
            "ticks": "",
            "zerolinecolor": "white"
           },
           "zaxis": {
            "backgroundcolor": "#E5ECF6",
            "gridcolor": "white",
            "gridwidth": 2,
            "linecolor": "white",
            "showbackground": true,
            "ticks": "",
            "zerolinecolor": "white"
           }
          },
          "shapedefaults": {
           "line": {
            "color": "#2a3f5f"
           }
          },
          "ternary": {
           "aaxis": {
            "gridcolor": "white",
            "linecolor": "white",
            "ticks": ""
           },
           "baxis": {
            "gridcolor": "white",
            "linecolor": "white",
            "ticks": ""
           },
           "bgcolor": "#E5ECF6",
           "caxis": {
            "gridcolor": "white",
            "linecolor": "white",
            "ticks": ""
           }
          },
          "title": {
           "x": 0.05
          },
          "xaxis": {
           "automargin": true,
           "gridcolor": "white",
           "linecolor": "white",
           "ticks": "",
           "title": {
            "standoff": 15
           },
           "zerolinecolor": "white",
           "zerolinewidth": 2
          },
          "yaxis": {
           "automargin": true,
           "gridcolor": "white",
           "linecolor": "white",
           "ticks": "",
           "title": {
            "standoff": 15
           },
           "zerolinecolor": "white",
           "zerolinewidth": 2
          }
         }
        },
        "title": {
         "text": "Top 15 Feature Importances of Random Forest Classifier"
        },
        "width": 1200,
        "xaxis": {
         "categoryarray": [
          "Sepsis caused by virus (disorder)",
          "AGE",
          "Acute respiratory failure (disorder)",
          "Acute respiratory distress syndrome (disorder)",
          "0.4 ML Enoxaparin sodium 100 MG/ML Prefilled Syringe",
          "Insertion of endotracheal tube (procedure)",
          "Body Weight",
          "Heart rate",
          "MAP",
          "Respiratory rate",
          "Oxygen saturation in Arterial blood",
          "Controlled ventilation procedure and therapy  initiation and management (procedure)",
          "Oxygen administration by mask (procedure)",
          "Septic shock (disorder)",
          "1 ML Enoxaparin sodium 150 MG/ML Prefilled Syringe"
         ],
         "categoryorder": "array"
        }
       }
      }
     },
     "metadata": {},
     "output_type": "display_data"
    }
   ],
   "source": [
    "# Overlay the feature importances of the Random Forest and Gradient Boosting Classifiers Using Plotly\n",
    "import plotly.graph_objects as go\n",
    "\n",
    "# Get the top 10 combined features\n",
    "# top_10_features = combined_importances.head(15).index\n",
    "top_10_features = forest_importances.head(15).index\n",
    "\n",
    "fig = go.Figure()\n",
    "fig.add_trace(go.Bar(x=top_10_features, y=forest_importances[top_10_features].values, name='Random Forest'))\n",
    "# fig.add_trace(go.Bar(x=top_10_features, y=forest_importances[top_10_features].values, name='Random Forest'))\n",
    "# fig.add_trace(go.Bar(x=top_10_features, y=gradient_importances[top_10_features].values, name='Gradient Boosting'))\n",
    "# fig.add_trace(go.Bar(x=top_10_features, y=ada_importances[top_10_features].values, name='AdaBoost'))\n",
    "# fig.add_trace(go.Bar(x=top_10_features, y=feature_importances[top_10_features].values, name='Logistic Regression'))\n",
    "# fig.add_trace(go.Bar(x=top_10_features, y=combined_importances[top_10_features].values, name='Combined'))\n",
    "\n",
    "# Order the x-axis by the combined feature importances\n",
    "fig.update_xaxes(categoryorder='array', categoryarray=top_10_features)\n",
    "\n",
    "fig.update_layout(title='Top 15 Feature Importances of Random Forest Classifier', barmode='group')\n",
    "fig.update_layout(height=600, width=1200)\n",
    "fig.show()\n"
   ]
  }
 ],
 "metadata": {
  "kernelspec": {
   "display_name": "Python 3",
   "language": "python",
   "name": "python3"
  },
  "language_info": {
   "codemirror_mode": {
    "name": "ipython",
    "version": 3
   },
   "file_extension": ".py",
   "mimetype": "text/x-python",
   "name": "python",
   "nbconvert_exporter": "python",
   "pygments_lexer": "ipython3",
   "version": "3.10.15"
  }
 },
 "nbformat": 4,
 "nbformat_minor": 2
}
